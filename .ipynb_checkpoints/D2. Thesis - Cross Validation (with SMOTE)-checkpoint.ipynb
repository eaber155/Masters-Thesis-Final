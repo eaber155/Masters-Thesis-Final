{
 "cells": [
  {
   "cell_type": "markdown",
   "metadata": {
    "id": "37puETfgRzzg"
   },
   "source": [
    "## MMTHE01 - Masters Thesis"
   ]
  },
  {
   "cell_type": "markdown",
   "metadata": {},
   "source": [
    "### D. Thesis - Create a working model - with SMOTE\n",
    "* Applying SMOTE to the data\n",
    "* When applying SMOTE, it is best not to use one-hot-encoding for categorical data. Therefore the data is imported before encoding and and all categorical "
   ]
  },
  {
   "cell_type": "markdown",
   "metadata": {
    "id": "EoRP98MpR-qj"
   },
   "source": [
    "#### Importing the libraries"
   ]
  },
  {
   "cell_type": "code",
   "execution_count": null,
   "metadata": {
    "id": "N-qiINBQSK2g"
   },
   "outputs": [],
   "source": [
    "import numpy as np\n",
    "import matplotlib.pyplot as plt\n",
    "import pandas as pd\n",
    "import seaborn as sns\n",
    "import os\n",
    "import time\n",
    "from sklearn.metrics import roc_curve, auc\n",
    "from sklearn.metrics import recall_score\n",
    "from sklearn.metrics import precision_score\n",
    "from sklearn.preprocessing import StandardScaler\n",
    "from imblearn.over_sampling import SMOTE\n",
    "import xgboost as xgb\n",
    "from xgboost import XGBClassifier\n",
    "\n",
    "from sklearn.preprocessing import LabelEncoder"
   ]
  },
  {
   "cell_type": "code",
   "execution_count": null,
   "metadata": {},
   "outputs": [],
   "source": [
    "### Import libraries to save models\n",
    "import pickle\n",
    "from tensorflow.keras.models import Model, load_model"
   ]
  },
  {
   "cell_type": "code",
   "execution_count": null,
   "metadata": {},
   "outputs": [],
   "source": [
    "# Check your current working directory\n",
    "cwd = os.getcwd()\n",
    "\n",
    "# Define your relative path\n",
    "relative_path = r\"6. Analysis\"  # adjust this relative to cwd\n",
    "\n",
    "# Build the full path\n",
    "full_path = os.path.join(cwd, relative_path)\n",
    "\n",
    "# Check if it exists before changing\n",
    "if os.path.exists(full_path):\n",
    "    os.chdir(full_path)\n",
    "    print(\"Changed directory to:\", full_path)\n",
    "else:\n",
    "    print(\"Folder does not exist:\", full_path)"
   ]
  },
  {
   "cell_type": "markdown",
   "metadata": {
    "id": "RopL7tUZSQkT"
   },
   "source": [
    "#### Loading the test and train datasets"
   ]
  },
  {
   "cell_type": "code",
   "execution_count": null,
   "metadata": {
    "id": "WwEPNDWySTKm"
   },
   "outputs": [],
   "source": [
    "# Loading the unscaled test and training features and labels datasets\n",
    "with open(\"saved_data/features_label_unscaled_SMOTE.pkl\", \"rb\") as f:\n",
    "    X_train, X_test, y_train, y_test = pickle.load(f)"
   ]
  },
  {
   "cell_type": "code",
   "execution_count": null,
   "metadata": {},
   "outputs": [],
   "source": [
    "# loading the scaled features test and training dataset\n",
    "with open(\"saved_data/features_scaled_SMOTE.pkl\", \"rb\") as f:\n",
    "    X_train_scaled, X_test_scaled = pickle.load(f)"
   ]
  },
  {
   "cell_type": "code",
   "execution_count": null,
   "metadata": {},
   "outputs": [],
   "source": [
    "X_train.shape"
   ]
  },
  {
   "cell_type": "code",
   "execution_count": null,
   "metadata": {},
   "outputs": [],
   "source": []
  },
  {
   "cell_type": "markdown",
   "metadata": {},
   "source": [
    "#### Loading the models"
   ]
  },
  {
   "cell_type": "code",
   "execution_count": null,
   "metadata": {},
   "outputs": [],
   "source": [
    "# load Isolation Forest model\n",
    "with open(\"saved_models/iso_forest_model_SMOTE.pkl\", \"rb\") as f:\n",
    "    iso_forest = pickle.load(f)"
   ]
  },
  {
   "cell_type": "code",
   "execution_count": null,
   "metadata": {},
   "outputs": [],
   "source": [
    "# load Autoencoder model\n",
    "autoencoder = load_model(\"saved_models/autoencoder_model_SMOTE.keras\")"
   ]
  },
  {
   "cell_type": "code",
   "execution_count": null,
   "metadata": {},
   "outputs": [],
   "source": [
    "# load Random Forest model\n",
    "with open(\"saved_models/random_forest_model_SMOTE.pkl\", \"rb\") as f:\n",
    "    rf = pickle.load(f)"
   ]
  },
  {
   "cell_type": "code",
   "execution_count": null,
   "metadata": {},
   "outputs": [],
   "source": [
    "# load XGBoost model\n",
    "xgb = xgb.XGBClassifier()\n",
    "xgb.load_model(\"saved_models/xgb_model_SMOTE.json\")"
   ]
  },
  {
   "cell_type": "code",
   "execution_count": null,
   "metadata": {},
   "outputs": [],
   "source": [
    "# load ANN model\n",
    "model = load_model(\"saved_models/ann_model_SMOTE.keras\")"
   ]
  },
  {
   "cell_type": "code",
   "execution_count": null,
   "metadata": {},
   "outputs": [],
   "source": [
    "# load KNN model\n",
    "with open(\"saved_models/knn_model_SMOTE.pkl\", \"rb\") as f:\n",
    "    knn = pickle.load(f)"
   ]
  },
  {
   "cell_type": "code",
   "execution_count": null,
   "metadata": {},
   "outputs": [],
   "source": [
    "# load SVM model\n",
    "with open(\"saved_models/svm_pipeline_nonSMOTE.pkl\", \"rb\") as f:\n",
    "    pipeline = pickle.load(f)"
   ]
  },
  {
   "cell_type": "code",
   "execution_count": null,
   "metadata": {},
   "outputs": [],
   "source": [
    "# load GBM model\n",
    "with open(\"saved_models/gbm_model_SMOTE.pkl\", \"rb\") as f:\n",
    "    knn = pickle.load(f)"
   ]
  },
  {
   "cell_type": "code",
   "execution_count": null,
   "metadata": {},
   "outputs": [],
   "source": []
  },
  {
   "cell_type": "code",
   "execution_count": null,
   "metadata": {},
   "outputs": [],
   "source": []
  },
  {
   "cell_type": "markdown",
   "metadata": {},
   "source": [
    "### 4.6 Cross Validation Checks"
   ]
  },
  {
   "cell_type": "code",
   "execution_count": null,
   "metadata": {},
   "outputs": [],
   "source": [
    "from sklearn.model_selection import cross_validate"
   ]
  },
  {
   "cell_type": "code",
   "execution_count": null,
   "metadata": {},
   "outputs": [],
   "source": [
    "# Define multiple scoring metrics\n",
    "scoring = {\n",
    "    'auc': 'roc_auc',\n",
    "    'recall': 'recall',\n",
    "    'precision': 'precision',\n",
    "    'F1': make_scorer(f1_score, average='macro')\n",
    "}"
   ]
  },
  {
   "cell_type": "code",
   "execution_count": null,
   "metadata": {},
   "outputs": [],
   "source": []
  },
  {
   "cell_type": "markdown",
   "metadata": {},
   "source": [
    "#### 4.6.1 Cross Validation for the Random Forest Model"
   ]
  },
  {
   "cell_type": "code",
   "execution_count": null,
   "metadata": {},
   "outputs": [],
   "source": [
    "# Run cross-validation once\n",
    "cv_results_rf = cross_validate(\n",
    "    estimator=rf,\n",
    "    X=X_train,\n",
    "    y=y_train,\n",
    "    cv=10,\n",
    "    scoring=scoring\n",
    ")"
   ]
  },
  {
   "cell_type": "code",
   "execution_count": null,
   "metadata": {},
   "outputs": [],
   "source": [
    "# Print results - RF AUC\n",
    "print(\"AUC Random Forest: {:.3f} %\".format(cv_results_rf['test_auc'].mean() * 100))\n",
    "print(\"AUC Standard Deviation Random Forest: {:.5f}\".format(cv_results_rf['test_auc'].std()))"
   ]
  },
  {
   "cell_type": "code",
   "execution_count": null,
   "metadata": {},
   "outputs": [],
   "source": [
    "# Print results - RF Recall\n",
    "print(\"Recall Random Forest: {:.4f}\".format(cv_results_rf['test_recall'].mean()))\n",
    "print(\"Recall Standard Deviation Random Forest: {:.5f}\".format(cv_results_rf['test_recall'].std()))"
   ]
  },
  {
   "cell_type": "code",
   "execution_count": null,
   "metadata": {},
   "outputs": [],
   "source": [
    "# Print results - RF precision\n",
    "print(\"Precision Random Forest: {:.4f}\".format(cv_results_rf['test_precision'].mean()))\n",
    "print(\"Precision Standard Deviation Random Forest: {:.5f}\".format(cv_results_rf['test_precision'].std()))"
   ]
  },
  {
   "cell_type": "code",
   "execution_count": null,
   "metadata": {},
   "outputs": [],
   "source": [
    "# Print results - Random Forest F1 Score\n",
    "print(\"F1-score Random Forest: {:.4f}\".format(cv_results_rf['test_F1'].mean()))\n",
    "print(\"F1-score Standard Deviation Random Forest: {:.5f}\".format_rf(cv_results['test_F1'].std()))"
   ]
  },
  {
   "cell_type": "code",
   "execution_count": null,
   "metadata": {},
   "outputs": [],
   "source": []
  },
  {
   "cell_type": "markdown",
   "metadata": {},
   "source": [
    "#### 4.6.2 Cross Validation for the XGBoost Model"
   ]
  },
  {
   "cell_type": "code",
   "execution_count": null,
   "metadata": {},
   "outputs": [],
   "source": [
    "# Run cross-validation once\n",
    "cv_results_xgb = cross_validate(\n",
    "    estimator=xgb,\n",
    "    X=X_train,\n",
    "    y=y_train,\n",
    "    cv=10,\n",
    "    scoring=scoring\n",
    ")"
   ]
  },
  {
   "cell_type": "code",
   "execution_count": null,
   "metadata": {},
   "outputs": [],
   "source": [
    "# Print results - XGB AUC\n",
    "print(\"AUC XGBoost: {:.3f} %\".format(cv_results_xgb['test_auc'].mean() * 100))\n",
    "print(\"AUC Standard Deviation XGBoost: {:.5f}\".format(cv_results_xgb['test_auc'].std()))"
   ]
  },
  {
   "cell_type": "code",
   "execution_count": null,
   "metadata": {},
   "outputs": [],
   "source": [
    "# Print results - XGB Recall\n",
    "print(\"Recall XGBoost: {:.4f}\".format(cv_results_xgb['test_recall'].mean()))\n",
    "print(\"Recall Standard Deviation XGBoost: {:.5f}\".format(cv_results_xgb['test_recall'].std()))"
   ]
  },
  {
   "cell_type": "code",
   "execution_count": null,
   "metadata": {},
   "outputs": [],
   "source": [
    "# Print results - XGB Precision\n",
    "print(\"Precision XGBoost: {:.4f}\".format(cv_results_xgb['test_precision'].mean()))\n",
    "print(\"Precision Standard Deviation XGBoost: {:.5f}\".format(cv_results_xgb['test_precision'].std()))"
   ]
  },
  {
   "cell_type": "code",
   "execution_count": null,
   "metadata": {},
   "outputs": [],
   "source": [
    "# Print results - XGB F1 Score\n",
    "print(\"F1-score XGBoost: {:.4f}\".format(cv_results_xgb['test_F1'].mean()))\n",
    "print(\"F1-score Standard Deviation XGBoost: {:.5f}\".format(cv_results_xgb['test_F1'].std()))"
   ]
  },
  {
   "cell_type": "code",
   "execution_count": null,
   "metadata": {},
   "outputs": [],
   "source": []
  },
  {
   "cell_type": "markdown",
   "metadata": {},
   "source": [
    "#### 4.6.3 Cross Validation for the KNN Model"
   ]
  },
  {
   "cell_type": "code",
   "execution_count": null,
   "metadata": {},
   "outputs": [],
   "source": [
    "# Run cross-validation once\n",
    "cv_results_knn = cross_validate(\n",
    "    estimator=knn,\n",
    "    X=X_train_scaled,\n",
    "    y=y_train,\n",
    "    cv=10,\n",
    "    scoring=scoring\n",
    ")"
   ]
  },
  {
   "cell_type": "code",
   "execution_count": null,
   "metadata": {},
   "outputs": [],
   "source": [
    "# Print results - KNN AUC\n",
    "print(\"AUC KNN: {:.3f} %\".format(cv_results_knn['test_auc'].mean() * 100))\n",
    "print(\"AUC Standard Deviation KNN: {:.5f}\".format(cv_results_knn['test_auc'].std()))"
   ]
  },
  {
   "cell_type": "code",
   "execution_count": null,
   "metadata": {},
   "outputs": [],
   "source": [
    "# Print results - KNN Recall\n",
    "print(\"Recall KNN: {:.4f}\".format(cv_results_knn['test_recall'].mean()))\n",
    "print(\"Recall Standard Deviation KNN: {:.5f}\".format(cv_results_knn['test_recall'].std()))"
   ]
  },
  {
   "cell_type": "code",
   "execution_count": null,
   "metadata": {},
   "outputs": [],
   "source": [
    "# Print results - KNN Precision\n",
    "print(\"Precision KNN: {:.4f}\".format(cv_results_knn['test_precision'].mean()))\n",
    "print(\"Precision Standard Deviation KNN: {:.5f}\".format(cv_results_knn['test_precision'].std()))"
   ]
  },
  {
   "cell_type": "code",
   "execution_count": null,
   "metadata": {},
   "outputs": [],
   "source": [
    "# Print results - KNN F1 Score\n",
    "print(\"F1-score KNN: {:.4f}\".format(cv_results['test_F1'].mean()))\n",
    "print(\"F1-score Standard Deviation KNN: {:.5f}\".format(cv_results['test_F1'].std()))"
   ]
  },
  {
   "cell_type": "code",
   "execution_count": null,
   "metadata": {},
   "outputs": [],
   "source": []
  },
  {
   "cell_type": "markdown",
   "metadata": {},
   "source": [
    "#### 4.6.4 Cross Validation for the SVM Model"
   ]
  },
  {
   "cell_type": "code",
   "execution_count": null,
   "metadata": {},
   "outputs": [],
   "source": [
    "# Run cross-validation\n",
    "cv_results_svm = cross_validate(\n",
    "    estimator=pipeline,\n",
    "    X=X_train_scaled,\n",
    "    y=y_train,\n",
    "    cv=10,\n",
    "    scoring=scoring\n",
    ")"
   ]
  },
  {
   "cell_type": "code",
   "execution_count": null,
   "metadata": {},
   "outputs": [],
   "source": [
    "# Print results - SVM AUC\n",
    "print(\"AUC SVM: {:.3f} %\".format(cv_results_svm['test_AUC'].mean() * 100))\n",
    "print(\"AUC Standard Deviation SVM: {:.5f}\".format(cv_results_svm['test_AUC'].std()))"
   ]
  },
  {
   "cell_type": "code",
   "execution_count": null,
   "metadata": {},
   "outputs": [],
   "source": [
    "# Print results - SVM Recall\n",
    "print(\"Recall SVM: {:.4f}\".format(cv_results_svm['test_Recall'].mean()))\n",
    "print(\"Recall Standard Deviation SVM: {:.5f}\".format(cv_results_svm['test_Recall'].std()))"
   ]
  },
  {
   "cell_type": "code",
   "execution_count": null,
   "metadata": {},
   "outputs": [],
   "source": [
    "# Print results - SVM Precision\n",
    "print(\"Precision SVM: {:.4f}\".format(cv_results_svm['test_Precision'].mean()))\n",
    "print(\"Precision Standard Deviation SVM: {:.5f}\".format(cv_results_svm['test_Precision'].std()))"
   ]
  },
  {
   "cell_type": "code",
   "execution_count": null,
   "metadata": {},
   "outputs": [],
   "source": [
    "# Print results - SVM F1 Score\n",
    "print(\"F1-score SVM: {:.4f}\".format(cv_results_svm['test_F1'].mean()))\n",
    "print(\"F1-score Standard Deviation SVM: {:.5f}\".format(cv_results_svm['test_F1'].std()))"
   ]
  },
  {
   "cell_type": "code",
   "execution_count": null,
   "metadata": {},
   "outputs": [],
   "source": []
  },
  {
   "cell_type": "markdown",
   "metadata": {},
   "source": [
    "#### 4.6.5 Cross Validation for the GBM Model"
   ]
  },
  {
   "cell_type": "code",
   "execution_count": null,
   "metadata": {},
   "outputs": [],
   "source": [
    "# Run cross-validation\n",
    "cv_results_gbm = cross_validate(\n",
    "    estimator=gbm,\n",
    "    X=X_train,\n",
    "    y=y_train,\n",
    "    cv=10,\n",
    "    scoring=scoring\n",
    ")"
   ]
  },
  {
   "cell_type": "code",
   "execution_count": null,
   "metadata": {},
   "outputs": [],
   "source": [
    "# Print results - GBM AUC\n",
    "print(\"AUC GBM: {:.3f} %\".format(cv_results_gbm['test_AUC'].mean() * 100))\n",
    "print(\"AUC Standard Deviation GBM: {:.5f}\".format(cv_results_gbm['test_AUC'].std()))"
   ]
  },
  {
   "cell_type": "code",
   "execution_count": null,
   "metadata": {},
   "outputs": [],
   "source": [
    "# Print results - GBM Recall\n",
    "print(\"Recall GBM: {:.4f}\".format(cv_results_gbm['test_Recall'].mean()))\n",
    "print(\"Recall Standard Deviation GBM: {:.5f}\".format(cv_results_gbm['test_Recall'].std()))"
   ]
  },
  {
   "cell_type": "code",
   "execution_count": null,
   "metadata": {},
   "outputs": [],
   "source": [
    "# Print results - GBM Precision\n",
    "print(\"Precision GBM: {:.4f}\".format(cv_results_gbm['test_Precision'].mean()))\n",
    "print(\"Precision Standard Deviation GBM: {:.5f}\".format(cv_results_gbm['test_Precision'].std()))"
   ]
  },
  {
   "cell_type": "code",
   "execution_count": null,
   "metadata": {},
   "outputs": [],
   "source": [
    "# Print results - GBM F1 Score\n",
    "print(\"F1-score GBM: {:.4f}\".format(cv_results_gbm['test_F1'].mean()))\n",
    "print(\"F1-score Standard Deviation GBM: {:.5f}\".format(cv_results_gbm['test_F1'].std()))"
   ]
  },
  {
   "cell_type": "code",
   "execution_count": null,
   "metadata": {},
   "outputs": [],
   "source": []
  },
  {
   "cell_type": "code",
   "execution_count": null,
   "metadata": {},
   "outputs": [],
   "source": []
  }
 ],
 "metadata": {
  "colab": {
   "authorship_tag": "ABX9TyOihYlX/ooG5h+qw0sLIjn8",
   "collapsed_sections": [],
   "provenance": []
  },
  "kernelspec": {
   "display_name": "Python 3 (ipykernel)",
   "language": "python",
   "name": "python3"
  },
  "language_info": {
   "codemirror_mode": {
    "name": "ipython",
    "version": 3
   },
   "file_extension": ".py",
   "mimetype": "text/x-python",
   "name": "python",
   "nbconvert_exporter": "python",
   "pygments_lexer": "ipython3",
   "version": "3.12.7"
  }
 },
 "nbformat": 4,
 "nbformat_minor": 4
}
