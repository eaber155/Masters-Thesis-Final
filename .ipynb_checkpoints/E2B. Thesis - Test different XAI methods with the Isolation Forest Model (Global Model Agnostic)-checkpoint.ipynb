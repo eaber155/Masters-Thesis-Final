{
 "cells": [
  {
   "cell_type": "markdown",
   "id": "66782e3a",
   "metadata": {},
   "source": [
    "## MMTHE01 - Masters Thesis"
   ]
  },
  {
   "cell_type": "markdown",
   "id": "5e3bec9f",
   "metadata": {},
   "source": [
    "### E2. Thesis - Apply and Evaluate different XAI methods - Case Study with the Isoation Forest Model\n",
    "\n",
    "* Applying XAI on an Unsupervised Learning AI model (Isolation Forest)\n",
    "* Applying Model Agnostic Perturbation-based global XAI methods: SP-LIME, NormLIME, Permutation Importance, Adversarial Explanations"
   ]
  },
  {
   "cell_type": "markdown",
   "id": "5166f4f1-fbbb-4985-af8b-8f4ddc244cc3",
   "metadata": {},
   "source": [
    "#### Importing the libraries"
   ]
  },
  {
   "cell_type": "code",
   "execution_count": 1,
   "id": "dcff01cd-dd98-4ab5-80d5-20db0794bcab",
   "metadata": {},
   "outputs": [],
   "source": [
    "### import general libraries\n",
    "import numpy as np\n",
    "import matplotlib.pyplot as plt\n",
    "import pandas as pd\n",
    "import seaborn as sns\n",
    "import os\n",
    "import time\n",
    "from sklearn.metrics import roc_curve, auc\n",
    "from sklearn.metrics import recall_score\n",
    "from sklearn.preprocessing import StandardScaler\n",
    "from imblearn.over_sampling import SMOTE\n",
    "\n",
    "from sklearn.preprocessing import LabelEncoder"
   ]
  },
  {
   "cell_type": "code",
   "execution_count": 2,
   "id": "309fa0cb-3a99-4418-b435-c40bc081f20e",
   "metadata": {},
   "outputs": [
    {
     "name": "stdout",
     "output_type": "stream",
     "text": [
      "Changed directory to: C:\\Users\\eaber\\Documents\\11. Masters Thesis Final\\6. Analysis\n"
     ]
    }
   ],
   "source": [
    "# Check your current working directory\n",
    "cwd = os.getcwd()\n",
    "\n",
    "# Define your relative path\n",
    "relative_path = r\"6. Analysis\"  # adjust this relative to cwd\n",
    "\n",
    "# Build the full path\n",
    "full_path = os.path.join(cwd, relative_path)\n",
    "\n",
    "# Check if it exists before changing\n",
    "if os.path.exists(full_path):\n",
    "    os.chdir(full_path)\n",
    "    print(\"Changed directory to:\", full_path)\n",
    "else:\n",
    "    print(\"Folder does not exist:\", full_path)"
   ]
  },
  {
   "cell_type": "markdown",
   "id": "7bf5e01d-ed0c-4527-96b6-f6c5edb9ef59",
   "metadata": {},
   "source": [
    "#### Importing the dataset"
   ]
  },
  {
   "cell_type": "code",
   "execution_count": 3,
   "id": "3a75b239-433a-4ad1-9210-58038649e71f",
   "metadata": {},
   "outputs": [],
   "source": [
    "dataset = pd.read_csv('train_dataset_final_encoded.csv')"
   ]
  },
  {
   "cell_type": "code",
   "execution_count": 4,
   "id": "4e0fbb10-0af9-4314-aff5-046be20b0a25",
   "metadata": {},
   "outputs": [
    {
     "data": {
      "text/html": [
       "<div>\n",
       "<style scoped>\n",
       "    .dataframe tbody tr th:only-of-type {\n",
       "        vertical-align: middle;\n",
       "    }\n",
       "\n",
       "    .dataframe tbody tr th {\n",
       "        vertical-align: top;\n",
       "    }\n",
       "\n",
       "    .dataframe thead th {\n",
       "        text-align: right;\n",
       "    }\n",
       "</style>\n",
       "<table border=\"1\" class=\"dataframe\">\n",
       "  <thead>\n",
       "    <tr style=\"text-align: right;\">\n",
       "      <th></th>\n",
       "      <th>isFraud</th>\n",
       "      <th>TransactionDT</th>\n",
       "      <th>TransactionAmt</th>\n",
       "      <th>card1</th>\n",
       "      <th>C3</th>\n",
       "      <th>C9</th>\n",
       "      <th>C12</th>\n",
       "      <th>C13</th>\n",
       "      <th>C14</th>\n",
       "      <th>TransactionID</th>\n",
       "      <th>...</th>\n",
       "      <th>card4_discover</th>\n",
       "      <th>card4_mastercard</th>\n",
       "      <th>card4_visa</th>\n",
       "      <th>card6_charge card</th>\n",
       "      <th>card6_credit</th>\n",
       "      <th>card6_debit</th>\n",
       "      <th>card6_debit or credit</th>\n",
       "      <th>M4_M0</th>\n",
       "      <th>M4_M1</th>\n",
       "      <th>M4_M2</th>\n",
       "    </tr>\n",
       "  </thead>\n",
       "  <tbody>\n",
       "    <tr>\n",
       "      <th>0</th>\n",
       "      <td>0</td>\n",
       "      <td>86400</td>\n",
       "      <td>68.5</td>\n",
       "      <td>13926</td>\n",
       "      <td>0.0</td>\n",
       "      <td>1.0</td>\n",
       "      <td>0.0</td>\n",
       "      <td>1.0</td>\n",
       "      <td>1.0</td>\n",
       "      <td>2987000</td>\n",
       "      <td>...</td>\n",
       "      <td>1.0</td>\n",
       "      <td>0.0</td>\n",
       "      <td>0.0</td>\n",
       "      <td>0.0</td>\n",
       "      <td>1.0</td>\n",
       "      <td>0.0</td>\n",
       "      <td>0.0</td>\n",
       "      <td>0.0</td>\n",
       "      <td>0.0</td>\n",
       "      <td>1.0</td>\n",
       "    </tr>\n",
       "    <tr>\n",
       "      <th>1</th>\n",
       "      <td>0</td>\n",
       "      <td>86401</td>\n",
       "      <td>29.0</td>\n",
       "      <td>2755</td>\n",
       "      <td>0.0</td>\n",
       "      <td>0.0</td>\n",
       "      <td>0.0</td>\n",
       "      <td>1.0</td>\n",
       "      <td>1.0</td>\n",
       "      <td>2987001</td>\n",
       "      <td>...</td>\n",
       "      <td>0.0</td>\n",
       "      <td>1.0</td>\n",
       "      <td>0.0</td>\n",
       "      <td>0.0</td>\n",
       "      <td>1.0</td>\n",
       "      <td>0.0</td>\n",
       "      <td>0.0</td>\n",
       "      <td>1.0</td>\n",
       "      <td>0.0</td>\n",
       "      <td>0.0</td>\n",
       "    </tr>\n",
       "    <tr>\n",
       "      <th>2</th>\n",
       "      <td>0</td>\n",
       "      <td>86469</td>\n",
       "      <td>59.0</td>\n",
       "      <td>4663</td>\n",
       "      <td>0.0</td>\n",
       "      <td>1.0</td>\n",
       "      <td>0.0</td>\n",
       "      <td>1.0</td>\n",
       "      <td>1.0</td>\n",
       "      <td>2987002</td>\n",
       "      <td>...</td>\n",
       "      <td>0.0</td>\n",
       "      <td>0.0</td>\n",
       "      <td>1.0</td>\n",
       "      <td>0.0</td>\n",
       "      <td>0.0</td>\n",
       "      <td>1.0</td>\n",
       "      <td>0.0</td>\n",
       "      <td>1.0</td>\n",
       "      <td>0.0</td>\n",
       "      <td>0.0</td>\n",
       "    </tr>\n",
       "    <tr>\n",
       "      <th>3</th>\n",
       "      <td>0</td>\n",
       "      <td>86499</td>\n",
       "      <td>50.0</td>\n",
       "      <td>18132</td>\n",
       "      <td>0.0</td>\n",
       "      <td>1.0</td>\n",
       "      <td>0.0</td>\n",
       "      <td>25.0</td>\n",
       "      <td>1.0</td>\n",
       "      <td>2987003</td>\n",
       "      <td>...</td>\n",
       "      <td>0.0</td>\n",
       "      <td>1.0</td>\n",
       "      <td>0.0</td>\n",
       "      <td>0.0</td>\n",
       "      <td>0.0</td>\n",
       "      <td>1.0</td>\n",
       "      <td>0.0</td>\n",
       "      <td>1.0</td>\n",
       "      <td>0.0</td>\n",
       "      <td>0.0</td>\n",
       "    </tr>\n",
       "    <tr>\n",
       "      <th>4</th>\n",
       "      <td>0</td>\n",
       "      <td>86506</td>\n",
       "      <td>50.0</td>\n",
       "      <td>4497</td>\n",
       "      <td>0.0</td>\n",
       "      <td>0.0</td>\n",
       "      <td>0.0</td>\n",
       "      <td>1.0</td>\n",
       "      <td>1.0</td>\n",
       "      <td>2987004</td>\n",
       "      <td>...</td>\n",
       "      <td>0.0</td>\n",
       "      <td>1.0</td>\n",
       "      <td>0.0</td>\n",
       "      <td>0.0</td>\n",
       "      <td>1.0</td>\n",
       "      <td>0.0</td>\n",
       "      <td>0.0</td>\n",
       "      <td>1.0</td>\n",
       "      <td>0.0</td>\n",
       "      <td>0.0</td>\n",
       "    </tr>\n",
       "  </tbody>\n",
       "</table>\n",
       "<p>5 rows × 201 columns</p>\n",
       "</div>"
      ],
      "text/plain": [
       "   isFraud  TransactionDT  TransactionAmt  card1   C3   C9  C12   C13  C14  \\\n",
       "0        0          86400            68.5  13926  0.0  1.0  0.0   1.0  1.0   \n",
       "1        0          86401            29.0   2755  0.0  0.0  0.0   1.0  1.0   \n",
       "2        0          86469            59.0   4663  0.0  1.0  0.0   1.0  1.0   \n",
       "3        0          86499            50.0  18132  0.0  1.0  0.0  25.0  1.0   \n",
       "4        0          86506            50.0   4497  0.0  0.0  0.0   1.0  1.0   \n",
       "\n",
       "   TransactionID  ...  card4_discover  card4_mastercard  card4_visa  \\\n",
       "0        2987000  ...             1.0               0.0         0.0   \n",
       "1        2987001  ...             0.0               1.0         0.0   \n",
       "2        2987002  ...             0.0               0.0         1.0   \n",
       "3        2987003  ...             0.0               1.0         0.0   \n",
       "4        2987004  ...             0.0               1.0         0.0   \n",
       "\n",
       "   card6_charge card  card6_credit  card6_debit  card6_debit or credit  M4_M0  \\\n",
       "0                0.0           1.0          0.0                    0.0    0.0   \n",
       "1                0.0           1.0          0.0                    0.0    1.0   \n",
       "2                0.0           0.0          1.0                    0.0    1.0   \n",
       "3                0.0           0.0          1.0                    0.0    1.0   \n",
       "4                0.0           1.0          0.0                    0.0    1.0   \n",
       "\n",
       "   M4_M1  M4_M2  \n",
       "0    0.0    1.0  \n",
       "1    0.0    0.0  \n",
       "2    0.0    0.0  \n",
       "3    0.0    0.0  \n",
       "4    0.0    0.0  \n",
       "\n",
       "[5 rows x 201 columns]"
      ]
     },
     "execution_count": 4,
     "metadata": {},
     "output_type": "execute_result"
    }
   ],
   "source": [
    "dataset.head()"
   ]
  },
  {
   "cell_type": "code",
   "execution_count": 5,
   "id": "7fac94f5-1551-4af7-ae4b-e1741b7e7faa",
   "metadata": {},
   "outputs": [
    {
     "data": {
      "text/plain": [
       "(590540, 201)"
      ]
     },
     "execution_count": 5,
     "metadata": {},
     "output_type": "execute_result"
    }
   ],
   "source": [
    "dataset.shape"
   ]
  },
  {
   "cell_type": "markdown",
   "id": "c87977dd-aa84-4b58-9650-0d665fcda431",
   "metadata": {},
   "source": [
    "### 5.1 Split the data into Train-Test"
   ]
  },
  {
   "cell_type": "markdown",
   "id": "1a56198e-d54a-48b7-af89-327b97e5fa00",
   "metadata": {},
   "source": [
    "#### 5.1.1 Separate the features and the label"
   ]
  },
  {
   "cell_type": "code",
   "execution_count": 6,
   "id": "1203eb3e-4fd5-46ff-ae8a-9f19f28fc38a",
   "metadata": {},
   "outputs": [],
   "source": [
    "dataset_final = dataset.drop('TransactionID', axis=1)"
   ]
  },
  {
   "cell_type": "code",
   "execution_count": 7,
   "id": "7c272214-395c-4d26-9bbe-3fa71a559a85",
   "metadata": {},
   "outputs": [],
   "source": [
    "#X = dataset.iloc[:, 1:].values\n",
    "#y = dataset.iloc[:,0].values"
   ]
  },
  {
   "cell_type": "code",
   "execution_count": 8,
   "id": "d5c73d18-12ea-4953-bacc-f1514b8b0e26",
   "metadata": {},
   "outputs": [],
   "source": [
    "X = dataset_final.iloc[:, 1:]\n",
    "y = dataset_final.iloc[:,0]"
   ]
  },
  {
   "cell_type": "code",
   "execution_count": 9,
   "id": "1caa73da-cd40-4621-af54-e993fe1c0cd2",
   "metadata": {},
   "outputs": [],
   "source": [
    "from sklearn.model_selection import train_test_split\n",
    "X_train_im, X_test, y_train_im, y_test = train_test_split(X, y, test_size = 0.2, stratify=y, random_state = 1)"
   ]
  },
  {
   "cell_type": "code",
   "execution_count": null,
   "id": "1a8276cc-75da-4969-938c-68ea0251c511",
   "metadata": {},
   "outputs": [],
   "source": []
  },
  {
   "cell_type": "markdown",
   "id": "fb4a2c64-1bfe-4620-8f7e-caecd4d55b77",
   "metadata": {},
   "source": [
    "### 5.2 Applying SMOTE"
   ]
  },
  {
   "cell_type": "code",
   "execution_count": 10,
   "id": "ca754022-6938-496b-8439-5c629fb586e5",
   "metadata": {},
   "outputs": [],
   "source": [
    "# Applying SMOTE only to the training data\n",
    "smote = SMOTE(random_state=1)\n",
    "X_train, y_train = smote.fit_resample(X_train_im, y_train_im)"
   ]
  },
  {
   "cell_type": "code",
   "execution_count": null,
   "id": "700fba2b-11a1-4076-9ab7-6abcddb1977c",
   "metadata": {},
   "outputs": [],
   "source": []
  },
  {
   "cell_type": "markdown",
   "id": "e59bd8d5-0918-4671-a1ae-690ae71e8824",
   "metadata": {},
   "source": [
    "### 5.3 Feature Scaling"
   ]
  },
  {
   "cell_type": "code",
   "execution_count": 11,
   "id": "237e3de3-63ba-45fa-8049-907dbdd43a75",
   "metadata": {},
   "outputs": [],
   "source": [
    "sc = StandardScaler()\n",
    "X_tn_scaled = sc.fit_transform(X_train)\n",
    "X_tt_scaled = sc.fit_transform(X_test)\n",
    "\n",
    "\n",
    "# Convert to dataframe\n",
    "X_train_scaled = pd.DataFrame(X_tn_scaled, columns=X_train.columns)\n",
    "X_test_scaled = pd.DataFrame(X_tt_scaled, columns=X_test.columns)"
   ]
  },
  {
   "cell_type": "code",
   "execution_count": null,
   "id": "891cc37a-8ee0-40db-9626-25c0192a2f9e",
   "metadata": {},
   "outputs": [],
   "source": []
  },
  {
   "cell_type": "markdown",
   "id": "bd656b46-49f6-454e-a324-d5e75f67abc1",
   "metadata": {},
   "source": [
    "### 5.4 Model Fitting"
   ]
  },
  {
   "cell_type": "code",
   "execution_count": 12,
   "id": "612d1a68-5664-4492-a766-f6dfd6414ac2",
   "metadata": {},
   "outputs": [],
   "source": [
    "from sklearn.ensemble import IsolationForest"
   ]
  },
  {
   "cell_type": "code",
   "execution_count": 13,
   "id": "07f219dd-78cf-4943-9dca-08880984e664",
   "metadata": {},
   "outputs": [],
   "source": [
    "# Train Isolation Forest\n",
    "iso_forest = IsolationForest(\n",
    "    n_estimators=100,\n",
    "    contamination=0.035,  # Approximate fraud ratio in dataset\n",
    "    max_samples='auto',\n",
    "    random_state=1,\n",
    "    n_jobs=-1\n",
    ")"
   ]
  },
  {
   "cell_type": "code",
   "execution_count": 14,
   "id": "e3ed4199-607a-4ade-a727-61c7790e7c2e",
   "metadata": {},
   "outputs": [
    {
     "data": {
      "text/html": [
       "<style>#sk-container-id-1 {\n",
       "  /* Definition of color scheme common for light and dark mode */\n",
       "  --sklearn-color-text: black;\n",
       "  --sklearn-color-line: gray;\n",
       "  /* Definition of color scheme for unfitted estimators */\n",
       "  --sklearn-color-unfitted-level-0: #fff5e6;\n",
       "  --sklearn-color-unfitted-level-1: #f6e4d2;\n",
       "  --sklearn-color-unfitted-level-2: #ffe0b3;\n",
       "  --sklearn-color-unfitted-level-3: chocolate;\n",
       "  /* Definition of color scheme for fitted estimators */\n",
       "  --sklearn-color-fitted-level-0: #f0f8ff;\n",
       "  --sklearn-color-fitted-level-1: #d4ebff;\n",
       "  --sklearn-color-fitted-level-2: #b3dbfd;\n",
       "  --sklearn-color-fitted-level-3: cornflowerblue;\n",
       "\n",
       "  /* Specific color for light theme */\n",
       "  --sklearn-color-text-on-default-background: var(--sg-text-color, var(--theme-code-foreground, var(--jp-content-font-color1, black)));\n",
       "  --sklearn-color-background: var(--sg-background-color, var(--theme-background, var(--jp-layout-color0, white)));\n",
       "  --sklearn-color-border-box: var(--sg-text-color, var(--theme-code-foreground, var(--jp-content-font-color1, black)));\n",
       "  --sklearn-color-icon: #696969;\n",
       "\n",
       "  @media (prefers-color-scheme: dark) {\n",
       "    /* Redefinition of color scheme for dark theme */\n",
       "    --sklearn-color-text-on-default-background: var(--sg-text-color, var(--theme-code-foreground, var(--jp-content-font-color1, white)));\n",
       "    --sklearn-color-background: var(--sg-background-color, var(--theme-background, var(--jp-layout-color0, #111)));\n",
       "    --sklearn-color-border-box: var(--sg-text-color, var(--theme-code-foreground, var(--jp-content-font-color1, white)));\n",
       "    --sklearn-color-icon: #878787;\n",
       "  }\n",
       "}\n",
       "\n",
       "#sk-container-id-1 {\n",
       "  color: var(--sklearn-color-text);\n",
       "}\n",
       "\n",
       "#sk-container-id-1 pre {\n",
       "  padding: 0;\n",
       "}\n",
       "\n",
       "#sk-container-id-1 input.sk-hidden--visually {\n",
       "  border: 0;\n",
       "  clip: rect(1px 1px 1px 1px);\n",
       "  clip: rect(1px, 1px, 1px, 1px);\n",
       "  height: 1px;\n",
       "  margin: -1px;\n",
       "  overflow: hidden;\n",
       "  padding: 0;\n",
       "  position: absolute;\n",
       "  width: 1px;\n",
       "}\n",
       "\n",
       "#sk-container-id-1 div.sk-dashed-wrapped {\n",
       "  border: 1px dashed var(--sklearn-color-line);\n",
       "  margin: 0 0.4em 0.5em 0.4em;\n",
       "  box-sizing: border-box;\n",
       "  padding-bottom: 0.4em;\n",
       "  background-color: var(--sklearn-color-background);\n",
       "}\n",
       "\n",
       "#sk-container-id-1 div.sk-container {\n",
       "  /* jupyter's `normalize.less` sets `[hidden] { display: none; }`\n",
       "     but bootstrap.min.css set `[hidden] { display: none !important; }`\n",
       "     so we also need the `!important` here to be able to override the\n",
       "     default hidden behavior on the sphinx rendered scikit-learn.org.\n",
       "     See: https://github.com/scikit-learn/scikit-learn/issues/21755 */\n",
       "  display: inline-block !important;\n",
       "  position: relative;\n",
       "}\n",
       "\n",
       "#sk-container-id-1 div.sk-text-repr-fallback {\n",
       "  display: none;\n",
       "}\n",
       "\n",
       "div.sk-parallel-item,\n",
       "div.sk-serial,\n",
       "div.sk-item {\n",
       "  /* draw centered vertical line to link estimators */\n",
       "  background-image: linear-gradient(var(--sklearn-color-text-on-default-background), var(--sklearn-color-text-on-default-background));\n",
       "  background-size: 2px 100%;\n",
       "  background-repeat: no-repeat;\n",
       "  background-position: center center;\n",
       "}\n",
       "\n",
       "/* Parallel-specific style estimator block */\n",
       "\n",
       "#sk-container-id-1 div.sk-parallel-item::after {\n",
       "  content: \"\";\n",
       "  width: 100%;\n",
       "  border-bottom: 2px solid var(--sklearn-color-text-on-default-background);\n",
       "  flex-grow: 1;\n",
       "}\n",
       "\n",
       "#sk-container-id-1 div.sk-parallel {\n",
       "  display: flex;\n",
       "  align-items: stretch;\n",
       "  justify-content: center;\n",
       "  background-color: var(--sklearn-color-background);\n",
       "  position: relative;\n",
       "}\n",
       "\n",
       "#sk-container-id-1 div.sk-parallel-item {\n",
       "  display: flex;\n",
       "  flex-direction: column;\n",
       "}\n",
       "\n",
       "#sk-container-id-1 div.sk-parallel-item:first-child::after {\n",
       "  align-self: flex-end;\n",
       "  width: 50%;\n",
       "}\n",
       "\n",
       "#sk-container-id-1 div.sk-parallel-item:last-child::after {\n",
       "  align-self: flex-start;\n",
       "  width: 50%;\n",
       "}\n",
       "\n",
       "#sk-container-id-1 div.sk-parallel-item:only-child::after {\n",
       "  width: 0;\n",
       "}\n",
       "\n",
       "/* Serial-specific style estimator block */\n",
       "\n",
       "#sk-container-id-1 div.sk-serial {\n",
       "  display: flex;\n",
       "  flex-direction: column;\n",
       "  align-items: center;\n",
       "  background-color: var(--sklearn-color-background);\n",
       "  padding-right: 1em;\n",
       "  padding-left: 1em;\n",
       "}\n",
       "\n",
       "\n",
       "/* Toggleable style: style used for estimator/Pipeline/ColumnTransformer box that is\n",
       "clickable and can be expanded/collapsed.\n",
       "- Pipeline and ColumnTransformer use this feature and define the default style\n",
       "- Estimators will overwrite some part of the style using the `sk-estimator` class\n",
       "*/\n",
       "\n",
       "/* Pipeline and ColumnTransformer style (default) */\n",
       "\n",
       "#sk-container-id-1 div.sk-toggleable {\n",
       "  /* Default theme specific background. It is overwritten whether we have a\n",
       "  specific estimator or a Pipeline/ColumnTransformer */\n",
       "  background-color: var(--sklearn-color-background);\n",
       "}\n",
       "\n",
       "/* Toggleable label */\n",
       "#sk-container-id-1 label.sk-toggleable__label {\n",
       "  cursor: pointer;\n",
       "  display: block;\n",
       "  width: 100%;\n",
       "  margin-bottom: 0;\n",
       "  padding: 0.5em;\n",
       "  box-sizing: border-box;\n",
       "  text-align: center;\n",
       "}\n",
       "\n",
       "#sk-container-id-1 label.sk-toggleable__label-arrow:before {\n",
       "  /* Arrow on the left of the label */\n",
       "  content: \"▸\";\n",
       "  float: left;\n",
       "  margin-right: 0.25em;\n",
       "  color: var(--sklearn-color-icon);\n",
       "}\n",
       "\n",
       "#sk-container-id-1 label.sk-toggleable__label-arrow:hover:before {\n",
       "  color: var(--sklearn-color-text);\n",
       "}\n",
       "\n",
       "/* Toggleable content - dropdown */\n",
       "\n",
       "#sk-container-id-1 div.sk-toggleable__content {\n",
       "  max-height: 0;\n",
       "  max-width: 0;\n",
       "  overflow: hidden;\n",
       "  text-align: left;\n",
       "  /* unfitted */\n",
       "  background-color: var(--sklearn-color-unfitted-level-0);\n",
       "}\n",
       "\n",
       "#sk-container-id-1 div.sk-toggleable__content.fitted {\n",
       "  /* fitted */\n",
       "  background-color: var(--sklearn-color-fitted-level-0);\n",
       "}\n",
       "\n",
       "#sk-container-id-1 div.sk-toggleable__content pre {\n",
       "  margin: 0.2em;\n",
       "  border-radius: 0.25em;\n",
       "  color: var(--sklearn-color-text);\n",
       "  /* unfitted */\n",
       "  background-color: var(--sklearn-color-unfitted-level-0);\n",
       "}\n",
       "\n",
       "#sk-container-id-1 div.sk-toggleable__content.fitted pre {\n",
       "  /* unfitted */\n",
       "  background-color: var(--sklearn-color-fitted-level-0);\n",
       "}\n",
       "\n",
       "#sk-container-id-1 input.sk-toggleable__control:checked~div.sk-toggleable__content {\n",
       "  /* Expand drop-down */\n",
       "  max-height: 200px;\n",
       "  max-width: 100%;\n",
       "  overflow: auto;\n",
       "}\n",
       "\n",
       "#sk-container-id-1 input.sk-toggleable__control:checked~label.sk-toggleable__label-arrow:before {\n",
       "  content: \"▾\";\n",
       "}\n",
       "\n",
       "/* Pipeline/ColumnTransformer-specific style */\n",
       "\n",
       "#sk-container-id-1 div.sk-label input.sk-toggleable__control:checked~label.sk-toggleable__label {\n",
       "  color: var(--sklearn-color-text);\n",
       "  background-color: var(--sklearn-color-unfitted-level-2);\n",
       "}\n",
       "\n",
       "#sk-container-id-1 div.sk-label.fitted input.sk-toggleable__control:checked~label.sk-toggleable__label {\n",
       "  background-color: var(--sklearn-color-fitted-level-2);\n",
       "}\n",
       "\n",
       "/* Estimator-specific style */\n",
       "\n",
       "/* Colorize estimator box */\n",
       "#sk-container-id-1 div.sk-estimator input.sk-toggleable__control:checked~label.sk-toggleable__label {\n",
       "  /* unfitted */\n",
       "  background-color: var(--sklearn-color-unfitted-level-2);\n",
       "}\n",
       "\n",
       "#sk-container-id-1 div.sk-estimator.fitted input.sk-toggleable__control:checked~label.sk-toggleable__label {\n",
       "  /* fitted */\n",
       "  background-color: var(--sklearn-color-fitted-level-2);\n",
       "}\n",
       "\n",
       "#sk-container-id-1 div.sk-label label.sk-toggleable__label,\n",
       "#sk-container-id-1 div.sk-label label {\n",
       "  /* The background is the default theme color */\n",
       "  color: var(--sklearn-color-text-on-default-background);\n",
       "}\n",
       "\n",
       "/* On hover, darken the color of the background */\n",
       "#sk-container-id-1 div.sk-label:hover label.sk-toggleable__label {\n",
       "  color: var(--sklearn-color-text);\n",
       "  background-color: var(--sklearn-color-unfitted-level-2);\n",
       "}\n",
       "\n",
       "/* Label box, darken color on hover, fitted */\n",
       "#sk-container-id-1 div.sk-label.fitted:hover label.sk-toggleable__label.fitted {\n",
       "  color: var(--sklearn-color-text);\n",
       "  background-color: var(--sklearn-color-fitted-level-2);\n",
       "}\n",
       "\n",
       "/* Estimator label */\n",
       "\n",
       "#sk-container-id-1 div.sk-label label {\n",
       "  font-family: monospace;\n",
       "  font-weight: bold;\n",
       "  display: inline-block;\n",
       "  line-height: 1.2em;\n",
       "}\n",
       "\n",
       "#sk-container-id-1 div.sk-label-container {\n",
       "  text-align: center;\n",
       "}\n",
       "\n",
       "/* Estimator-specific */\n",
       "#sk-container-id-1 div.sk-estimator {\n",
       "  font-family: monospace;\n",
       "  border: 1px dotted var(--sklearn-color-border-box);\n",
       "  border-radius: 0.25em;\n",
       "  box-sizing: border-box;\n",
       "  margin-bottom: 0.5em;\n",
       "  /* unfitted */\n",
       "  background-color: var(--sklearn-color-unfitted-level-0);\n",
       "}\n",
       "\n",
       "#sk-container-id-1 div.sk-estimator.fitted {\n",
       "  /* fitted */\n",
       "  background-color: var(--sklearn-color-fitted-level-0);\n",
       "}\n",
       "\n",
       "/* on hover */\n",
       "#sk-container-id-1 div.sk-estimator:hover {\n",
       "  /* unfitted */\n",
       "  background-color: var(--sklearn-color-unfitted-level-2);\n",
       "}\n",
       "\n",
       "#sk-container-id-1 div.sk-estimator.fitted:hover {\n",
       "  /* fitted */\n",
       "  background-color: var(--sklearn-color-fitted-level-2);\n",
       "}\n",
       "\n",
       "/* Specification for estimator info (e.g. \"i\" and \"?\") */\n",
       "\n",
       "/* Common style for \"i\" and \"?\" */\n",
       "\n",
       ".sk-estimator-doc-link,\n",
       "a:link.sk-estimator-doc-link,\n",
       "a:visited.sk-estimator-doc-link {\n",
       "  float: right;\n",
       "  font-size: smaller;\n",
       "  line-height: 1em;\n",
       "  font-family: monospace;\n",
       "  background-color: var(--sklearn-color-background);\n",
       "  border-radius: 1em;\n",
       "  height: 1em;\n",
       "  width: 1em;\n",
       "  text-decoration: none !important;\n",
       "  margin-left: 1ex;\n",
       "  /* unfitted */\n",
       "  border: var(--sklearn-color-unfitted-level-1) 1pt solid;\n",
       "  color: var(--sklearn-color-unfitted-level-1);\n",
       "}\n",
       "\n",
       ".sk-estimator-doc-link.fitted,\n",
       "a:link.sk-estimator-doc-link.fitted,\n",
       "a:visited.sk-estimator-doc-link.fitted {\n",
       "  /* fitted */\n",
       "  border: var(--sklearn-color-fitted-level-1) 1pt solid;\n",
       "  color: var(--sklearn-color-fitted-level-1);\n",
       "}\n",
       "\n",
       "/* On hover */\n",
       "div.sk-estimator:hover .sk-estimator-doc-link:hover,\n",
       ".sk-estimator-doc-link:hover,\n",
       "div.sk-label-container:hover .sk-estimator-doc-link:hover,\n",
       ".sk-estimator-doc-link:hover {\n",
       "  /* unfitted */\n",
       "  background-color: var(--sklearn-color-unfitted-level-3);\n",
       "  color: var(--sklearn-color-background);\n",
       "  text-decoration: none;\n",
       "}\n",
       "\n",
       "div.sk-estimator.fitted:hover .sk-estimator-doc-link.fitted:hover,\n",
       ".sk-estimator-doc-link.fitted:hover,\n",
       "div.sk-label-container:hover .sk-estimator-doc-link.fitted:hover,\n",
       ".sk-estimator-doc-link.fitted:hover {\n",
       "  /* fitted */\n",
       "  background-color: var(--sklearn-color-fitted-level-3);\n",
       "  color: var(--sklearn-color-background);\n",
       "  text-decoration: none;\n",
       "}\n",
       "\n",
       "/* Span, style for the box shown on hovering the info icon */\n",
       ".sk-estimator-doc-link span {\n",
       "  display: none;\n",
       "  z-index: 9999;\n",
       "  position: relative;\n",
       "  font-weight: normal;\n",
       "  right: .2ex;\n",
       "  padding: .5ex;\n",
       "  margin: .5ex;\n",
       "  width: min-content;\n",
       "  min-width: 20ex;\n",
       "  max-width: 50ex;\n",
       "  color: var(--sklearn-color-text);\n",
       "  box-shadow: 2pt 2pt 4pt #999;\n",
       "  /* unfitted */\n",
       "  background: var(--sklearn-color-unfitted-level-0);\n",
       "  border: .5pt solid var(--sklearn-color-unfitted-level-3);\n",
       "}\n",
       "\n",
       ".sk-estimator-doc-link.fitted span {\n",
       "  /* fitted */\n",
       "  background: var(--sklearn-color-fitted-level-0);\n",
       "  border: var(--sklearn-color-fitted-level-3);\n",
       "}\n",
       "\n",
       ".sk-estimator-doc-link:hover span {\n",
       "  display: block;\n",
       "}\n",
       "\n",
       "/* \"?\"-specific style due to the `<a>` HTML tag */\n",
       "\n",
       "#sk-container-id-1 a.estimator_doc_link {\n",
       "  float: right;\n",
       "  font-size: 1rem;\n",
       "  line-height: 1em;\n",
       "  font-family: monospace;\n",
       "  background-color: var(--sklearn-color-background);\n",
       "  border-radius: 1rem;\n",
       "  height: 1rem;\n",
       "  width: 1rem;\n",
       "  text-decoration: none;\n",
       "  /* unfitted */\n",
       "  color: var(--sklearn-color-unfitted-level-1);\n",
       "  border: var(--sklearn-color-unfitted-level-1) 1pt solid;\n",
       "}\n",
       "\n",
       "#sk-container-id-1 a.estimator_doc_link.fitted {\n",
       "  /* fitted */\n",
       "  border: var(--sklearn-color-fitted-level-1) 1pt solid;\n",
       "  color: var(--sklearn-color-fitted-level-1);\n",
       "}\n",
       "\n",
       "/* On hover */\n",
       "#sk-container-id-1 a.estimator_doc_link:hover {\n",
       "  /* unfitted */\n",
       "  background-color: var(--sklearn-color-unfitted-level-3);\n",
       "  color: var(--sklearn-color-background);\n",
       "  text-decoration: none;\n",
       "}\n",
       "\n",
       "#sk-container-id-1 a.estimator_doc_link.fitted:hover {\n",
       "  /* fitted */\n",
       "  background-color: var(--sklearn-color-fitted-level-3);\n",
       "}\n",
       "</style><div id=\"sk-container-id-1\" class=\"sk-top-container\"><div class=\"sk-text-repr-fallback\"><pre>IsolationForest(contamination=0.035, n_jobs=-1, random_state=1)</pre><b>In a Jupyter environment, please rerun this cell to show the HTML representation or trust the notebook. <br />On GitHub, the HTML representation is unable to render, please try loading this page with nbviewer.org.</b></div><div class=\"sk-container\" hidden><div class=\"sk-item\"><div class=\"sk-estimator fitted sk-toggleable\"><input class=\"sk-toggleable__control sk-hidden--visually\" id=\"sk-estimator-id-1\" type=\"checkbox\" checked><label for=\"sk-estimator-id-1\" class=\"sk-toggleable__label fitted sk-toggleable__label-arrow fitted\">&nbsp;&nbsp;IsolationForest<a class=\"sk-estimator-doc-link fitted\" rel=\"noreferrer\" target=\"_blank\" href=\"https://scikit-learn.org/1.5/modules/generated/sklearn.ensemble.IsolationForest.html\">?<span>Documentation for IsolationForest</span></a><span class=\"sk-estimator-doc-link fitted\">i<span>Fitted</span></span></label><div class=\"sk-toggleable__content fitted\"><pre>IsolationForest(contamination=0.035, n_jobs=-1, random_state=1)</pre></div> </div></div></div></div>"
      ],
      "text/plain": [
       "IsolationForest(contamination=0.035, n_jobs=-1, random_state=1)"
      ]
     },
     "execution_count": 14,
     "metadata": {},
     "output_type": "execute_result"
    }
   ],
   "source": [
    "iso_forest.fit(X_train_scaled)"
   ]
  },
  {
   "cell_type": "code",
   "execution_count": null,
   "id": "f5b12b83-6b8c-49c3-bc79-63049e441d94",
   "metadata": {},
   "outputs": [],
   "source": []
  },
  {
   "cell_type": "markdown",
   "id": "b405e695-e767-4cd1-a988-864a58ff6e09",
   "metadata": {},
   "source": [
    "### 5.5 Applying XAI methods to the Isolation Forest Model"
   ]
  },
  {
   "cell_type": "markdown",
   "id": "c4a3d638-e0ae-45d7-a4a6-5022becf8353",
   "metadata": {},
   "source": [
    "#### 5.5.1 Applying Submodular Pick (SP)-LIME to the Isolation Forest Model\n",
    "* This is a variant of LIME"
   ]
  },
  {
   "cell_type": "code",
   "execution_count": 15,
   "id": "64aedffc-969b-4929-afe1-d0c3773e5aea",
   "metadata": {
    "scrolled": true
   },
   "outputs": [],
   "source": [
    "import lime\n",
    "import lime.lime_tabular\n",
    "from lime import submodular_pick"
   ]
  },
  {
   "cell_type": "code",
   "execution_count": 16,
   "id": "20b5789b-f008-44ae-bbd2-4b4008ce5d00",
   "metadata": {},
   "outputs": [],
   "source": [
    "feature_names = X_train.columns.tolist()"
   ]
  },
  {
   "cell_type": "code",
   "execution_count": 17,
   "id": "14489639-bb9e-442f-bd6d-d1183016942a",
   "metadata": {},
   "outputs": [],
   "source": [
    "sample_size = 100\n",
    "num_exps_desired = 5"
   ]
  },
  {
   "cell_type": "code",
   "execution_count": 18,
   "id": "73a71d1b-1474-4183-b79f-422fc6e9185c",
   "metadata": {},
   "outputs": [],
   "source": [
    "from contextlib import contextmanager\n",
    "import sys, os\n",
    "\n",
    "@contextmanager\n",
    "def suppress_stdout_stderr():\n",
    "    # Suppress stdout and stderr\n",
    "    with open(os.devnull, \"w\") as devnull:\n",
    "        old_stdout, old_stderr = sys.stdout, sys.stderr\n",
    "        sys.stdout, sys.stderr = devnull, devnull\n",
    "        try:\n",
    "            yield\n",
    "        finally:\n",
    "            sys.stdout, sys.stderr = old_stdout, old_stderr"
   ]
  },
  {
   "cell_type": "code",
   "execution_count": 19,
   "id": "b599e39d-eb1d-4132-92a9-9faef817b9cb",
   "metadata": {},
   "outputs": [],
   "source": [
    "start_time = time.time()"
   ]
  },
  {
   "cell_type": "code",
   "execution_count": 20,
   "id": "8519a70b-34c7-4e44-a360-1359baf1601a",
   "metadata": {},
   "outputs": [],
   "source": [
    "# Define the prediction function\n",
    "predict_fn = lambda x: predict_proba_iso(x).astype(float)"
   ]
  },
  {
   "cell_type": "code",
   "execution_count": 21,
   "id": "ef653662-2aab-4635-968f-da7283bcb623",
   "metadata": {},
   "outputs": [],
   "source": [
    "lime_explainer = lime.lime_tabular.LimeTabularExplainer(\n",
    "    training_data=X_train_scaled.values,\n",
    "    feature_names=feature_names,\n",
    "    mode='classification',\n",
    "    class_names=[\"non-fraud\", \"fraud\"],\n",
    "    verbose=True\n",
    ")"
   ]
  },
  {
   "cell_type": "code",
   "execution_count": 22,
   "id": "611ac855-5f70-45ee-8f0e-02e381728b5e",
   "metadata": {},
   "outputs": [],
   "source": [
    "# Wrap decision_function into a \"pseudo-probability\"\n",
    "def predict_proba_iso(X):\n",
    "    # Ensure X has feature names if iso_forest was trained with a DataFrame\n",
    "    if isinstance(X, np.ndarray):\n",
    "        X = pd.DataFrame(X, columns=X_train_scaled.columns)  # use training feature names\n",
    "\n",
    "    scores = iso_forest.decision_function(X)  # higher = more normal\n",
    "\n",
    "    # Normalize scores into [0, 1] for pseudo-probability\n",
    "    probs = (scores - scores.min()) / (scores.max() - scores.min() + 1e-9)\n",
    "\n",
    "    # Two-class probabilities: [anomaly, normal]\n",
    "    return np.vstack([1 - probs, probs]).T"
   ]
  },
  {
   "cell_type": "code",
   "execution_count": 23,
   "id": "dde56034-49ab-4b89-8bf0-0e6709dcba74",
   "metadata": {},
   "outputs": [],
   "source": [
    "# Initialize the SubmodularPick object\n",
    "with suppress_stdout_stderr():\n",
    "    sp_obj = submodular_pick.SubmodularPick(\n",
    "        lime_explainer,\n",
    "        X_train_scaled.values,\n",
    "        predict_fn,\n",
    "        sample_size=sample_size,\n",
    "        num_features=10,\n",
    "        num_exps_desired=num_exps_desired\n",
    "    )"
   ]
  },
  {
   "cell_type": "code",
   "execution_count": 24,
   "id": "7beb51f5-b11a-4079-bf6b-32542004215a",
   "metadata": {},
   "outputs": [
    {
     "name": "stdout",
     "output_type": "stream",
     "text": [
      "SP-LIME on Isolation Forest (Explanation Time): 140.96 seconds\n"
     ]
    }
   ],
   "source": [
    "end_time = time.time()\n",
    "explanation_time = end_time - start_time\n",
    "print(f\"SP-LIME on Isolation Forest (Explanation Time): {explanation_time:.2f} seconds\")"
   ]
  },
  {
   "cell_type": "code",
   "execution_count": 25,
   "id": "f90578c4-df70-4386-a3e5-002d027e0f88",
   "metadata": {},
   "outputs": [],
   "source": [
    "selected_explanations = sp_obj.explanations[:num_exps_desired]"
   ]
  },
  {
   "cell_type": "code",
   "execution_count": 26,
   "id": "a7fc730f-e9c7-4d2b-a5b4-8925f6c23076",
   "metadata": {},
   "outputs": [
    {
     "data": {
      "image/png": "[encoded data removed]",
      "text/plain": [
       "<Figure size 640x480 with 1 Axes>"
      ]
     },
     "metadata": {},
     "output_type": "display_data"
    },
    {
     "data": {
      "image/png": "[encoded data removed]",
      "text/plain": [
       "<Figure size 640x480 with 1 Axes>"
      ]
     },
     "metadata": {},
     "output_type": "display_data"
    },
    {
     "data": {
      "image/png": "[encoded data removed]",
      "text/plain": [
       "<Figure size 640x480 with 1 Axes>"
      ]
     },
     "metadata": {},
     "output_type": "display_data"
    },
    {
     "data": {
      "image/png": "[encoded data removed]",
      "text/plain": [
       "<Figure size 640x480 with 1 Axes>"
      ]
     },
     "metadata": {},
     "output_type": "display_data"
    },
    {
     "data": {
      "image/png": "[encoded data removed]",
      "text/plain": [
       "<Figure size 640x480 with 1 Axes>"
      ]
     },
     "metadata": {},
     "output_type": "display_data"
    }
   ],
   "source": [
    "for exp in selected_explanations:\n",
    "    predicted_class = list(exp.local_exp.keys())[0]\n",
    "    fig = exp.as_pyplot_figure(label=predicted_class)\n",
    "    # Label the x-axis\n",
    "    plt.xlabel(\"Feature Contribution\")\n",
    "    plt.show()"
   ]
  },
  {
   "cell_type": "code",
   "execution_count": null,
   "id": "783a13ea-6596-4754-82b1-fd1c5e70ce27",
   "metadata": {},
   "outputs": [],
   "source": []
  },
  {
   "cell_type": "code",
   "execution_count": null,
   "id": "634ac65d-889d-437f-8ac6-42f95a07a3a3",
   "metadata": {},
   "outputs": [],
   "source": []
  },
  {
   "cell_type": "markdown",
   "id": "acd3a487-d483-4404-9b1d-95060d199f6c",
   "metadata": {},
   "source": [
    "#### 5.5.2 Applying NormLIME to the Isolation Forest Model\n",
    "* This is a variant of LIME"
   ]
  },
  {
   "cell_type": "code",
   "execution_count": 27,
   "id": "c6ac3624-aa96-4e99-bd71-72dd399a970b",
   "metadata": {},
   "outputs": [],
   "source": [
    "from collections import Counter"
   ]
  },
  {
   "cell_type": "code",
   "execution_count": 28,
   "id": "cbaad32b-e2d2-4e89-9aef-fd88c5d9c458",
   "metadata": {},
   "outputs": [],
   "source": [
    "start_time = time.time()"
   ]
  },
  {
   "cell_type": "code",
   "execution_count": 29,
   "id": "56223cfc-347c-4356-bb3a-d15629245506",
   "metadata": {},
   "outputs": [],
   "source": [
    "# Generate explanations for multiple instances. Suppress textual output\n",
    "with suppress_stdout_stderr():\n",
    "    explanations = []\n",
    "    for i in range(100):  # Adjust the number of instances as needed\n",
    "        explanation = lime_explainer.explain_instance(X_test_scaled.iloc[i].values, predict_proba_iso)\n",
    "        explanations.append(explanation)"
   ]
  },
  {
   "cell_type": "code",
   "execution_count": 30,
   "id": "2a557b31-4762-45fe-8d26-f5115455c865",
   "metadata": {},
   "outputs": [],
   "source": [
    "# Aggregate feature importance\n",
    "feature_importance = Counter()\n",
    "for explanation in explanations:\n",
    "    for feature, weight in explanation.as_list():\n",
    "        feature_importance[feature] += weight"
   ]
  },
  {
   "cell_type": "code",
   "execution_count": 31,
   "id": "f26d2e62-6c49-4259-899b-00e2d485b86b",
   "metadata": {},
   "outputs": [],
   "source": [
    "# Normalize the feature importance\n",
    "total_importance = sum(feature_importance.values())\n",
    "normalized_importance = {feature: weight / total_importance for feature, weight in feature_importance.items()}"
   ]
  },
  {
   "cell_type": "code",
   "execution_count": 32,
   "id": "8f2e3e6c-a001-468d-a04b-2b3e713e18e9",
   "metadata": {},
   "outputs": [
    {
     "name": "stdout",
     "output_type": "stream",
     "text": [
      "NormLIME on Isolation Forest (Explanation Time): 54.83 seconds\n"
     ]
    }
   ],
   "source": [
    "end_time = time.time()\n",
    "explanation_time = end_time - start_time\n",
    "print(f\"NormLIME on Isolation Forest (Explanation Time): {explanation_time:.2f} seconds\")"
   ]
  },
  {
   "cell_type": "code",
   "execution_count": 33,
   "id": "4b04d758-55be-4a1d-b598-0404509ad00f",
   "metadata": {},
   "outputs": [
    {
     "data": {
      "image/png": "[encoded data removed]",
      "text/plain": [
       "<Figure size 640x480 with 1 Axes>"
      ]
     },
     "metadata": {},
     "output_type": "display_data"
    }
   ],
   "source": [
    "#Visualize the feature importance\n",
    "# Sort features by importance\n",
    "sorted_features = sorted(normalized_importance.items(), key=lambda x: x[1], reverse=True)\n",
    "\n",
    "# Plot the top N features\n",
    "top_n = 10\n",
    "features, importances = zip(*sorted_features[:top_n])\n",
    "plt.barh(features, importances)\n",
    "plt.xlabel('Normalized Importance')\n",
    "plt.title('Top {} Features by Importance'.format(top_n))\n",
    "plt.show()"
   ]
  },
  {
   "cell_type": "code",
   "execution_count": null,
   "id": "82b780a4-3444-49a0-a8f1-fe830a3a37ff",
   "metadata": {},
   "outputs": [],
   "source": []
  },
  {
   "cell_type": "code",
   "execution_count": null,
   "id": "204b1e39-fbfd-44db-8491-ab2401dd3dd1",
   "metadata": {},
   "outputs": [],
   "source": []
  },
  {
   "cell_type": "markdown",
   "id": "608591a1-67ae-40fd-9a1b-74fcf816c887",
   "metadata": {},
   "source": [
    "#### 5.5.3 Applying Permutation Importance to the Isolation Forest Model"
   ]
  },
  {
   "cell_type": "code",
   "execution_count": 34,
   "id": "e1e8845d-c319-4cd0-a165-6076057867d4",
   "metadata": {},
   "outputs": [],
   "source": [
    "from sklearn.inspection import permutation_importance"
   ]
  },
  {
   "cell_type": "code",
   "execution_count": 35,
   "id": "043ce97a-1429-43d6-babb-99abb12b305c",
   "metadata": {},
   "outputs": [],
   "source": [
    "start_time = time.time()"
   ]
  },
  {
   "cell_type": "code",
   "execution_count": 36,
   "id": "aa908627-77ec-4e88-87aa-f41a6dd32467",
   "metadata": {},
   "outputs": [],
   "source": [
    "# Compute permutation importance\n",
    "result = permutation_importance(\n",
    "    iso_forest, X_test_scaled, y_test,\n",
    "    n_repeats=10, random_state=42, scoring='roc_auc'\n",
    ")"
   ]
  },
  {
   "cell_type": "code",
   "execution_count": 37,
   "id": "dcc1a118-2b5d-47cd-8929-3e3e080d710c",
   "metadata": {},
   "outputs": [
    {
     "name": "stdout",
     "output_type": "stream",
     "text": [
      "Permutation Important on Isolation Forest (Explanation Time): 2124.32 seconds\n"
     ]
    }
   ],
   "source": [
    "end_time = time.time()\n",
    "explanation_time = end_time - start_time\n",
    "print(f\"Permutation Important on Isolation Forest (Explanation Time): {explanation_time:.2f} seconds\")"
   ]
  },
  {
   "cell_type": "code",
   "execution_count": 38,
   "id": "0ed4998b-1c84-4fb0-91c7-a5fdf30f65e4",
   "metadata": {},
   "outputs": [],
   "source": [
    "# Store results in DataFrame\n",
    "pi_df = pd.DataFrame({\n",
    "    'feature': X_test_scaled.columns,\n",
    "    'importance_mean': result.importances_mean,\n",
    "    'importance_std': result.importances_std\n",
    "}).sort_values(by='importance_mean', ascending=False)"
   ]
  },
  {
   "cell_type": "code",
   "execution_count": 39,
   "id": "f1fad931-cfb1-4ba4-8800-5c4863a5f0c2",
   "metadata": {},
   "outputs": [
    {
     "name": "stdout",
     "output_type": "stream",
     "text": [
      "         feature  importance_mean  importance_std\n",
      "16            M6         0.004009        0.000484\n",
      "54           V30         0.003637        0.000251\n",
      "33           D10         0.002729        0.000270\n",
      "71           V70         0.001661        0.000158\n",
      "24         id_17         0.001448        0.000112\n",
      "185  ProductCD_R         0.001293        0.000256\n",
      "29            D1         0.001263        0.000169\n",
      "41            V7         0.000899        0.000124\n",
      "129         V210         0.000839        0.000107\n",
      "6            C13         0.000790        0.000124\n",
      "173         V304         0.000788        0.000075\n",
      "38            V3         0.000724        0.000287\n",
      "7            C14         0.000720        0.000145\n",
      "56           V36         0.000692        0.000078\n",
      "100         V124         0.000685        0.000218\n"
     ]
    }
   ],
   "source": [
    "print(pi_df.head(15))"
   ]
  },
  {
   "cell_type": "code",
   "execution_count": 40,
   "id": "f902ce86-641a-4980-b3c8-8293193ac671",
   "metadata": {},
   "outputs": [
    {
     "data": {
      "image/png": "[encoded data removed]",
      "text/plain": [
       "<Figure size 1000x600 with 1 Axes>"
      ]
     },
     "metadata": {},
     "output_type": "display_data"
    }
   ],
   "source": [
    "# Plot top 15 features\n",
    "top_n = 10\n",
    "plt.figure(figsize=(10,6))\n",
    "plt.barh(pi_df['feature'].head(top_n)[::-1], pi_df['importance_mean'].head(top_n)[::-1])\n",
    "plt.xlabel(\"Permutation Importance (Mean decrease in ROC-AUC)\")\n",
    "plt.title(\"Top Features by Permutation Importance - Isolation Forest\")\n",
    "plt.show()"
   ]
  },
  {
   "cell_type": "code",
   "execution_count": null,
   "id": "af6b1d22-9da5-4393-9022-c672bd70ba2a",
   "metadata": {},
   "outputs": [],
   "source": []
  },
  {
   "cell_type": "code",
   "execution_count": null,
   "id": "c28644c6-46ab-490b-8680-c469dba1195c",
   "metadata": {},
   "outputs": [],
   "source": []
  },
  {
   "cell_type": "markdown",
   "id": "e4343822-c8df-41ef-9a87-f28f0916e6bd",
   "metadata": {},
   "source": [
    "#### 5.5.4 Applying Adversarial Explanations to the Isolation Forest Model"
   ]
  },
  {
   "cell_type": "code",
   "execution_count": 41,
   "id": "af77c6f4-f330-4e55-896d-ee376a44849e",
   "metadata": {},
   "outputs": [],
   "source": [
    "from scipy.optimize import differential_evolution"
   ]
  },
  {
   "cell_type": "code",
   "execution_count": 42,
   "id": "87b06aa2-6200-44b3-9554-5b7ac482b455",
   "metadata": {},
   "outputs": [],
   "source": [
    "# Define adversarial explanation function \n",
    "def adversarial_explanation(model,\n",
    "    x_orig,                      # 1D numpy array (already preprocessed to model input space)\n",
    "    target_label=None,          # desired target label (0 or 1). If None -> flip original label.\n",
    "    feature_bounds=None,        # list of (min, max) for each feature (in same scaled space as x_orig)\n",
    "    maxiter=200,                # DE iterations\n",
    "    popsize=15,                 # DE population size multiplier\n",
    "    penalty_coef=50.0,          # strength of constraint penalty\n",
    "    norm='l2',                  # 'l2' or 'linf'\n",
    "    random_state=0\n",
    "):\n",
    "    \"\"\"\n",
    "    Find a minimal perturbation delta such that predict_proba_iso(x_orig + delta) yields target_label.\n",
    "    Uses differential_evolution (global, gradient-free).\n",
    "    Returns: dict { 'delta', 'x_adv', 'orig_prob', 'adv_prob', 'success', 'distance' }\n",
    "    \"\"\"\n",
    "    rng = np.random.RandomState(random_state)\n",
    "    x_orig = np.asarray(x_orig).astype(float).ravel()\n",
    "    n = x_orig.size\n",
    "\n",
    "    # current predicted label and probability\n",
    "    prob_orig = predict_proba_iso(x_orig.reshape(1, -1))[0,1]\n",
    "    label_orig = int(prob_orig >= 0.5)\n",
    "    if target_label is None:\n",
    "        target = 1 - label_orig\n",
    "    else:\n",
    "        target = int(target_label)\n",
    "\n",
    "    # bounds for delta: by default allow changes within (min_feature - val, max_feature - val)\n",
    "    if feature_bounds is None:\n",
    "        # set bounds from training feature ranges (we'll use training min/max scaled)\n",
    "        # Compute safe bounds around x_orig: +/- 3 STD (in scaled space that's reasonable)\n",
    "        # but to be general, allow range [-clip, +clip] where clip = max(abs(min,max)) * 1.1\n",
    "        # Here we set per-feature bounds to ensure we stay inside plausible values.\n",
    "        fb = []\n",
    "        X_all = np.vstack([X_train_scaled.values, X_test_scaled.values])\n",
    "        min_col = X_all[:, :].min(axis=0)\n",
    "        max_col = X_all[:, :].max(axis=0)\n",
    "        for i in range(n):\n",
    "            # bounds for delta so that x_adv remains in [min_col[i], max_col[i]]\n",
    "            lo = min_col[i] - x_orig[i]\n",
    "            hi = max_col[i] - x_orig[i]\n",
    "            fb.append((lo, hi))\n",
    "    else:\n",
    "        # feature_bounds given as list of (min,max) for each feature in input space\n",
    "        fb = []\n",
    "        for i, (mn, mx) in enumerate(feature_bounds):\n",
    "            fb.append((mn - x_orig[i], mx - x_orig[i]))\n",
    "\n",
    "    # objective: minimize norm(delta) + penalty * max(0, threshold - prob_target)\n",
    "    def objective(delta_flat):\n",
    "        delta = np.array(delta_flat)\n",
    "        x_candidate = x_orig + delta\n",
    "        # clip to bounds (avoid invalid values)\n",
    "        # compute predicted probability of target class\n",
    "        proba = predict_proba_iso(x_candidate.reshape(1, -1))[0, 1]\n",
    "        # fitness for target: we want proba_target >= 0.5 if target==1; else <=0.5\n",
    "        if target == 1:\n",
    "            violation = max(0.0, 0.5 - proba)\n",
    "        else:\n",
    "            violation = max(0.0, proba - 0.5)\n",
    "        # distance measure\n",
    "        if norm == 'l2':\n",
    "            dist = np.linalg.norm(delta)\n",
    "        elif norm == 'linf':\n",
    "            dist = np.max(np.abs(delta))\n",
    "        else:\n",
    "            dist = np.linalg.norm(delta)\n",
    "        # objective: distance + penalty * violation\n",
    "        return dist + penalty_coef * violation\n",
    "\n",
    "    # differential evolution\n",
    "    result = differential_evolution(\n",
    "        objective,\n",
    "        fb,\n",
    "        maxiter=maxiter,\n",
    "        popsize=popsize,\n",
    "        tol=1e-5,\n",
    "        polish=True,\n",
    "        updating='deferred',\n",
    "        seed=random_state,\n",
    "        mutation=(0.5, 1.0),\n",
    "        recombination=0.7,\n",
    "    )\n",
    "\n",
    "    delta_opt = result.x\n",
    "    x_adv = x_orig + delta_opt\n",
    "    prob_adv = predict_proba_iso(x_adv.reshape(1, -1))[0,1]\n",
    "    success = (prob_adv >= 0.5 and target == 1) or (prob_adv < 0.5 and target == 0)\n",
    "    distance = np.linalg.norm(delta_opt) if norm == 'l2' else np.max(np.abs(delta_opt))\n",
    "\n",
    "    return {\n",
    "        'delta': delta_opt,\n",
    "        'x_adv': x_adv,\n",
    "        'orig_prob': prob_orig,\n",
    "        'adv_prob': prob_adv,\n",
    "        'success': success,\n",
    "        'distance': distance,\n",
    "        'result_obj': result\n",
    "    }"
   ]
  },
  {
   "cell_type": "code",
   "execution_count": 43,
   "id": "7da7a070-d7f9-405e-afcd-0d3d6562d2a0",
   "metadata": {},
   "outputs": [],
   "source": [
    "start_time = time.time()"
   ]
  },
  {
   "cell_type": "code",
   "execution_count": 44,
   "id": "52614b05-e111-4d51-b709-c9013bd02f89",
   "metadata": {},
   "outputs": [
    {
     "ename": "TypeError",
     "evalue": "adversarial_explanation() got multiple values for argument 'target_label'",
     "output_type": "error",
     "traceback": [
      "\u001b[1;31m---------------------------------------------------------------------------\u001b[0m",
      "\u001b[1;31mTypeError\u001b[0m                                 Traceback (most recent call last)",
      "Cell \u001b[1;32mIn[44], line 4\u001b[0m\n\u001b[0;32m      2\u001b[0m idx \u001b[38;5;241m=\u001b[39m \u001b[38;5;241m0\u001b[39m\n\u001b[0;32m      3\u001b[0m x0 \u001b[38;5;241m=\u001b[39m X_test_scaled\u001b[38;5;241m.\u001b[39miloc[idx]\u001b[38;5;241m.\u001b[39mvalues  \u001b[38;5;66;03m# already scaled to model input\u001b[39;00m\n\u001b[1;32m----> 4\u001b[0m ae \u001b[38;5;241m=\u001b[39m adversarial_explanation(iso_forest, x0, target_label\u001b[38;5;241m=\u001b[39m\u001b[38;5;28;01mNone\u001b[39;00m, maxiter\u001b[38;5;241m=\u001b[39m\u001b[38;5;241m100\u001b[39m, popsize\u001b[38;5;241m=\u001b[39m\u001b[38;5;241m10\u001b[39m, penalty_coef\u001b[38;5;241m=\u001b[39m\u001b[38;5;241m200.0\u001b[39m, norm\u001b[38;5;241m=\u001b[39m\u001b[38;5;124m'\u001b[39m\u001b[38;5;124ml2\u001b[39m\u001b[38;5;124m'\u001b[39m, random_state\u001b[38;5;241m=\u001b[39m\u001b[38;5;241m0\u001b[39m)\n",
      "\u001b[1;31mTypeError\u001b[0m: adversarial_explanation() got multiple values for argument 'target_label'"
     ]
    }
   ],
   "source": [
    "# Run adversarial explanation for one test instance\n",
    "idx = 0\n",
    "x0 = X_test_scaled.iloc[idx].values  # already scaled to model input\n",
    "ae = adversarial_explanation(iso_forest, x0, target_label=None, maxiter=100, popsize=10, penalty_coef=200.0, norm='l2', random_state=0)"
   ]
  },
  {
   "cell_type": "code",
   "execution_count": null,
   "id": "a11818c6-fa0a-464f-bdcd-8dda77938529",
   "metadata": {},
   "outputs": [],
   "source": [
    "end_time = time.time()\n",
    "explanation_time = end_time - start_time\n",
    "print(f\"Adversarial Expanations on Isolation Forest (Explanation Time): {explanation_time:.2f} seconds\")"
   ]
  },
  {
   "cell_type": "code",
   "execution_count": null,
   "id": "92e65e5d-1150-4ac2-a800-780019b0fb73",
   "metadata": {},
   "outputs": [],
   "source": [
    "print(\"Original prob (class=1):\", ae['orig_prob'])\n",
    "print(\"Adversarial prob (class=1):\", ae['adv_prob'])\n",
    "print(\"Success flipped?:\", ae['success'])\n",
    "print(\"L2 distance of delta:\", ae['distance'])"
   ]
  },
  {
   "cell_type": "code",
   "execution_count": null,
   "id": "6e67243e-845e-4e66-a91e-97220569a192",
   "metadata": {},
   "outputs": [],
   "source": [
    "# show top changed features\n",
    "delta = ae['delta']\n",
    "df_changes = pd.DataFrame({\n",
    "    'feature': X_test_scaled.columns,\n",
    "    'orig': x0,\n",
    "    'adv': ae['x_adv'],\n",
    "    'delta': delta,\n",
    "    'abs_delta': np.abs(delta)\n",
    "}).sort_values('abs_delta', ascending=False)\n",
    "\n",
    "print(\"\\nTop feature changes (by absolute perturbation):\")\n",
    "print(df_changes.head(10).to_string(index=False))"
   ]
  },
  {
   "cell_type": "code",
   "execution_count": null,
   "id": "f7265775-e4d0-4cc1-a2e8-98bec78e1735",
   "metadata": {},
   "outputs": [],
   "source": [
    "# Take top 10 features by absolute change\n",
    "top_changes = df_changes.head(10).sort_values('abs_delta', ascending=True)\n",
    "\n",
    "plt.figure(figsize=(8, 6))\n",
    "plt.barh(top_changes['feature'], top_changes['delta'], color='skyblue')\n",
    "plt.xlabel('Change (delta)')\n",
    "plt.title('Top 10 Features Changed by Adversarial Example')\n",
    "plt.grid(axis='x')\n",
    "plt.show()"
   ]
  },
  {
   "cell_type": "code",
   "execution_count": null,
   "id": "0884e2f9-7e2f-40ac-8d2b-69ac9757922f",
   "metadata": {},
   "outputs": [],
   "source": []
  },
  {
   "cell_type": "code",
   "execution_count": null,
   "id": "ce73baa5-1825-4fae-9598-e906ff475f88",
   "metadata": {},
   "outputs": [],
   "source": []
  }
 ],
 "metadata": {
  "kernelspec": {
   "display_name": "Python 3 (ipykernel)",
   "language": "python",
   "name": "python3"
  },
  "language_info": {
   "codemirror_mode": {
    "name": "ipython",
    "version": 3
   },
   "file_extension": ".py",
   "mimetype": "text/x-python",
   "name": "python",
   "nbconvert_exporter": "python",
   "pygments_lexer": "ipython3",
   "version": "3.12.7"
  }
 },
 "nbformat": 4,
 "nbformat_minor": 5
}
