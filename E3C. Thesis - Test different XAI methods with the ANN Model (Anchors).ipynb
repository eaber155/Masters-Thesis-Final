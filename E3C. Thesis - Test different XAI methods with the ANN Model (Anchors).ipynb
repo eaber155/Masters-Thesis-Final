{
 "cells": [
  {
   "cell_type": "markdown",
   "id": "66782e3a",
   "metadata": {},
   "source": [
    "## MMTHE01 - Masters Thesis"
   ]
  },
  {
   "cell_type": "markdown",
   "id": "5e3bec9f",
   "metadata": {},
   "source": [
    "### E3. Thesis - Apply and Evaluate different XAI methods - Case Study with the ANN Model\n",
    "\n",
    "* Applying XAI on a Deep Learning AI model (ANN Model)"
   ]
  },
  {
   "cell_type": "markdown",
   "id": "5166f4f1-fbbb-4985-af8b-8f4ddc244cc3",
   "metadata": {},
   "source": [
    "#### Importing the libraries"
   ]
  },
  {
   "cell_type": "code",
   "execution_count": 1,
   "id": "dcff01cd-dd98-4ab5-80d5-20db0794bcab",
   "metadata": {},
   "outputs": [],
   "source": [
    "### import general libraries\n",
    "import numpy as np\n",
    "import matplotlib.pyplot as plt\n",
    "import pandas as pd\n",
    "import seaborn as sns\n",
    "import os\n",
    "import time\n",
    "from sklearn.metrics import roc_curve, auc\n",
    "from sklearn.metrics import recall_score\n",
    "from sklearn.preprocessing import StandardScaler\n",
    "from imblearn.over_sampling import SMOTE\n",
    "\n",
    "from sklearn.preprocessing import LabelEncoder"
   ]
  },
  {
   "cell_type": "code",
   "execution_count": 2,
   "id": "309fa0cb-3a99-4418-b435-c40bc081f20e",
   "metadata": {},
   "outputs": [],
   "source": [
    "os.chdir(r'S:\\Semester 4\\Masters Thesis Report\\6. Analysis')"
   ]
  },
  {
   "cell_type": "markdown",
   "id": "7bf5e01d-ed0c-4527-96b6-f6c5edb9ef59",
   "metadata": {},
   "source": [
    "#### Importing the dataset"
   ]
  },
  {
   "cell_type": "code",
   "execution_count": 3,
   "id": "3a75b239-433a-4ad1-9210-58038649e71f",
   "metadata": {},
   "outputs": [],
   "source": [
    "dataset = pd.read_csv('train_dataset_final_encoded.csv')"
   ]
  },
  {
   "cell_type": "code",
   "execution_count": 4,
   "id": "4e0fbb10-0af9-4314-aff5-046be20b0a25",
   "metadata": {},
   "outputs": [
    {
     "data": {
      "text/html": [
       "<div>\n",
       "<style scoped>\n",
       "    .dataframe tbody tr th:only-of-type {\n",
       "        vertical-align: middle;\n",
       "    }\n",
       "\n",
       "    .dataframe tbody tr th {\n",
       "        vertical-align: top;\n",
       "    }\n",
       "\n",
       "    .dataframe thead th {\n",
       "        text-align: right;\n",
       "    }\n",
       "</style>\n",
       "<table border=\"1\" class=\"dataframe\">\n",
       "  <thead>\n",
       "    <tr style=\"text-align: right;\">\n",
       "      <th></th>\n",
       "      <th>isFraud</th>\n",
       "      <th>TransactionDT</th>\n",
       "      <th>TransactionAmt</th>\n",
       "      <th>card1</th>\n",
       "      <th>C3</th>\n",
       "      <th>C9</th>\n",
       "      <th>C12</th>\n",
       "      <th>C13</th>\n",
       "      <th>C14</th>\n",
       "      <th>TransactionID</th>\n",
       "      <th>...</th>\n",
       "      <th>card4_discover</th>\n",
       "      <th>card4_mastercard</th>\n",
       "      <th>card4_visa</th>\n",
       "      <th>card6_charge card</th>\n",
       "      <th>card6_credit</th>\n",
       "      <th>card6_debit</th>\n",
       "      <th>card6_debit or credit</th>\n",
       "      <th>M4_M0</th>\n",
       "      <th>M4_M1</th>\n",
       "      <th>M4_M2</th>\n",
       "    </tr>\n",
       "  </thead>\n",
       "  <tbody>\n",
       "    <tr>\n",
       "      <th>0</th>\n",
       "      <td>0</td>\n",
       "      <td>86400</td>\n",
       "      <td>68.5</td>\n",
       "      <td>13926</td>\n",
       "      <td>0.0</td>\n",
       "      <td>1.0</td>\n",
       "      <td>0.0</td>\n",
       "      <td>1.0</td>\n",
       "      <td>1.0</td>\n",
       "      <td>2987000</td>\n",
       "      <td>...</td>\n",
       "      <td>1.0</td>\n",
       "      <td>0.0</td>\n",
       "      <td>0.0</td>\n",
       "      <td>0.0</td>\n",
       "      <td>1.0</td>\n",
       "      <td>0.0</td>\n",
       "      <td>0.0</td>\n",
       "      <td>0.0</td>\n",
       "      <td>0.0</td>\n",
       "      <td>1.0</td>\n",
       "    </tr>\n",
       "    <tr>\n",
       "      <th>1</th>\n",
       "      <td>0</td>\n",
       "      <td>86401</td>\n",
       "      <td>29.0</td>\n",
       "      <td>2755</td>\n",
       "      <td>0.0</td>\n",
       "      <td>0.0</td>\n",
       "      <td>0.0</td>\n",
       "      <td>1.0</td>\n",
       "      <td>1.0</td>\n",
       "      <td>2987001</td>\n",
       "      <td>...</td>\n",
       "      <td>0.0</td>\n",
       "      <td>1.0</td>\n",
       "      <td>0.0</td>\n",
       "      <td>0.0</td>\n",
       "      <td>1.0</td>\n",
       "      <td>0.0</td>\n",
       "      <td>0.0</td>\n",
       "      <td>1.0</td>\n",
       "      <td>0.0</td>\n",
       "      <td>0.0</td>\n",
       "    </tr>\n",
       "    <tr>\n",
       "      <th>2</th>\n",
       "      <td>0</td>\n",
       "      <td>86469</td>\n",
       "      <td>59.0</td>\n",
       "      <td>4663</td>\n",
       "      <td>0.0</td>\n",
       "      <td>1.0</td>\n",
       "      <td>0.0</td>\n",
       "      <td>1.0</td>\n",
       "      <td>1.0</td>\n",
       "      <td>2987002</td>\n",
       "      <td>...</td>\n",
       "      <td>0.0</td>\n",
       "      <td>0.0</td>\n",
       "      <td>1.0</td>\n",
       "      <td>0.0</td>\n",
       "      <td>0.0</td>\n",
       "      <td>1.0</td>\n",
       "      <td>0.0</td>\n",
       "      <td>1.0</td>\n",
       "      <td>0.0</td>\n",
       "      <td>0.0</td>\n",
       "    </tr>\n",
       "    <tr>\n",
       "      <th>3</th>\n",
       "      <td>0</td>\n",
       "      <td>86499</td>\n",
       "      <td>50.0</td>\n",
       "      <td>18132</td>\n",
       "      <td>0.0</td>\n",
       "      <td>1.0</td>\n",
       "      <td>0.0</td>\n",
       "      <td>25.0</td>\n",
       "      <td>1.0</td>\n",
       "      <td>2987003</td>\n",
       "      <td>...</td>\n",
       "      <td>0.0</td>\n",
       "      <td>1.0</td>\n",
       "      <td>0.0</td>\n",
       "      <td>0.0</td>\n",
       "      <td>0.0</td>\n",
       "      <td>1.0</td>\n",
       "      <td>0.0</td>\n",
       "      <td>1.0</td>\n",
       "      <td>0.0</td>\n",
       "      <td>0.0</td>\n",
       "    </tr>\n",
       "    <tr>\n",
       "      <th>4</th>\n",
       "      <td>0</td>\n",
       "      <td>86506</td>\n",
       "      <td>50.0</td>\n",
       "      <td>4497</td>\n",
       "      <td>0.0</td>\n",
       "      <td>0.0</td>\n",
       "      <td>0.0</td>\n",
       "      <td>1.0</td>\n",
       "      <td>1.0</td>\n",
       "      <td>2987004</td>\n",
       "      <td>...</td>\n",
       "      <td>0.0</td>\n",
       "      <td>1.0</td>\n",
       "      <td>0.0</td>\n",
       "      <td>0.0</td>\n",
       "      <td>1.0</td>\n",
       "      <td>0.0</td>\n",
       "      <td>0.0</td>\n",
       "      <td>1.0</td>\n",
       "      <td>0.0</td>\n",
       "      <td>0.0</td>\n",
       "    </tr>\n",
       "  </tbody>\n",
       "</table>\n",
       "<p>5 rows × 201 columns</p>\n",
       "</div>"
      ],
      "text/plain": [
       "   isFraud  TransactionDT  TransactionAmt  card1   C3   C9  C12   C13  C14  \\\n",
       "0        0          86400            68.5  13926  0.0  1.0  0.0   1.0  1.0   \n",
       "1        0          86401            29.0   2755  0.0  0.0  0.0   1.0  1.0   \n",
       "2        0          86469            59.0   4663  0.0  1.0  0.0   1.0  1.0   \n",
       "3        0          86499            50.0  18132  0.0  1.0  0.0  25.0  1.0   \n",
       "4        0          86506            50.0   4497  0.0  0.0  0.0   1.0  1.0   \n",
       "\n",
       "   TransactionID  ...  card4_discover  card4_mastercard  card4_visa  \\\n",
       "0        2987000  ...             1.0               0.0         0.0   \n",
       "1        2987001  ...             0.0               1.0         0.0   \n",
       "2        2987002  ...             0.0               0.0         1.0   \n",
       "3        2987003  ...             0.0               1.0         0.0   \n",
       "4        2987004  ...             0.0               1.0         0.0   \n",
       "\n",
       "   card6_charge card  card6_credit  card6_debit  card6_debit or credit  M4_M0  \\\n",
       "0                0.0           1.0          0.0                    0.0    0.0   \n",
       "1                0.0           1.0          0.0                    0.0    1.0   \n",
       "2                0.0           0.0          1.0                    0.0    1.0   \n",
       "3                0.0           0.0          1.0                    0.0    1.0   \n",
       "4                0.0           1.0          0.0                    0.0    1.0   \n",
       "\n",
       "   M4_M1  M4_M2  \n",
       "0    0.0    1.0  \n",
       "1    0.0    0.0  \n",
       "2    0.0    0.0  \n",
       "3    0.0    0.0  \n",
       "4    0.0    0.0  \n",
       "\n",
       "[5 rows x 201 columns]"
      ]
     },
     "execution_count": 4,
     "metadata": {},
     "output_type": "execute_result"
    }
   ],
   "source": [
    "dataset.head()"
   ]
  },
  {
   "cell_type": "code",
   "execution_count": 5,
   "id": "7fac94f5-1551-4af7-ae4b-e1741b7e7faa",
   "metadata": {},
   "outputs": [
    {
     "data": {
      "text/plain": [
       "(590540, 201)"
      ]
     },
     "execution_count": 5,
     "metadata": {},
     "output_type": "execute_result"
    }
   ],
   "source": [
    "dataset.shape"
   ]
  },
  {
   "cell_type": "markdown",
   "id": "c87977dd-aa84-4b58-9650-0d665fcda431",
   "metadata": {},
   "source": [
    "### 5.1 Split the data into Train-Test"
   ]
  },
  {
   "cell_type": "markdown",
   "id": "1a56198e-d54a-48b7-af89-327b97e5fa00",
   "metadata": {},
   "source": [
    "#### 5.1.1 Separate the features and the label"
   ]
  },
  {
   "cell_type": "code",
   "execution_count": 6,
   "id": "1203eb3e-4fd5-46ff-ae8a-9f19f28fc38a",
   "metadata": {},
   "outputs": [],
   "source": [
    "dataset_final = dataset.drop('TransactionID', axis=1)"
   ]
  },
  {
   "cell_type": "code",
   "execution_count": 7,
   "id": "7c272214-395c-4d26-9bbe-3fa71a559a85",
   "metadata": {},
   "outputs": [],
   "source": [
    "#X = dataset.iloc[:, 1:].values\n",
    "#y = dataset.iloc[:,0].values"
   ]
  },
  {
   "cell_type": "code",
   "execution_count": 8,
   "id": "d5c73d18-12ea-4953-bacc-f1514b8b0e26",
   "metadata": {},
   "outputs": [],
   "source": [
    "X = dataset_final.iloc[:, 1:]\n",
    "y = dataset_final.iloc[:,0]"
   ]
  },
  {
   "cell_type": "code",
   "execution_count": 9,
   "id": "1caa73da-cd40-4621-af54-e993fe1c0cd2",
   "metadata": {},
   "outputs": [],
   "source": [
    "from sklearn.model_selection import train_test_split\n",
    "X_train, X_test, y_train, y_test = train_test_split(X, y, test_size = 0.2, stratify=y, random_state = 1)"
   ]
  },
  {
   "cell_type": "code",
   "execution_count": null,
   "id": "1a8276cc-75da-4969-938c-68ea0251c511",
   "metadata": {},
   "outputs": [],
   "source": []
  },
  {
   "cell_type": "markdown",
   "id": "1a968e04-8810-46c7-8511-ab63fe58eb61",
   "metadata": {},
   "source": [
    "### 5.2 Applying SMOTE"
   ]
  },
  {
   "cell_type": "code",
   "execution_count": 1,
   "id": "375f61e9-a692-4a26-a10a-688278ed825d",
   "metadata": {},
   "outputs": [
    {
     "ename": "NameError",
     "evalue": "name 'SMOTE' is not defined",
     "output_type": "error",
     "traceback": [
      "\u001b[1;31m---------------------------------------------------------------------------\u001b[0m",
      "\u001b[1;31mNameError\u001b[0m                                 Traceback (most recent call last)",
      "Cell \u001b[1;32mIn[1], line 2\u001b[0m\n\u001b[0;32m      1\u001b[0m \u001b[38;5;66;03m# Applying SMOTE only to the training data\u001b[39;00m\n\u001b[1;32m----> 2\u001b[0m smote \u001b[38;5;241m=\u001b[39m SMOTE(random_state\u001b[38;5;241m=\u001b[39m\u001b[38;5;241m1\u001b[39m)\n\u001b[0;32m      3\u001b[0m X_train, y_train \u001b[38;5;241m=\u001b[39m smote\u001b[38;5;241m.\u001b[39mfit_resample(X_train_im, y_train_im)\n",
      "\u001b[1;31mNameError\u001b[0m: name 'SMOTE' is not defined"
     ]
    }
   ],
   "source": [
    "# Applying SMOTE only to the training data\n",
    "smote = SMOTE(random_state=1)\n",
    "X_train, y_train = smote.fit_resample(X_train_im, y_train_im)"
   ]
  },
  {
   "cell_type": "code",
   "execution_count": null,
   "id": "3a917d85-e32c-4f3c-96fb-d747a62f0822",
   "metadata": {},
   "outputs": [],
   "source": []
  },
  {
   "cell_type": "markdown",
   "id": "e59bd8d5-0918-4671-a1ae-690ae71e8824",
   "metadata": {},
   "source": [
    "### 5.3 Feature Scaling"
   ]
  },
  {
   "cell_type": "code",
   "execution_count": 10,
   "id": "cdbab600-ae2a-4923-9624-edc62166f0f7",
   "metadata": {},
   "outputs": [],
   "source": [
    "sc = StandardScaler()\n",
    "X_tn_scaled = sc.fit_transform(X_train)\n",
    "X_tt_scaled = sc.fit_transform(X_test)\n",
    "\n",
    "\n",
    "# Convert to dataframe\n",
    "X_train_scaled = pd.DataFrame(X_tn_scaled, columns=X_train.columns)\n",
    "X_test_scaled = pd.DataFrame(X_tt_scaled, columns=X_test.columns)"
   ]
  },
  {
   "cell_type": "code",
   "execution_count": null,
   "id": "891cc37a-8ee0-40db-9626-25c0192a2f9e",
   "metadata": {},
   "outputs": [],
   "source": []
  },
  {
   "cell_type": "markdown",
   "id": "bd656b46-49f6-454e-a324-d5e75f67abc1",
   "metadata": {},
   "source": [
    "### 5.4 Model Fitting"
   ]
  },
  {
   "cell_type": "code",
   "execution_count": 11,
   "id": "cb69d018-0547-479c-9dfb-cb171892d4e6",
   "metadata": {},
   "outputs": [],
   "source": [
    "from tensorflow.keras.models import Sequential\n",
    "from tensorflow.keras.layers import Input, Dense, Dropout\n",
    "from tensorflow.keras.callbacks import EarlyStopping"
   ]
  },
  {
   "cell_type": "code",
   "execution_count": 12,
   "id": "b2a01499-9fd5-4bcc-89c3-e8599efd9351",
   "metadata": {},
   "outputs": [],
   "source": [
    "# Build an ANN model\n",
    "model = Sequential([\n",
    "    Input(shape=(X_train.shape[1],)),  # Explicit Input layer instead of input_dim in Dense\n",
    "    Dense(64, activation='relu'),\n",
    "    Dropout(0.3),\n",
    "    Dense(32, activation='relu'),\n",
    "    Dropout(0.2),\n",
    "    Dense(1, activation='sigmoid')\n",
    "])\n",
    "\n",
    "model.compile(optimizer='adam', loss='binary_crossentropy', metrics=['AUC'])\n",
    "\n",
    "# Early stopping to prevent overfitting\n",
    "early_stop = EarlyStopping(monitor='val_AUC', patience=3, restore_best_weights=True, mode='max')"
   ]
  },
  {
   "cell_type": "code",
   "execution_count": 13,
   "id": "799eb3ab-c96c-485c-8383-35a32e3f7d1b",
   "metadata": {},
   "outputs": [
    {
     "name": "stdout",
     "output_type": "stream",
     "text": [
      "Epoch 1/20\n",
      "\u001b[1m1477/1477\u001b[0m \u001b[32m━━━━━━━━━━━━━━━━━━━━\u001b[0m\u001b[37m\u001b[0m \u001b[1m8s\u001b[0m 4ms/step - AUC: 0.7477 - loss: 0.1595 - val_AUC: 0.8621 - val_loss: 0.1040\n",
      "Epoch 2/20\n",
      "\u001b[1m1477/1477\u001b[0m \u001b[32m━━━━━━━━━━━━━━━━━━━━\u001b[0m\u001b[37m\u001b[0m \u001b[1m6s\u001b[0m 4ms/step - AUC: 0.8437 - loss: 0.1094 - val_AUC: 0.8731 - val_loss: 0.1007\n",
      "Epoch 3/20\n",
      "\u001b[1m1477/1477\u001b[0m \u001b[32m━━━━━━━━━━━━━━━━━━━━\u001b[0m\u001b[37m\u001b[0m \u001b[1m9s\u001b[0m 3ms/step - AUC: 0.8543 - loss: 0.1051 - val_AUC: 0.8769 - val_loss: 0.0990\n",
      "Epoch 4/20\n",
      "\u001b[1m1477/1477\u001b[0m \u001b[32m━━━━━━━━━━━━━━━━━━━━\u001b[0m\u001b[37m\u001b[0m \u001b[1m5s\u001b[0m 4ms/step - AUC: 0.8676 - loss: 0.1010 - val_AUC: 0.8814 - val_loss: 0.0970\n",
      "Epoch 5/20\n",
      "\u001b[1m1477/1477\u001b[0m \u001b[32m━━━━━━━━━━━━━━━━━━━━\u001b[0m\u001b[37m\u001b[0m \u001b[1m10s\u001b[0m 4ms/step - AUC: 0.8759 - loss: 0.0978 - val_AUC: 0.8856 - val_loss: 0.0952\n",
      "Epoch 6/20\n",
      "\u001b[1m1477/1477\u001b[0m \u001b[32m━━━━━━━━━━━━━━━━━━━━\u001b[0m\u001b[37m\u001b[0m \u001b[1m10s\u001b[0m 3ms/step - AUC: 0.8777 - loss: 0.0959 - val_AUC: 0.8859 - val_loss: 0.0950\n",
      "Epoch 7/20\n",
      "\u001b[1m1477/1477\u001b[0m \u001b[32m━━━━━━━━━━━━━━━━━━━━\u001b[0m\u001b[37m\u001b[0m \u001b[1m5s\u001b[0m 3ms/step - AUC: 0.8801 - loss: 0.0942 - val_AUC: 0.8898 - val_loss: 0.0928\n",
      "Epoch 8/20\n",
      "\u001b[1m1477/1477\u001b[0m \u001b[32m━━━━━━━━━━━━━━━━━━━━\u001b[0m\u001b[37m\u001b[0m \u001b[1m5s\u001b[0m 3ms/step - AUC: 0.8842 - loss: 0.0933 - val_AUC: 0.8920 - val_loss: 0.0920\n",
      "Epoch 9/20\n",
      "\u001b[1m1477/1477\u001b[0m \u001b[32m━━━━━━━━━━━━━━━━━━━━\u001b[0m\u001b[37m\u001b[0m \u001b[1m5s\u001b[0m 3ms/step - AUC: 0.8848 - loss: 0.0916 - val_AUC: 0.8927 - val_loss: 0.0914\n",
      "Epoch 10/20\n",
      "\u001b[1m1477/1477\u001b[0m \u001b[32m━━━━━━━━━━━━━━━━━━━━\u001b[0m\u001b[37m\u001b[0m \u001b[1m5s\u001b[0m 3ms/step - AUC: 0.8882 - loss: 0.0917 - val_AUC: 0.8958 - val_loss: 0.0910\n",
      "Epoch 11/20\n",
      "\u001b[1m1477/1477\u001b[0m \u001b[32m━━━━━━━━━━━━━━━━━━━━\u001b[0m\u001b[37m\u001b[0m \u001b[1m5s\u001b[0m 3ms/step - AUC: 0.8879 - loss: 0.0917 - val_AUC: 0.8960 - val_loss: 0.0898\n",
      "Epoch 12/20\n",
      "\u001b[1m1477/1477\u001b[0m \u001b[32m━━━━━━━━━━━━━━━━━━━━\u001b[0m\u001b[37m\u001b[0m \u001b[1m5s\u001b[0m 3ms/step - AUC: 0.8899 - loss: 0.0892 - val_AUC: 0.8961 - val_loss: 0.0896\n",
      "Epoch 13/20\n",
      "\u001b[1m1477/1477\u001b[0m \u001b[32m━━━━━━━━━━━━━━━━━━━━\u001b[0m\u001b[37m\u001b[0m \u001b[1m5s\u001b[0m 4ms/step - AUC: 0.8930 - loss: 0.0902 - val_AUC: 0.8996 - val_loss: 0.0889\n",
      "Epoch 14/20\n",
      "\u001b[1m1477/1477\u001b[0m \u001b[32m━━━━━━━━━━━━━━━━━━━━\u001b[0m\u001b[37m\u001b[0m \u001b[1m5s\u001b[0m 4ms/step - AUC: 0.8931 - loss: 0.0879 - val_AUC: 0.8977 - val_loss: 0.0891\n",
      "Epoch 15/20\n",
      "\u001b[1m1477/1477\u001b[0m \u001b[32m━━━━━━━━━━━━━━━━━━━━\u001b[0m\u001b[37m\u001b[0m \u001b[1m10s\u001b[0m 3ms/step - AUC: 0.8956 - loss: 0.0871 - val_AUC: 0.8984 - val_loss: 0.0886\n",
      "Epoch 16/20\n",
      "\u001b[1m1477/1477\u001b[0m \u001b[32m━━━━━━━━━━━━━━━━━━━━\u001b[0m\u001b[37m\u001b[0m \u001b[1m5s\u001b[0m 3ms/step - AUC: 0.8962 - loss: 0.0876 - val_AUC: 0.8987 - val_loss: 0.0894\n"
     ]
    }
   ],
   "source": [
    "# Train the ANN model with timing\n",
    "history = model.fit(\n",
    "    X_train_scaled, y_train,\n",
    "    validation_split=0.2,\n",
    "    epochs=20,\n",
    "    batch_size=256,\n",
    "    callbacks=[early_stop],\n",
    "    verbose=1\n",
    ")"
   ]
  },
  {
   "cell_type": "code",
   "execution_count": null,
   "id": "f5b12b83-6b8c-49c3-bc79-63049e441d94",
   "metadata": {},
   "outputs": [],
   "source": []
  },
  {
   "cell_type": "markdown",
   "id": "b405e695-e767-4cd1-a988-864a58ff6e09",
   "metadata": {},
   "source": [
    "### 5.5 Applying XAI methods to the ANN Model"
   ]
  },
  {
   "cell_type": "markdown",
   "id": "8eeb2d8b-2e15-4db4-a010-b4559825a95a",
   "metadata": {},
   "source": [
    "#### 5.5.5 Applying SHAP to the ANN Model\n",
    "* E3C. Thesis - Test different XAI methods with the ANN Model (Anchors)"
   ]
  },
  {
   "cell_type": "code",
   "execution_count": null,
   "id": "e1e8845d-c319-4cd0-a165-6076057867d4",
   "metadata": {},
   "outputs": [],
   "source": [
    "import warnings\n",
    "warnings.filterwarnings(\"ignore\", category=UserWarning)"
   ]
  },
  {
   "cell_type": "code",
   "execution_count": null,
   "id": "aa908627-77ec-4e88-87aa-f41a6dd32467",
   "metadata": {},
   "outputs": [],
   "source": [
    "# Define the prediction function\n",
    "predict_fn = lambda x: model.predict_proba(x).astype(float)"
   ]
  },
  {
   "cell_type": "code",
   "execution_count": null,
   "id": "0ed4998b-1c84-4fb0-91c7-a5fdf30f65e4",
   "metadata": {},
   "outputs": [],
   "source": [
    "from alibi.explainers import AnchorTabular"
   ]
  },
  {
   "cell_type": "code",
   "execution_count": null,
   "id": "f1fad931-cfb1-4ba4-8800-5c4863a5f0c2",
   "metadata": {},
   "outputs": [],
   "source": [
    "start_time = time.time()"
   ]
  },
  {
   "cell_type": "code",
   "execution_count": null,
   "id": "f902ce86-641a-4980-b3c8-8293193ac671",
   "metadata": {},
   "outputs": [],
   "source": [
    "#Set up the Anchor explainer\n",
    "feature_names = X_train.columns.tolist()\n",
    "anchor_explainer = AnchorTabular(predict_fn, feature_names=feature_names, categorical_names={})\n",
    "anchor_explainer.fit(X_train_scaled.values, disc_perc=[25, 50, 75])"
   ]
  },
  {
   "cell_type": "code",
   "execution_count": null,
   "id": "26253c77-399c-4ec0-a38e-4cb2514cc08b",
   "metadata": {},
   "outputs": [],
   "source": [
    "#Explain a specific test instance\n",
    "instance = X_test_scaled.iloc[0].values.reshape(1, -1)\n",
    "anchor_explanation = anchor_explainer.explain(instance,\n",
    "                                             max_anchor_size=10    # allow up to 10 feature conditions in anchor\n",
    "                                             )"
   ]
  },
  {
   "cell_type": "code",
   "execution_count": null,
   "id": "af6b1d22-9da5-4393-9022-c672bd70ba2a",
   "metadata": {},
   "outputs": [],
   "source": [
    "#Output the results\n",
    "print(\"Anchor for this instance:\", anchor_explanation.anchor)\n",
    "print(\"Precision:\", anchor_explanation.precision)\n",
    "print(\"Coverage:\", anchor_explanation.coverage)"
   ]
  },
  {
   "cell_type": "code",
   "execution_count": null,
   "id": "c28644c6-46ab-490b-8680-c469dba1195c",
   "metadata": {},
   "outputs": [],
   "source": [
    "end_time = time.time()\n",
    "explanation_time = end_time - start_time\n",
    "print(f\"Anchors on ANN (Explanation Time): {explanation_time:.2f} seconds\")"
   ]
  },
  {
   "cell_type": "code",
   "execution_count": null,
   "id": "dc0d9da6-430e-46cc-a713-2e9264658dd0",
   "metadata": {},
   "outputs": [],
   "source": [
    "# Extract features and rules from anchor explanation\n",
    "anchor_rules = anchor_explanation.anchor\n",
    "precision = anchor_explanation.precision\n",
    "coverage = anchor_explanation.coverage\n",
    "\n",
    "# Create a horizontal bar chart\n",
    "plt.figure(figsize=(8, len(anchor_rules)*0.5))\n",
    "plt.barh(range(len(anchor_rules)), [1]*len(anchor_rules), color='skyblue')\n",
    "plt.yticks(range(len(anchor_rules)), anchor_rules)\n",
    "plt.xlabel('Anchor Feature Presence')\n",
    "plt.title(f'Anchor Rule (Precision={precision:.2f}, Coverage={coverage:.2f})')\n",
    "plt.show()"
   ]
  },
  {
   "cell_type": "code",
   "execution_count": null,
   "id": "af77c6f4-f330-4e55-896d-ee376a44849e",
   "metadata": {},
   "outputs": [],
   "source": []
  },
  {
   "cell_type": "code",
   "execution_count": null,
   "id": "7f38c796",
   "metadata": {},
   "outputs": [],
   "source": []
  }
 ],
 "metadata": {
  "kernelspec": {
   "display_name": "Python 3 (ipykernel)",
   "language": "python",
   "name": "python3"
  },
  "language_info": {
   "codemirror_mode": {
    "name": "ipython",
    "version": 3
   },
   "file_extension": ".py",
   "mimetype": "text/x-python",
   "name": "python",
   "nbconvert_exporter": "python",
   "pygments_lexer": "ipython3",
   "version": "3.12.7"
  }
 },
 "nbformat": 4,
 "nbformat_minor": 5
}
