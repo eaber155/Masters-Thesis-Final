{
 "cells": [
  {
   "cell_type": "markdown",
   "id": "66782e3a",
   "metadata": {},
   "source": [
    "## MMTHE01 - Masters Thesis"
   ]
  },
  {
   "cell_type": "markdown",
   "id": "5e3bec9f",
   "metadata": {},
   "source": [
    "### E3. Thesis - Apply and Evaluate different XAI methods - Case Study with the ANN Model\n",
    "\n",
    "* Applying XAI on a Deep Learning AI model (ANN Model)"
   ]
  },
  {
   "cell_type": "markdown",
   "id": "5166f4f1-fbbb-4985-af8b-8f4ddc244cc3",
   "metadata": {},
   "source": [
    "#### Importing the libraries"
   ]
  },
  {
   "cell_type": "code",
   "execution_count": null,
   "id": "dcff01cd-dd98-4ab5-80d5-20db0794bcab",
   "metadata": {},
   "outputs": [],
   "source": [
    "### import general libraries\n",
    "import numpy as np\n",
    "import matplotlib.pyplot as plt\n",
    "import pandas as pd\n",
    "import seaborn as sns\n",
    "import os\n",
    "import time\n",
    "from sklearn.metrics import roc_curve, auc\n",
    "from sklearn.metrics import recall_score\n",
    "from sklearn.preprocessing import StandardScaler\n",
    "from imblearn.over_sampling import SMOTE\n",
    "\n",
    "from sklearn.preprocessing import LabelEncoder"
   ]
  },
  {
   "cell_type": "code",
   "execution_count": null,
   "id": "309fa0cb-3a99-4418-b435-c40bc081f20e",
   "metadata": {},
   "outputs": [],
   "source": [
    "# Check your current working directory\n",
    "cwd = os.getcwd()\n",
    "\n",
    "# Define your relative path\n",
    "relative_path = r\"6. Analysis\"  # adjust this relative to cwd\n",
    "\n",
    "# Build the full path\n",
    "full_path = os.path.join(cwd, relative_path)\n",
    "\n",
    "# Check if it exists before changing\n",
    "if os.path.exists(full_path):\n",
    "    os.chdir(full_path)\n",
    "    print(\"Changed directory to:\", full_path)\n",
    "else:\n",
    "    print(\"Folder does not exist:\", full_path)"
   ]
  },
  {
   "cell_type": "markdown",
   "id": "7bf5e01d-ed0c-4527-96b6-f6c5edb9ef59",
   "metadata": {},
   "source": [
    "#### Importing the dataset"
   ]
  },
  {
   "cell_type": "code",
   "execution_count": null,
   "id": "3a75b239-433a-4ad1-9210-58038649e71f",
   "metadata": {},
   "outputs": [],
   "source": [
    "dataset = pd.read_csv('train_dataset_final_encoded.csv')"
   ]
  },
  {
   "cell_type": "code",
   "execution_count": null,
   "id": "4e0fbb10-0af9-4314-aff5-046be20b0a25",
   "metadata": {},
   "outputs": [],
   "source": [
    "dataset.head()"
   ]
  },
  {
   "cell_type": "code",
   "execution_count": null,
   "id": "7fac94f5-1551-4af7-ae4b-e1741b7e7faa",
   "metadata": {},
   "outputs": [],
   "source": [
    "dataset.shape"
   ]
  },
  {
   "cell_type": "markdown",
   "id": "c87977dd-aa84-4b58-9650-0d665fcda431",
   "metadata": {},
   "source": [
    "### 5.1 Split the data into Train-Test"
   ]
  },
  {
   "cell_type": "markdown",
   "id": "1a56198e-d54a-48b7-af89-327b97e5fa00",
   "metadata": {},
   "source": [
    "#### 5.1.1 Separate the features and the label"
   ]
  },
  {
   "cell_type": "code",
   "execution_count": null,
   "id": "1203eb3e-4fd5-46ff-ae8a-9f19f28fc38a",
   "metadata": {},
   "outputs": [],
   "source": [
    "dataset_final = dataset.drop('TransactionID', axis=1)"
   ]
  },
  {
   "cell_type": "code",
   "execution_count": null,
   "id": "7c272214-395c-4d26-9bbe-3fa71a559a85",
   "metadata": {},
   "outputs": [],
   "source": [
    "#X = dataset.iloc[:, 1:].values\n",
    "#y = dataset.iloc[:,0].values"
   ]
  },
  {
   "cell_type": "code",
   "execution_count": null,
   "id": "d5c73d18-12ea-4953-bacc-f1514b8b0e26",
   "metadata": {},
   "outputs": [],
   "source": [
    "X = dataset_final.iloc[:, 1:]\n",
    "y = dataset_final.iloc[:,0]"
   ]
  },
  {
   "cell_type": "code",
   "execution_count": null,
   "id": "1caa73da-cd40-4621-af54-e993fe1c0cd2",
   "metadata": {},
   "outputs": [],
   "source": [
    "from sklearn.model_selection import train_test_split\n",
    "X_train_im, X_test, y_train_im, y_test = train_test_split(X, y, test_size = 0.2, stratify=y, random_state = 1)"
   ]
  },
  {
   "cell_type": "code",
   "execution_count": null,
   "id": "1a8276cc-75da-4969-938c-68ea0251c511",
   "metadata": {},
   "outputs": [],
   "source": []
  },
  {
   "cell_type": "markdown",
   "id": "081983f7-935d-47b4-9bf4-58f9bf304ab9",
   "metadata": {},
   "source": [
    "### 5.2 Applying SMOTE"
   ]
  },
  {
   "cell_type": "code",
   "execution_count": null,
   "id": "0fca0e22-632a-4411-9cf4-ca831502ab9e",
   "metadata": {},
   "outputs": [],
   "source": [
    "# Applying SMOTE only to the training data\n",
    "smote = SMOTE(random_state=1)\n",
    "X_train, y_train = smote.fit_resample(X_train_im, y_train_im)"
   ]
  },
  {
   "cell_type": "code",
   "execution_count": null,
   "id": "470f9681-3fb9-4c7c-af1e-4022bb334d0d",
   "metadata": {},
   "outputs": [],
   "source": []
  },
  {
   "cell_type": "markdown",
   "id": "e59bd8d5-0918-4671-a1ae-690ae71e8824",
   "metadata": {},
   "source": [
    "### 5.3 Feature Scaling"
   ]
  },
  {
   "cell_type": "code",
   "execution_count": null,
   "id": "cdbab600-ae2a-4923-9624-edc62166f0f7",
   "metadata": {},
   "outputs": [],
   "source": [
    "sc = StandardScaler()\n",
    "X_tn_scaled = sc.fit_transform(X_train)\n",
    "X_tt_scaled = sc.fit_transform(X_test)\n",
    "\n",
    "\n",
    "# Convert to dataframe\n",
    "X_train_scaled = pd.DataFrame(X_tn_scaled, columns=X_train.columns)\n",
    "X_test_scaled = pd.DataFrame(X_tt_scaled, columns=X_test.columns)"
   ]
  },
  {
   "cell_type": "code",
   "execution_count": null,
   "id": "891cc37a-8ee0-40db-9626-25c0192a2f9e",
   "metadata": {},
   "outputs": [],
   "source": []
  },
  {
   "cell_type": "markdown",
   "id": "bd656b46-49f6-454e-a324-d5e75f67abc1",
   "metadata": {},
   "source": [
    "### 5.3 Model Fitting"
   ]
  },
  {
   "cell_type": "code",
   "execution_count": null,
   "id": "cb69d018-0547-479c-9dfb-cb171892d4e6",
   "metadata": {},
   "outputs": [],
   "source": [
    "from tensorflow.keras.models import Sequential\n",
    "from tensorflow.keras.layers import Input, Dense, Dropout\n",
    "from tensorflow.keras.callbacks import EarlyStopping"
   ]
  },
  {
   "cell_type": "code",
   "execution_count": null,
   "id": "b2a01499-9fd5-4bcc-89c3-e8599efd9351",
   "metadata": {},
   "outputs": [],
   "source": [
    "# Build an ANN model\n",
    "model = Sequential([\n",
    "    Input(shape=(X_train.shape[1],)),  # Explicit Input layer instead of input_dim in Dense\n",
    "    Dense(64, activation='relu'),\n",
    "    Dropout(0.3),\n",
    "    Dense(32, activation='relu'),\n",
    "    Dropout(0.2),\n",
    "    Dense(1, activation='sigmoid')\n",
    "])\n",
    "\n",
    "model.compile(optimizer='adam', loss='binary_crossentropy', metrics=['AUC'])\n",
    "\n",
    "# Early stopping to prevent overfitting\n",
    "early_stop = EarlyStopping(monitor='val_AUC', patience=3, restore_best_weights=True, mode='max')"
   ]
  },
  {
   "cell_type": "code",
   "execution_count": null,
   "id": "799eb3ab-c96c-485c-8383-35a32e3f7d1b",
   "metadata": {},
   "outputs": [],
   "source": [
    "# Train the ANN model with timing\n",
    "history = model.fit(\n",
    "    X_train_scaled, y_train,\n",
    "    validation_split=0.2,\n",
    "    epochs=20,\n",
    "    batch_size=256,\n",
    "    callbacks=[early_stop],\n",
    "    verbose=1\n",
    ")"
   ]
  },
  {
   "cell_type": "code",
   "execution_count": null,
   "id": "f5b12b83-6b8c-49c3-bc79-63049e441d94",
   "metadata": {},
   "outputs": [],
   "source": []
  },
  {
   "cell_type": "markdown",
   "id": "b405e695-e767-4cd1-a988-864a58ff6e09",
   "metadata": {},
   "source": [
    "### 5.5 Applying XAI methods to the ANN Model"
   ]
  },
  {
   "cell_type": "markdown",
   "id": "abf39edc-8f54-4240-8bc1-2ceb01c5a097",
   "metadata": {},
   "source": [
    "#### 5.5.2 Applying LIME to the ANN Model"
   ]
  },
  {
   "cell_type": "code",
   "execution_count": null,
   "id": "4fa5fec8-366a-4580-8227-9ed1f6c6b167",
   "metadata": {},
   "outputs": [],
   "source": [
    "import lime\n",
    "import lime.lime_tabular"
   ]
  },
  {
   "cell_type": "code",
   "execution_count": null,
   "id": "56a63637-a3ea-4278-9025-6768c87f5dc4",
   "metadata": {},
   "outputs": [],
   "source": [
    "X_test_scaled.head()"
   ]
  },
  {
   "cell_type": "code",
   "execution_count": null,
   "id": "64857bf2-bc6e-463a-b2ce-f76bdda62c01",
   "metadata": {},
   "outputs": [],
   "source": [
    "start_time = time.time()"
   ]
  },
  {
   "cell_type": "code",
   "execution_count": null,
   "id": "721871f4-3f26-4430-8432-e5dc57630043",
   "metadata": {},
   "outputs": [],
   "source": [
    "lime_explainer = lime.lime_tabular.LimeTabularExplainer(\n",
    "    training_data=X_train_scaled,\n",
    "    feature_names=feature_names,\n",
    "    mode='classification',\n",
    "    verbose=True\n",
    ")"
   ]
  },
  {
   "cell_type": "code",
   "execution_count": null,
   "id": "c505975c-5228-4d6c-81fc-8543c7677d93",
   "metadata": {},
   "outputs": [],
   "source": [
    "i = 0 # Choose an index to explain\n",
    "sample = X_test_scaled.values[i]"
   ]
  },
  {
   "cell_type": "code",
   "execution_count": null,
   "id": "8499755f-8538-47fa-b581-7d7f954ccd39",
   "metadata": {},
   "outputs": [],
   "source": [
    "lime_exp = lime_explainer.explain_instance(\n",
    "    data_row=X_test_scaled.values[i],\n",
    "    predict_fn=model.predict_proba,\n",
    "    num_features=10\n",
    ")"
   ]
  },
  {
   "cell_type": "code",
   "execution_count": null,
   "id": "3c3a5930-5e3c-4d23-8618-0d8577064c49",
   "metadata": {},
   "outputs": [],
   "source": [
    "print(lime_exp.as_list())"
   ]
  },
  {
   "cell_type": "code",
   "execution_count": null,
   "id": "2bc929b8-fe83-4832-82c4-79d66a792b48",
   "metadata": {},
   "outputs": [],
   "source": [
    "lime_exp.show_in_notebook()"
   ]
  },
  {
   "cell_type": "code",
   "execution_count": null,
   "id": "48c4e632-83f4-4360-b094-d3fcce3ca778",
   "metadata": {},
   "outputs": [],
   "source": [
    "end_time = time.time()\n",
    "training_time = end_time - start_time\n",
    "print(f\"LIME on ANN Model (Explanation Time): {training_time:.2f} seconds\")"
   ]
  },
  {
   "cell_type": "code",
   "execution_count": null,
   "id": "1ca72760-a999-485e-a627-56e3a37069a0",
   "metadata": {},
   "outputs": [],
   "source": []
  },
  {
   "cell_type": "code",
   "execution_count": null,
   "id": "43d5ee8a-875d-42b9-8d08-e942116e5dee",
   "metadata": {},
   "outputs": [],
   "source": []
  },
  {
   "cell_type": "markdown",
   "id": "c4a3d638-e0ae-45d7-a4a6-5022becf8353",
   "metadata": {},
   "source": [
    "#### 5.5.3 Applying Submodular Pick (SP)-LIME to the ANN Model\n",
    "* This is a variant of LIME"
   ]
  },
  {
   "cell_type": "code",
   "execution_count": null,
   "id": "64aedffc-969b-4929-afe1-d0c3773e5aea",
   "metadata": {
    "scrolled": true
   },
   "outputs": [],
   "source": [
    "import lime\n",
    "import lime.lime_tabular\n",
    "from lime import submodular_pick"
   ]
  },
  {
   "cell_type": "code",
   "execution_count": null,
   "id": "edfdc434-994b-4e9a-80f2-5f8d4eb421c0",
   "metadata": {},
   "outputs": [],
   "source": [
    "feature_names = X_train.columns.tolist()"
   ]
  },
  {
   "cell_type": "code",
   "execution_count": null,
   "id": "22712e7b-ac7b-47e9-9c9f-26235388062d",
   "metadata": {},
   "outputs": [],
   "source": [
    "sample_size = 100\n",
    "num_exps_desired = 5"
   ]
  },
  {
   "cell_type": "code",
   "execution_count": null,
   "id": "d00e4960-94b6-43dc-a77a-3a7caad03ffd",
   "metadata": {},
   "outputs": [],
   "source": [
    "from contextlib import contextmanager\n",
    "import sys, os\n",
    "\n",
    "@contextmanager\n",
    "def suppress_stdout_stderr():\n",
    "    # Suppress stdout and stderr\n",
    "    with open(os.devnull, \"w\") as devnull:\n",
    "        old_stdout, old_stderr = sys.stdout, sys.stderr\n",
    "        sys.stdout, sys.stderr = devnull, devnull\n",
    "        try:\n",
    "            yield\n",
    "        finally:\n",
    "            sys.stdout, sys.stderr = old_stdout, old_stderr"
   ]
  },
  {
   "cell_type": "code",
   "execution_count": null,
   "id": "6fc963ec-2259-4462-aea5-d7221149a840",
   "metadata": {},
   "outputs": [],
   "source": [
    "start_time = time.time()"
   ]
  },
  {
   "cell_type": "code",
   "execution_count": null,
   "id": "c3be7788-e7bd-4aa4-99e1-c07dd56de85a",
   "metadata": {},
   "outputs": [],
   "source": [
    "lime_explainer = lime.lime_tabular.LimeTabularExplainer(\n",
    "    training_data=X_train_scaled.values,\n",
    "    feature_names=feature_names,\n",
    "    class_names=[\"non-fraud\", \"fraud\"],\n",
    "    mode='classification',\n",
    "    verbose=True,\n",
    "    random_state = 1\n",
    ")"
   ]
  },
  {
   "cell_type": "code",
   "execution_count": null,
   "id": "599e89ed-886f-4682-93ca-c6481ef72de2",
   "metadata": {},
   "outputs": [],
   "source": [
    "# Define the prediction function\n",
    "predict_fn = lambda x: model.predict_proba(x).astype(float)"
   ]
  },
  {
   "cell_type": "code",
   "execution_count": null,
   "id": "8a4d21a1-022d-40c6-a750-a8de4541f5e9",
   "metadata": {},
   "outputs": [],
   "source": [
    "# Initialize the SubmodularPick object\n",
    "with suppress_stdout_stderr():\n",
    "    sp_obj = submodular_pick.SubmodularPick(\n",
    "        lime_explainer,\n",
    "        X_train_scaled.values,\n",
    "        predict_fn,\n",
    "        sample_size=sample_size,\n",
    "        num_features=10,\n",
    "        num_exps_desired=num_exps_desired\n",
    "    )"
   ]
  },
  {
   "cell_type": "code",
   "execution_count": null,
   "id": "0f8576d3-2823-44a7-ba0f-967be6bd8fbb",
   "metadata": {},
   "outputs": [],
   "source": [
    "end_time = time.time()\n",
    "explanation_time = end_time - start_time\n",
    "print(f\"SP-LIME on ANN (Explanation Time): {explanation_time:.2f} seconds\")"
   ]
  },
  {
   "cell_type": "code",
   "execution_count": null,
   "id": "d0e7ad07-c079-4bf1-884e-45fb881c7b71",
   "metadata": {},
   "outputs": [],
   "source": [
    "selected_explanations = sp_obj.explanations[:num_exps_desired]"
   ]
  },
  {
   "cell_type": "code",
   "execution_count": null,
   "id": "645e535b-19db-4afd-acba-3de17ad3e58c",
   "metadata": {},
   "outputs": [],
   "source": [
    "for exp in selected_explanations:\n",
    "    predicted_class = list(exp.local_exp.keys())[0]\n",
    "    fig = exp.as_pyplot_figure(label=predicted_class)\n",
    "    # Label the x-axis\n",
    "    plt.xlabel(\"Feature Contribution\")\n",
    "    plt.show()"
   ]
  },
  {
   "cell_type": "code",
   "execution_count": null,
   "id": "5f4668d6-37f5-4dd5-899e-58bc0f4e5017",
   "metadata": {},
   "outputs": [],
   "source": []
  },
  {
   "cell_type": "code",
   "execution_count": null,
   "id": "68eab355-288c-48e4-9236-8738e6738d58",
   "metadata": {},
   "outputs": [],
   "source": []
  },
  {
   "cell_type": "markdown",
   "id": "9f1967ed-d845-4fe3-b000-1ee3220f08ff",
   "metadata": {},
   "source": [
    "#### 5.5.4 Applying NormLIME to the ANN Model\n",
    "* This is a variant of LIME"
   ]
  },
  {
   "cell_type": "code",
   "execution_count": null,
   "id": "9ed80ed0-0d33-4461-9646-56453c842f17",
   "metadata": {},
   "outputs": [],
   "source": [
    "from collections import Counter"
   ]
  },
  {
   "cell_type": "code",
   "execution_count": null,
   "id": "c6ac3624-aa96-4e99-bd71-72dd399a970b",
   "metadata": {},
   "outputs": [],
   "source": [
    "start_time = time.time()"
   ]
  },
  {
   "cell_type": "code",
   "execution_count": null,
   "id": "cbaad32b-e2d2-4e89-9aef-fd88c5d9c458",
   "metadata": {},
   "outputs": [],
   "source": [
    "lime_explainer = lime.lime_tabular.LimeTabularExplainer(\n",
    "    training_data=X_train_scaled.values,\n",
    "    feature_names=feature_names,\n",
    "    class_names=[\"non-fraud\", \"fraud\"],\n",
    "    mode='classification',\n",
    "    verbose=True,\n",
    "    random_state = 1\n",
    ")"
   ]
  },
  {
   "cell_type": "code",
   "execution_count": null,
   "id": "56223cfc-347c-4356-bb3a-d15629245506",
   "metadata": {},
   "outputs": [],
   "source": [
    "# Generate explanations for multiple instances. Suppress textual output\n",
    "with suppress_stdout_stderr():\n",
    "    explanations = []\n",
    "    for i in range(100):  # Adjust the number of instances as needed\n",
    "        explanation = lime_explainer.explain_instance(X_test_scaled.iloc[i].values, model.predict_proba)\n",
    "        explanations.append(explanation)"
   ]
  },
  {
   "cell_type": "code",
   "execution_count": null,
   "id": "2a557b31-4762-45fe-8d26-f5115455c865",
   "metadata": {},
   "outputs": [],
   "source": [
    "# Aggregate feature importance\n",
    "feature_importance = Counter()\n",
    "for explanation in explanations:\n",
    "    for feature, weight in explanation.as_list():\n",
    "        feature_importance[feature] += weight"
   ]
  },
  {
   "cell_type": "code",
   "execution_count": null,
   "id": "f26d2e62-6c49-4259-899b-00e2d485b86b",
   "metadata": {},
   "outputs": [],
   "source": [
    "# Normalize the feature importance\n",
    "total_importance = sum(feature_importance.values())\n",
    "normalized_importance = {feature: weight / total_importance for feature, weight in feature_importance.items()}"
   ]
  },
  {
   "cell_type": "code",
   "execution_count": null,
   "id": "4b04d758-55be-4a1d-b598-0404509ad00f",
   "metadata": {},
   "outputs": [],
   "source": [
    "end_time = time.time()\n",
    "explanation_time = end_time - start_time\n",
    "print(f\"NormLIME on ANN (Explanation Time): {explanation_time:.2f} seconds\")"
   ]
  },
  {
   "cell_type": "code",
   "execution_count": null,
   "id": "82b780a4-3444-49a0-a8f1-fe830a3a37ff",
   "metadata": {},
   "outputs": [],
   "source": [
    "#Visualize the feature importance\n",
    "# Sort features by importance\n",
    "sorted_features = sorted(normalized_importance.items(), key=lambda x: x[1], reverse=True)\n",
    "\n",
    "# Plot the top N features\n",
    "top_n = 10\n",
    "features, importances = zip(*sorted_features[:top_n])\n",
    "plt.barh(features, importances)\n",
    "plt.xlabel('Normalized Importance')\n",
    "plt.title('Top {} Features by Importance'.format(top_n))\n",
    "plt.show()"
   ]
  },
  {
   "cell_type": "code",
   "execution_count": null,
   "id": "204b1e39-fbfd-44db-8491-ab2401dd3dd1",
   "metadata": {},
   "outputs": [],
   "source": []
  },
  {
   "cell_type": "code",
   "execution_count": null,
   "id": "7f38c796",
   "metadata": {},
   "outputs": [],
   "source": []
  }
 ],
 "metadata": {
  "kernelspec": {
   "display_name": "Python 3 (ipykernel)",
   "language": "python",
   "name": "python3"
  },
  "language_info": {
   "codemirror_mode": {
    "name": "ipython",
    "version": 3
   },
   "file_extension": ".py",
   "mimetype": "text/x-python",
   "name": "python",
   "nbconvert_exporter": "python",
   "pygments_lexer": "ipython3",
   "version": "3.12.7"
  }
 },
 "nbformat": 4,
 "nbformat_minor": 5
}
