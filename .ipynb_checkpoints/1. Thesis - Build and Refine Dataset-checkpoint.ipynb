{
 "cells": [
  {
   "cell_type": "markdown",
   "id": "db4aaf82",
   "metadata": {},
   "source": [
    "## MMTHE01 - Masters Thesis"
   ]
  },
  {
   "cell_type": "markdown",
   "id": "eedf00c9",
   "metadata": {},
   "source": [
    "### 1. Thesis - Building, and Refining the Dataset using a base model\n",
    "* This Notebook contains the code and details of the logic used in the creation and refining of the dataset for the thesis\n",
    "* First an initial dataset will be created based on the journal entry structure of an SAP journal listing\n",
    "* Then the dataset will be refined to include journals entries which have unusual characteristics (known to us) inorder to support model training\n",
    "* Exploratory analysis of the dataset will be done here as well\n",
    "* All assumptions made in this step will be documented\n",
    "* Create a base model for the classification task"
   ]
  },
  {
   "cell_type": "markdown",
   "id": "fd8b34f3",
   "metadata": {},
   "source": [
    "#### Import Dependences"
   ]
  },
  {
   "cell_type": "code",
   "execution_count": 1,
   "id": "c86e4762",
   "metadata": {},
   "outputs": [],
   "source": [
    "import pandas as pd\n",
    "import numpy as np\n",
    "import matplotlib.pyplot as plt\n",
    "import seaborn as sns\n",
    "import random\n",
    "from datetime import datetime, timedelta"
   ]
  },
  {
   "cell_type": "code",
   "execution_count": null,
   "id": "53107656",
   "metadata": {},
   "outputs": [],
   "source": []
  },
  {
   "cell_type": "markdown",
   "id": "05d87160",
   "metadata": {},
   "source": [
    "#### Create synthetic journals dataset\n",
    "* Refer to Journal creation script Final.py script for steps to create the dataset"
   ]
  },
  {
   "cell_type": "code",
   "execution_count": 2,
   "id": "3d1539f9",
   "metadata": {},
   "outputs": [],
   "source": [
    "journals_dataset = pd.read_csv('journal_entries_sample_final_sample.csv')"
   ]
  },
  {
   "cell_type": "code",
   "execution_count": 3,
   "id": "8697904a",
   "metadata": {},
   "outputs": [
    {
     "data": {
      "text/plain": [
       "(1772, 23)"
      ]
     },
     "execution_count": 3,
     "metadata": {},
     "output_type": "execute_result"
    }
   ],
   "source": [
    "journals_dataset.shape"
   ]
  },
  {
   "cell_type": "code",
   "execution_count": 4,
   "id": "1a4b0662",
   "metadata": {},
   "outputs": [
    {
     "data": {
      "text/html": [
       "<div>\n",
       "<style scoped>\n",
       "    .dataframe tbody tr th:only-of-type {\n",
       "        vertical-align: middle;\n",
       "    }\n",
       "\n",
       "    .dataframe tbody tr th {\n",
       "        vertical-align: top;\n",
       "    }\n",
       "\n",
       "    .dataframe thead th {\n",
       "        text-align: right;\n",
       "    }\n",
       "</style>\n",
       "<table border=\"1\" class=\"dataframe\">\n",
       "  <thead>\n",
       "    <tr style=\"text-align: right;\">\n",
       "      <th></th>\n",
       "      <th>Document Number</th>\n",
       "      <th>Line Number</th>\n",
       "      <th>Material</th>\n",
       "      <th>Created on Date</th>\n",
       "      <th>Created on Time</th>\n",
       "      <th>Posted on Date</th>\n",
       "      <th>Posted on Time</th>\n",
       "      <th>is_weekend</th>\n",
       "      <th>is_within_working_hours</th>\n",
       "      <th>is_public_holiday</th>\n",
       "      <th>...</th>\n",
       "      <th>Journal Line Amount</th>\n",
       "      <th>GL Account Number</th>\n",
       "      <th>GL Account Name</th>\n",
       "      <th>Entered by ID</th>\n",
       "      <th>Entered by Name</th>\n",
       "      <th>Entered by Job Description</th>\n",
       "      <th>Entered by Role</th>\n",
       "      <th>Entered by Department</th>\n",
       "      <th>Description</th>\n",
       "      <th>is_anomaly</th>\n",
       "    </tr>\n",
       "  </thead>\n",
       "  <tbody>\n",
       "    <tr>\n",
       "      <th>0</th>\n",
       "      <td>202300001</td>\n",
       "      <td>1</td>\n",
       "      <td>MAT005</td>\n",
       "      <td>2023-03-10</td>\n",
       "      <td>09:01:58</td>\n",
       "      <td>2023-03-13</td>\n",
       "      <td>09:01:58</td>\n",
       "      <td>False</td>\n",
       "      <td>True</td>\n",
       "      <td>False</td>\n",
       "      <td>...</td>\n",
       "      <td>2761.96</td>\n",
       "      <td>900000</td>\n",
       "      <td>Salaries and wages</td>\n",
       "      <td>EID005</td>\n",
       "      <td>David Wilson</td>\n",
       "      <td>Assistant Controller</td>\n",
       "      <td>accounts</td>\n",
       "      <td>Accounts</td>\n",
       "      <td>Employee wages</td>\n",
       "      <td>False</td>\n",
       "    </tr>\n",
       "  </tbody>\n",
       "</table>\n",
       "<p>1 rows × 23 columns</p>\n",
       "</div>"
      ],
      "text/plain": [
       "   Document Number  Line Number Material Created on Date Created on Time  \\\n",
       "0        202300001            1   MAT005      2023-03-10        09:01:58   \n",
       "\n",
       "  Posted on Date Posted on Time  is_weekend  is_within_working_hours  \\\n",
       "0     2023-03-13       09:01:58       False                     True   \n",
       "\n",
       "   is_public_holiday  ... Journal Line Amount GL Account Number  \\\n",
       "0              False  ...             2761.96            900000   \n",
       "\n",
       "      GL Account Name  Entered by ID  Entered by Name  \\\n",
       "0  Salaries and wages         EID005     David Wilson   \n",
       "\n",
       "  Entered by Job Description Entered by Role Entered by Department  \\\n",
       "0       Assistant Controller        accounts              Accounts   \n",
       "\n",
       "      Description is_anomaly  \n",
       "0  Employee wages      False  \n",
       "\n",
       "[1 rows x 23 columns]"
      ]
     },
     "execution_count": 4,
     "metadata": {},
     "output_type": "execute_result"
    }
   ],
   "source": [
    "journals_dataset.head(1)"
   ]
  },
  {
   "cell_type": "code",
   "execution_count": 5,
   "id": "4979efc1",
   "metadata": {},
   "outputs": [],
   "source": [
    "#journals_dataset.groupby('Entered by Role').count()"
   ]
  },
  {
   "cell_type": "code",
   "execution_count": 6,
   "id": "0b93d32f",
   "metadata": {},
   "outputs": [],
   "source": [
    "#journals_dataset.info()"
   ]
  },
  {
   "cell_type": "code",
   "execution_count": 7,
   "id": "639f2efa",
   "metadata": {},
   "outputs": [
    {
     "data": {
      "text/plain": [
       "(175, 23)"
      ]
     },
     "execution_count": 7,
     "metadata": {},
     "output_type": "execute_result"
    }
   ],
   "source": [
    "# get number of journals with anomalies\n",
    "journals_dataset[journals_dataset['is_anomaly']== True].shape"
   ]
  },
  {
   "cell_type": "code",
   "execution_count": null,
   "id": "d3c3756d",
   "metadata": {},
   "outputs": [],
   "source": []
  },
  {
   "cell_type": "markdown",
   "id": "89ee517c",
   "metadata": {},
   "source": [
    "#### Create a base model\n",
    "* Unsupervised learning base model"
   ]
  },
  {
   "cell_type": "code",
   "execution_count": 8,
   "id": "6a1262c2",
   "metadata": {},
   "outputs": [],
   "source": [
    "# Import base model dependencies\n",
    "from sklearn.model_selection import train_test_split\n",
    "from sklearn.compose import ColumnTransformer\n",
    "from sklearn.preprocessing import OneHotEncoder\n",
    "from sklearn.preprocessing import LabelEncoder\n",
    "from sklearn.preprocessing import StandardScaler\n",
    "from sklearn.cluster import KMeans\n",
    "from sklearn.linear_model import LogisticRegression\n",
    "from sklearn.metrics import accuracy_score\n",
    "from sklearn.metrics import confusion_matrix, recall_score, precision_score"
   ]
  },
  {
   "cell_type": "markdown",
   "id": "566c21d0",
   "metadata": {},
   "source": [
    "#### Base model data preparation"
   ]
  },
  {
   "cell_type": "markdown",
   "id": "27c5f5c1",
   "metadata": {},
   "source": [
    "#### Unsupervised Learning Base Model using KMeans clustering"
   ]
  },
  {
   "cell_type": "markdown",
   "id": "68ada268",
   "metadata": {},
   "source": [
    "###### Fields to use\n",
    "* is_weekend\n",
    "* is_public_holiday\n",
    "* is_within_working_hours\n",
    "* Manual Automatic Identifier\n",
    "* Debit Credit Indicator\n",
    "* GL Account Name\n",
    "* Entered by ID\n",
    "* Entered by Role\n",
    "* Entered by Department"
   ]
  },
  {
   "cell_type": "code",
   "execution_count": 9,
   "id": "b03ab8ce",
   "metadata": {},
   "outputs": [],
   "source": [
    "# create a copy of the dataset and pick only the required features\n",
    "base_dataset = journals_dataset[['Document Number', 'Line Number', 'is_weekend', 'is_public_holiday', \n",
    "                                 'is_within_working_hours', 'Manual Automatic Identifier', 'Debit Credit Indicator', \n",
    "                                 'Entered by Role', 'Entered by Department', 'Journal Line Amount']].copy()"
   ]
  },
  {
   "cell_type": "code",
   "execution_count": 10,
   "id": "6782d15b",
   "metadata": {},
   "outputs": [
    {
     "data": {
      "text/plain": [
       "2"
      ]
     },
     "execution_count": 10,
     "metadata": {},
     "output_type": "execute_result"
    }
   ],
   "source": [
    "#### Check the unique values in the categorical variables and the label\n",
    "base_dataset['Manual Automatic Identifier'].nunique()"
   ]
  },
  {
   "cell_type": "code",
   "execution_count": 11,
   "id": "527346df",
   "metadata": {},
   "outputs": [
    {
     "data": {
      "text/plain": [
       "2"
      ]
     },
     "execution_count": 11,
     "metadata": {},
     "output_type": "execute_result"
    }
   ],
   "source": [
    "base_dataset['Entered by Department'].nunique()"
   ]
  },
  {
   "cell_type": "code",
   "execution_count": 12,
   "id": "5060ff8c",
   "metadata": {},
   "outputs": [
    {
     "data": {
      "text/plain": [
       "2"
      ]
     },
     "execution_count": 12,
     "metadata": {},
     "output_type": "execute_result"
    }
   ],
   "source": [
    "base_dataset['Entered by Role'].nunique()"
   ]
  },
  {
   "cell_type": "code",
   "execution_count": 13,
   "id": "b1419b02",
   "metadata": {},
   "outputs": [],
   "source": [
    "base_dataset[\"is_weekend\"] = base_dataset[\"is_weekend\"].astype(int)\n",
    "base_dataset[\"is_public_holiday\"] = base_dataset[\"is_public_holiday\"].astype(int)\n",
    "base_dataset[\"is_within_working_hours\"] = base_dataset[\"is_within_working_hours\"].astype(int)"
   ]
  },
  {
   "cell_type": "code",
   "execution_count": null,
   "id": "f3f9abca",
   "metadata": {},
   "outputs": [],
   "source": []
  },
  {
   "cell_type": "markdown",
   "id": "bb1afaae",
   "metadata": {},
   "source": [
    "##### Creating the matrix of features"
   ]
  },
  {
   "cell_type": "code",
   "execution_count": 14,
   "id": "32e38a65",
   "metadata": {},
   "outputs": [
    {
     "data": {
      "text/html": [
       "<div>\n",
       "<style scoped>\n",
       "    .dataframe tbody tr th:only-of-type {\n",
       "        vertical-align: middle;\n",
       "    }\n",
       "\n",
       "    .dataframe tbody tr th {\n",
       "        vertical-align: top;\n",
       "    }\n",
       "\n",
       "    .dataframe thead th {\n",
       "        text-align: right;\n",
       "    }\n",
       "</style>\n",
       "<table border=\"1\" class=\"dataframe\">\n",
       "  <thead>\n",
       "    <tr style=\"text-align: right;\">\n",
       "      <th></th>\n",
       "      <th>Document Number</th>\n",
       "      <th>Line Number</th>\n",
       "      <th>is_weekend</th>\n",
       "      <th>is_public_holiday</th>\n",
       "      <th>is_within_working_hours</th>\n",
       "      <th>Manual Automatic Identifier</th>\n",
       "      <th>Debit Credit Indicator</th>\n",
       "      <th>Entered by Role</th>\n",
       "      <th>Entered by Department</th>\n",
       "      <th>Journal Line Amount</th>\n",
       "    </tr>\n",
       "  </thead>\n",
       "  <tbody>\n",
       "    <tr>\n",
       "      <th>0</th>\n",
       "      <td>202300001</td>\n",
       "      <td>1</td>\n",
       "      <td>0</td>\n",
       "      <td>0</td>\n",
       "      <td>1</td>\n",
       "      <td>Manual</td>\n",
       "      <td>Debit</td>\n",
       "      <td>accounts</td>\n",
       "      <td>Accounts</td>\n",
       "      <td>2761.96</td>\n",
       "    </tr>\n",
       "  </tbody>\n",
       "</table>\n",
       "</div>"
      ],
      "text/plain": [
       "   Document Number  Line Number  is_weekend  is_public_holiday  \\\n",
       "0        202300001            1           0                  0   \n",
       "\n",
       "   is_within_working_hours Manual Automatic Identifier Debit Credit Indicator  \\\n",
       "0                        1                      Manual                  Debit   \n",
       "\n",
       "  Entered by Role Entered by Department  Journal Line Amount  \n",
       "0        accounts              Accounts              2761.96  "
      ]
     },
     "execution_count": 14,
     "metadata": {},
     "output_type": "execute_result"
    }
   ],
   "source": [
    "base_dataset.head(1)"
   ]
  },
  {
   "cell_type": "code",
   "execution_count": 15,
   "id": "fa8a7799",
   "metadata": {},
   "outputs": [],
   "source": [
    "X_base = base_dataset.iloc[:, 2:].values"
   ]
  },
  {
   "cell_type": "code",
   "execution_count": 16,
   "id": "0abf21bb",
   "metadata": {},
   "outputs": [
    {
     "data": {
      "text/plain": [
       "array([[0, 0, 1, ..., 'accounts', 'Accounts', 2761.96],\n",
       "       [0, 0, 1, ..., 'accounts', 'Accounts', 2484.19],\n",
       "       [0, 0, 1, ..., 'accounts', 'Accounts', 2272.8],\n",
       "       ...,\n",
       "       [1, 0, 1, ..., 'accounts', 'Accounts', 3073.38],\n",
       "       [1, 0, 1, ..., 'accounts', 'Accounts', 568.2],\n",
       "       [1, 0, 1, ..., 'accounts', 'Accounts', 1257.3]], dtype=object)"
      ]
     },
     "execution_count": 16,
     "metadata": {},
     "output_type": "execute_result"
    }
   ],
   "source": [
    "X_base"
   ]
  },
  {
   "cell_type": "markdown",
   "id": "7f655dec",
   "metadata": {},
   "source": [
    "##### Encoding of  the categorical feature variables"
   ]
  },
  {
   "cell_type": "code",
   "execution_count": 17,
   "id": "7bfe0569",
   "metadata": {},
   "outputs": [],
   "source": [
    "cat_features = [3, 4, 5, 6]"
   ]
  },
  {
   "cell_type": "code",
   "execution_count": 18,
   "id": "59606d04",
   "metadata": {},
   "outputs": [],
   "source": [
    "#encoding the categorical feature variables using OneHotEncoder\n",
    "ct = ColumnTransformer(transformers=[('encoder', OneHotEncoder(),cat_features)], remainder='passthrough')\n",
    "X_base = np.array(ct.fit_transform(X_base))"
   ]
  },
  {
   "cell_type": "code",
   "execution_count": 19,
   "id": "86580238",
   "metadata": {},
   "outputs": [
    {
     "data": {
      "text/plain": [
       "array([[0.0, 1.0, 0.0, ..., 0, 1, 2761.96],\n",
       "       [0.0, 1.0, 1.0, ..., 0, 1, 2484.19],\n",
       "       [0.0, 1.0, 1.0, ..., 0, 1, 2272.8],\n",
       "       ...,\n",
       "       [1.0, 0.0, 0.0, ..., 0, 1, 3073.38],\n",
       "       [1.0, 0.0, 1.0, ..., 0, 1, 568.2],\n",
       "       [1.0, 0.0, 1.0, ..., 0, 1, 1257.3]], dtype=object)"
      ]
     },
     "execution_count": 19,
     "metadata": {},
     "output_type": "execute_result"
    }
   ],
   "source": [
    "X_base"
   ]
  },
  {
   "cell_type": "markdown",
   "id": "f81850a6",
   "metadata": {},
   "source": [
    "##### Feature Scaling"
   ]
  },
  {
   "cell_type": "code",
   "execution_count": 20,
   "id": "d7b91ee9",
   "metadata": {},
   "outputs": [],
   "source": [
    "sc = StandardScaler()\n",
    "X_base[:,-1] = sc.fit_transform(X_base[:,-1].reshape(-1,1)).ravel()"
   ]
  },
  {
   "cell_type": "code",
   "execution_count": 21,
   "id": "6b88caa6",
   "metadata": {},
   "outputs": [
    {
     "data": {
      "text/plain": [
       "array([[0.0, 1.0, 0.0, ..., 0, 1, -0.002811113402279505],\n",
       "       [0.0, 1.0, 1.0, ..., 0, 1, -0.2163451751140989],\n",
       "       [0.0, 1.0, 1.0, ..., 0, 1, -0.37885000034814675],\n",
       "       ...,\n",
       "       [1.0, 0.0, 0.0, ..., 0, 1, 0.23659118885604508],\n",
       "       [1.0, 0.0, 1.0, ..., 0, 1, -1.6892512733220728],\n",
       "       [1.0, 0.0, 1.0, ..., 0, 1, -1.159509681625292]], dtype=object)"
      ]
     },
     "execution_count": 21,
     "metadata": {},
     "output_type": "execute_result"
    }
   ],
   "source": [
    "X_base"
   ]
  },
  {
   "cell_type": "markdown",
   "id": "06892f8f",
   "metadata": {},
   "source": [
    "##### Using Elbow method to find the optimal number of clusters"
   ]
  },
  {
   "cell_type": "code",
   "execution_count": 22,
   "id": "772af0c6",
   "metadata": {},
   "outputs": [
    {
     "name": "stderr",
     "output_type": "stream",
     "text": [
      "C:\\ProgramData\\Anaconda3\\lib\\site-packages\\sklearn\\cluster\\_kmeans.py:881: UserWarning: KMeans is known to have a memory leak on Windows with MKL, when there are less chunks than available threads. You can avoid it by setting the environment variable OMP_NUM_THREADS=7.\n",
      "  warnings.warn(\n"
     ]
    },
    {
     "data": {
      "image/png": "[encoded data removed]",
      "text/plain": [
       "<Figure size 432x288 with 1 Axes>"
      ]
     },
     "metadata": {
      "needs_background": "light"
     },
     "output_type": "display_data"
    }
   ],
   "source": [
    "wcss = []\n",
    "for i in range(1, 11):\n",
    "    kmeans = KMeans(n_clusters = i, init = 'k-means++', random_state = 42)\n",
    "    kmeans.fit(X_base)\n",
    "    wcss.append(kmeans.inertia_)\n",
    "plt.plot(range(1, 11), wcss)\n",
    "plt.title('The Elbow Method')\n",
    "plt.xlabel('Number of clusters')\n",
    "plt.ylabel('WCSS')\n",
    "plt.show()"
   ]
  },
  {
   "cell_type": "markdown",
   "id": "c89703b6",
   "metadata": {},
   "source": [
    "##### Create the K Means clusters Base Model\n",
    "* Optimum number of clusters we shall use is 2 as we want to cluster into fraud and no fraud"
   ]
  },
  {
   "cell_type": "code",
   "execution_count": 23,
   "id": "38d7feef",
   "metadata": {},
   "outputs": [],
   "source": [
    "kmeans = KMeans(n_clusters = 2, init = 'k-means++', random_state = 42)\n",
    "y_kmeans = kmeans.fit_predict(X_base)"
   ]
  },
  {
   "cell_type": "code",
   "execution_count": 24,
   "id": "d782100b",
   "metadata": {},
   "outputs": [
    {
     "data": {
      "text/plain": [
       "array([0, 0, 0, ..., 1, 0, 0])"
      ]
     },
     "execution_count": 24,
     "metadata": {},
     "output_type": "execute_result"
    }
   ],
   "source": [
    "y_kmeans"
   ]
  },
  {
   "cell_type": "code",
   "execution_count": null,
   "id": "5bfe5aa8",
   "metadata": {},
   "outputs": [],
   "source": []
  },
  {
   "cell_type": "markdown",
   "id": "f01768b0",
   "metadata": {},
   "source": [
    "##### Plot Clusters"
   ]
  },
  {
   "cell_type": "code",
   "execution_count": 25,
   "id": "4d008e87",
   "metadata": {},
   "outputs": [],
   "source": [
    "labels = pd.DataFrame(y_kmeans)"
   ]
  },
  {
   "cell_type": "code",
   "execution_count": 26,
   "id": "d9e3810a",
   "metadata": {},
   "outputs": [],
   "source": [
    "labeled_base_dataset = pd.concat((base_dataset,labels),axis=1)\n",
    "labeled_base_dataset = labeled_base_dataset.rename({0:'labels'},axis=1)"
   ]
  },
  {
   "cell_type": "code",
   "execution_count": 27,
   "id": "35a0c6e4",
   "metadata": {},
   "outputs": [
    {
     "data": {
      "text/html": [
       "<div>\n",
       "<style scoped>\n",
       "    .dataframe tbody tr th:only-of-type {\n",
       "        vertical-align: middle;\n",
       "    }\n",
       "\n",
       "    .dataframe tbody tr th {\n",
       "        vertical-align: top;\n",
       "    }\n",
       "\n",
       "    .dataframe thead th {\n",
       "        text-align: right;\n",
       "    }\n",
       "</style>\n",
       "<table border=\"1\" class=\"dataframe\">\n",
       "  <thead>\n",
       "    <tr style=\"text-align: right;\">\n",
       "      <th></th>\n",
       "      <th>Document Number</th>\n",
       "      <th>Line Number</th>\n",
       "      <th>is_weekend</th>\n",
       "      <th>is_public_holiday</th>\n",
       "      <th>is_within_working_hours</th>\n",
       "      <th>Manual Automatic Identifier</th>\n",
       "      <th>Debit Credit Indicator</th>\n",
       "      <th>Entered by Role</th>\n",
       "      <th>Entered by Department</th>\n",
       "      <th>Journal Line Amount</th>\n",
       "      <th>labels</th>\n",
       "    </tr>\n",
       "  </thead>\n",
       "  <tbody>\n",
       "    <tr>\n",
       "      <th>0</th>\n",
       "      <td>202300001</td>\n",
       "      <td>1</td>\n",
       "      <td>0</td>\n",
       "      <td>0</td>\n",
       "      <td>1</td>\n",
       "      <td>Manual</td>\n",
       "      <td>Debit</td>\n",
       "      <td>accounts</td>\n",
       "      <td>Accounts</td>\n",
       "      <td>2761.96</td>\n",
       "      <td>0</td>\n",
       "    </tr>\n",
       "  </tbody>\n",
       "</table>\n",
       "</div>"
      ],
      "text/plain": [
       "   Document Number  Line Number  is_weekend  is_public_holiday  \\\n",
       "0        202300001            1           0                  0   \n",
       "\n",
       "   is_within_working_hours Manual Automatic Identifier Debit Credit Indicator  \\\n",
       "0                        1                      Manual                  Debit   \n",
       "\n",
       "  Entered by Role Entered by Department  Journal Line Amount  labels  \n",
       "0        accounts              Accounts              2761.96       0  "
      ]
     },
     "execution_count": 27,
     "metadata": {},
     "output_type": "execute_result"
    }
   ],
   "source": [
    "labeled_base_dataset.head(1)"
   ]
  },
  {
   "cell_type": "code",
   "execution_count": 28,
   "id": "c7a9a14b",
   "metadata": {},
   "outputs": [
    {
     "data": {
      "text/plain": [
       "<seaborn.axisgrid.PairGrid at 0x23b80802ca0>"
      ]
     },
     "execution_count": 28,
     "metadata": {},
     "output_type": "execute_result"
    },
    {
     "data": {
      "image/png": "[encoded data removed]",
      "text/plain": [
       "<Figure size 762.375x720 with 20 Axes>"
      ]
     },
     "metadata": {
      "needs_background": "light"
     },
     "output_type": "display_data"
    }
   ],
   "source": [
    "sns.pairplot(labeled_base_dataset.drop(['Document Number', 'Line Number', 'Manual Automatic Identifier',\n",
    "                                       'Debit Credit Indicator', 'Entered by Role', \n",
    "                                        'Entered by Department'], axis=1),hue='labels')"
   ]
  },
  {
   "cell_type": "code",
   "execution_count": 29,
   "id": "07260449",
   "metadata": {},
   "outputs": [
    {
     "data": {
      "text/html": [
       "<div>\n",
       "<style scoped>\n",
       "    .dataframe tbody tr th:only-of-type {\n",
       "        vertical-align: middle;\n",
       "    }\n",
       "\n",
       "    .dataframe tbody tr th {\n",
       "        vertical-align: top;\n",
       "    }\n",
       "\n",
       "    .dataframe thead th {\n",
       "        text-align: right;\n",
       "    }\n",
       "</style>\n",
       "<table border=\"1\" class=\"dataframe\">\n",
       "  <thead>\n",
       "    <tr style=\"text-align: right;\">\n",
       "      <th></th>\n",
       "      <th>Document Number</th>\n",
       "      <th>Line Number</th>\n",
       "      <th>is_weekend</th>\n",
       "      <th>is_public_holiday</th>\n",
       "      <th>is_within_working_hours</th>\n",
       "      <th>Manual Automatic Identifier</th>\n",
       "      <th>Debit Credit Indicator</th>\n",
       "      <th>Entered by Role</th>\n",
       "      <th>Entered by Department</th>\n",
       "      <th>Journal Line Amount</th>\n",
       "    </tr>\n",
       "    <tr>\n",
       "      <th>labels</th>\n",
       "      <th></th>\n",
       "      <th></th>\n",
       "      <th></th>\n",
       "      <th></th>\n",
       "      <th></th>\n",
       "      <th></th>\n",
       "      <th></th>\n",
       "      <th></th>\n",
       "      <th></th>\n",
       "      <th></th>\n",
       "    </tr>\n",
       "  </thead>\n",
       "  <tbody>\n",
       "    <tr>\n",
       "      <th>0</th>\n",
       "      <td>915</td>\n",
       "      <td>915</td>\n",
       "      <td>915</td>\n",
       "      <td>915</td>\n",
       "      <td>915</td>\n",
       "      <td>915</td>\n",
       "      <td>915</td>\n",
       "      <td>915</td>\n",
       "      <td>915</td>\n",
       "      <td>915</td>\n",
       "    </tr>\n",
       "    <tr>\n",
       "      <th>1</th>\n",
       "      <td>857</td>\n",
       "      <td>857</td>\n",
       "      <td>857</td>\n",
       "      <td>857</td>\n",
       "      <td>857</td>\n",
       "      <td>857</td>\n",
       "      <td>857</td>\n",
       "      <td>857</td>\n",
       "      <td>857</td>\n",
       "      <td>857</td>\n",
       "    </tr>\n",
       "  </tbody>\n",
       "</table>\n",
       "</div>"
      ],
      "text/plain": [
       "        Document Number  Line Number  is_weekend  is_public_holiday  \\\n",
       "labels                                                                \n",
       "0                   915          915         915                915   \n",
       "1                   857          857         857                857   \n",
       "\n",
       "        is_within_working_hours  Manual Automatic Identifier  \\\n",
       "labels                                                         \n",
       "0                           915                          915   \n",
       "1                           857                          857   \n",
       "\n",
       "        Debit Credit Indicator  Entered by Role  Entered by Department  \\\n",
       "labels                                                                   \n",
       "0                          915              915                    915   \n",
       "1                          857              857                    857   \n",
       "\n",
       "        Journal Line Amount  \n",
       "labels                       \n",
       "0                       915  \n",
       "1                       857  "
      ]
     },
     "execution_count": 29,
     "metadata": {},
     "output_type": "execute_result"
    }
   ],
   "source": [
    "labeled_base_dataset.groupby('labels').count()"
   ]
  },
  {
   "cell_type": "code",
   "execution_count": null,
   "id": "7b5b3d95",
   "metadata": {},
   "outputs": [],
   "source": []
  },
  {
   "cell_type": "markdown",
   "id": "a8462264",
   "metadata": {},
   "source": [
    "#### Supervised learning base model using logistics regression/"
   ]
  },
  {
   "cell_type": "code",
   "execution_count": 30,
   "id": "f041adb7",
   "metadata": {},
   "outputs": [],
   "source": [
    "# create a copy of the dataset and pick only the required features\n",
    "base_dataset_sup = journals_dataset[['Document Number', 'Line Number', 'is_weekend', 'is_public_holiday', \n",
    "                                 'is_within_working_hours', 'Manual Automatic Identifier', 'Debit Credit Indicator', \n",
    "                                 'Entered by Role', 'Entered by Department', 'Journal Line Amount', 'is_anomaly']].copy()"
   ]
  },
  {
   "cell_type": "code",
   "execution_count": 31,
   "id": "5785bf35",
   "metadata": {},
   "outputs": [],
   "source": [
    "base_dataset_sup[\"is_weekend\"] = base_dataset_sup[\"is_weekend\"].astype(int)\n",
    "base_dataset_sup[\"is_public_holiday\"] = base_dataset_sup[\"is_public_holiday\"].astype(int)\n",
    "base_dataset_sup[\"is_within_working_hours\"] = base_dataset_sup[\"is_within_working_hours\"].astype(int)"
   ]
  },
  {
   "cell_type": "code",
   "execution_count": null,
   "id": "6297d3cc",
   "metadata": {},
   "outputs": [],
   "source": []
  },
  {
   "cell_type": "markdown",
   "id": "0b864c29",
   "metadata": {},
   "source": [
    "##### Creating the matrix of features and dependent variables"
   ]
  },
  {
   "cell_type": "code",
   "execution_count": 32,
   "id": "6867a850",
   "metadata": {},
   "outputs": [],
   "source": [
    "X_base_sup = base_dataset_sup.iloc[:, 2:-1].values\n",
    "y_base_sup = base_dataset_sup.iloc[:, -1].values"
   ]
  },
  {
   "cell_type": "code",
   "execution_count": 33,
   "id": "9ba3a4f1",
   "metadata": {},
   "outputs": [
    {
     "data": {
      "text/plain": [
       "array([[0, 0, 1, ..., 'accounts', 'Accounts', 2761.96],\n",
       "       [0, 0, 1, ..., 'accounts', 'Accounts', 2484.19],\n",
       "       [0, 0, 1, ..., 'accounts', 'Accounts', 2272.8],\n",
       "       ...,\n",
       "       [1, 0, 1, ..., 'accounts', 'Accounts', 3073.38],\n",
       "       [1, 0, 1, ..., 'accounts', 'Accounts', 568.2],\n",
       "       [1, 0, 1, ..., 'accounts', 'Accounts', 1257.3]], dtype=object)"
      ]
     },
     "execution_count": 33,
     "metadata": {},
     "output_type": "execute_result"
    }
   ],
   "source": [
    "X_base_sup"
   ]
  },
  {
   "cell_type": "code",
   "execution_count": 34,
   "id": "1649ae2c",
   "metadata": {},
   "outputs": [
    {
     "data": {
      "text/plain": [
       "array([False, False, False, ..., False, False, False])"
      ]
     },
     "execution_count": 34,
     "metadata": {},
     "output_type": "execute_result"
    }
   ],
   "source": [
    "y_base_sup"
   ]
  },
  {
   "cell_type": "code",
   "execution_count": null,
   "id": "5ca0381f",
   "metadata": {},
   "outputs": [],
   "source": []
  },
  {
   "cell_type": "markdown",
   "id": "c011247c",
   "metadata": {},
   "source": [
    "##### Encoding of  the categorical feature variables and the independent label variables"
   ]
  },
  {
   "cell_type": "code",
   "execution_count": 35,
   "id": "8196068a",
   "metadata": {},
   "outputs": [],
   "source": [
    "cat_features = [3, 4, 5, 6]"
   ]
  },
  {
   "cell_type": "code",
   "execution_count": 36,
   "id": "0a40e0b5",
   "metadata": {},
   "outputs": [],
   "source": [
    "#encoding the categorical feature variables using OneHotEncoder\n",
    "ct = ColumnTransformer(transformers=[('encoder', OneHotEncoder(),cat_features)], remainder='passthrough')\n",
    "X_base_sup = np.array(ct.fit_transform(X_base_sup))"
   ]
  },
  {
   "cell_type": "code",
   "execution_count": 37,
   "id": "2c81a08d",
   "metadata": {},
   "outputs": [
    {
     "data": {
      "text/plain": [
       "array([[0.0, 1.0, 0.0, ..., 0, 1, 2761.96],\n",
       "       [0.0, 1.0, 1.0, ..., 0, 1, 2484.19],\n",
       "       [0.0, 1.0, 1.0, ..., 0, 1, 2272.8],\n",
       "       ...,\n",
       "       [1.0, 0.0, 0.0, ..., 0, 1, 3073.38],\n",
       "       [1.0, 0.0, 1.0, ..., 0, 1, 568.2],\n",
       "       [1.0, 0.0, 1.0, ..., 0, 1, 1257.3]], dtype=object)"
      ]
     },
     "execution_count": 37,
     "metadata": {},
     "output_type": "execute_result"
    }
   ],
   "source": [
    "X_base_sup"
   ]
  },
  {
   "cell_type": "code",
   "execution_count": 38,
   "id": "443949ed",
   "metadata": {},
   "outputs": [],
   "source": [
    "#encoding the label using LabelEncoder\n",
    "le = LabelEncoder()\n",
    "y_base_sup = le.fit_transform(y_base_sup)"
   ]
  },
  {
   "cell_type": "code",
   "execution_count": 39,
   "id": "dc4309f2",
   "metadata": {},
   "outputs": [
    {
     "data": {
      "text/plain": [
       "array([0, 0, 0, ..., 0, 0, 0], dtype=int64)"
      ]
     },
     "execution_count": 39,
     "metadata": {},
     "output_type": "execute_result"
    }
   ],
   "source": [
    "y_base_sup"
   ]
  },
  {
   "cell_type": "code",
   "execution_count": null,
   "id": "5c1ace0c",
   "metadata": {},
   "outputs": [],
   "source": []
  },
  {
   "cell_type": "markdown",
   "id": "d0ee9e44",
   "metadata": {},
   "source": [
    "##### Split the data into training set and the test set"
   ]
  },
  {
   "cell_type": "code",
   "execution_count": 40,
   "id": "854c8df5",
   "metadata": {},
   "outputs": [],
   "source": [
    "X_base_sup_train, X_base_sup_test, y_base_sup_train, y_base_sup_test = train_test_split(X_base_sup, y_base_sup, \n",
    "                                                                                        test_size=0.2,\n",
    "                                                                        random_state=30,stratify=y_base_sup)"
   ]
  },
  {
   "cell_type": "code",
   "execution_count": 41,
   "id": "f84fd19c",
   "metadata": {},
   "outputs": [
    {
     "name": "stdout",
     "output_type": "stream",
     "text": [
      "[1.0 0.0 0.0 1.0 1.0 0.0 1.0 0.0 0 0 1 1228.53]\n"
     ]
    }
   ],
   "source": [
    "print(X_base_sup_train[2])"
   ]
  },
  {
   "cell_type": "markdown",
   "id": "34d7109c",
   "metadata": {},
   "source": [
    "##### Feature Scaling"
   ]
  },
  {
   "cell_type": "code",
   "execution_count": 42,
   "id": "147df138",
   "metadata": {},
   "outputs": [],
   "source": [
    "# scaling all the non-encoded columns on both train and test set\n",
    "sc = StandardScaler()\n",
    "X_base_sup_train[:,-1] = sc.fit_transform(X_base_sup_train[:,-1].reshape(-1,1)).ravel() #fitting is done only with the train set\n",
    "X_base_sup_test[:,-1] = sc.transform(X_base_sup_test[:,-1].reshape(-1,1)).ravel() #scale test data using the fitted scaler"
   ]
  },
  {
   "cell_type": "code",
   "execution_count": 43,
   "id": "869eb1dc",
   "metadata": {},
   "outputs": [
    {
     "name": "stdout",
     "output_type": "stream",
     "text": [
      "[0.0 1.0 1.0 0.0 1.0 0.0 1.0 0.0 0 0 0 -0.9138663624971137]\n"
     ]
    }
   ],
   "source": [
    "print(X_base_sup_train[1])"
   ]
  },
  {
   "cell_type": "code",
   "execution_count": 44,
   "id": "39b30e87",
   "metadata": {},
   "outputs": [
    {
     "name": "stdout",
     "output_type": "stream",
     "text": [
      "[1.0 0.0 1.0 0.0 1.0 0.0 1.0 0.0 0 0 1 -1.6764243419407066]\n"
     ]
    }
   ],
   "source": [
    "print(X_base_sup_test[1])"
   ]
  },
  {
   "cell_type": "code",
   "execution_count": null,
   "id": "1c86e406",
   "metadata": {},
   "outputs": [],
   "source": []
  },
  {
   "cell_type": "markdown",
   "id": "4bea18c0",
   "metadata": {},
   "source": [
    "##### Create the Logistics Regression Base Model"
   ]
  },
  {
   "cell_type": "code",
   "execution_count": 45,
   "id": "6e4d29d2",
   "metadata": {},
   "outputs": [
    {
     "data": {
      "text/plain": [
       "LogisticRegression(random_state=30)"
      ]
     },
     "execution_count": 45,
     "metadata": {},
     "output_type": "execute_result"
    }
   ],
   "source": [
    "# Train LogisticRegression model\n",
    "logR = LogisticRegression(random_state=30)\n",
    "logR.fit(X_base_sup_train, y_base_sup_train)"
   ]
  },
  {
   "cell_type": "code",
   "execution_count": 46,
   "id": "63290388",
   "metadata": {},
   "outputs": [],
   "source": [
    "# Predict y given X_base_test\n",
    "y_base_sup_pred = logR.predict(X_base_sup_test)"
   ]
  },
  {
   "cell_type": "code",
   "execution_count": null,
   "id": "9100f6b1",
   "metadata": {},
   "outputs": [],
   "source": []
  },
  {
   "cell_type": "markdown",
   "id": "21930a64",
   "metadata": {},
   "source": [
    "##### Evaluation of the Logistics Regression Base Model"
   ]
  },
  {
   "cell_type": "code",
   "execution_count": 47,
   "id": "5cfab122",
   "metadata": {},
   "outputs": [
    {
     "name": "stdout",
     "output_type": "stream",
     "text": [
      "Logistic Regression model accuracy (in %): 95.49295774647887\n"
     ]
    }
   ],
   "source": [
    "accuracy = accuracy_score(y_base_sup_test, y_base_sup_pred)\n",
    "print(\"Logistic Regression model accuracy (in %):\", accuracy*100)"
   ]
  },
  {
   "cell_type": "code",
   "execution_count": 48,
   "id": "17f7efad",
   "metadata": {},
   "outputs": [
    {
     "name": "stdout",
     "output_type": "stream",
     "text": [
      "Recall:  0.5714285714285714\n",
      "Precision:  0.9523809523809523\n"
     ]
    }
   ],
   "source": [
    "print('Recall: ', recall_score(y_base_sup_test, y_base_sup_pred))\n",
    "print('Precision: ', precision_score(y_base_sup_test, y_base_sup_pred))"
   ]
  },
  {
   "cell_type": "code",
   "execution_count": null,
   "id": "7d762501",
   "metadata": {},
   "outputs": [],
   "source": []
  },
  {
   "cell_type": "code",
   "execution_count": null,
   "id": "bb349380",
   "metadata": {},
   "outputs": [],
   "source": []
  }
 ],
 "metadata": {
  "kernelspec": {
   "display_name": "Python 3 (ipykernel)",
   "language": "python",
   "name": "python3"
  },
  "language_info": {
   "codemirror_mode": {
    "name": "ipython",
    "version": 3
   },
   "file_extension": ".py",
   "mimetype": "text/x-python",
   "name": "python",
   "nbconvert_exporter": "python",
   "pygments_lexer": "ipython3",
   "version": "3.9.7"
  }
 },
 "nbformat": 4,
 "nbformat_minor": 5
}
