{
 "cells": [
  {
   "cell_type": "markdown",
   "metadata": {
    "id": "37puETfgRzzg"
   },
   "source": [
    "## MMTHE01 - Masters Thesis"
   ]
  },
  {
   "cell_type": "markdown",
   "metadata": {},
   "source": [
    "### C. Thesis - Create a working model - without SMOTE\n",
    "* Splitting the data into train and test data\n",
    "* Feature scaling\n",
    "* Model training"
   ]
  },
  {
   "cell_type": "markdown",
   "metadata": {
    "id": "EoRP98MpR-qj"
   },
   "source": [
    "#### Importing the libraries"
   ]
  },
  {
   "cell_type": "code",
   "execution_count": 1,
   "metadata": {
    "id": "N-qiINBQSK2g"
   },
   "outputs": [],
   "source": [
    "import numpy as np\n",
    "import matplotlib.pyplot as plt\n",
    "import pandas as pd\n",
    "import seaborn as sns\n",
    "import os\n",
    "import time\n",
    "from sklearn.metrics import roc_curve, auc\n",
    "from sklearn.metrics import recall_score\n",
    "from sklearn.metrics import precision_score\n",
    "from sklearn.preprocessing import StandardScaler\n",
    "import xgboost as xgb\n",
    "from xgboost import XGBClassifier\n",
    "\n",
    "from sklearn.preprocessing import LabelEncoder"
   ]
  },
  {
   "cell_type": "code",
   "execution_count": 2,
   "metadata": {},
   "outputs": [],
   "source": [
    "### Import libraries to save models\n",
    "import pickle\n",
    "from tensorflow.keras.models import Model, load_model"
   ]
  },
  {
   "cell_type": "code",
   "execution_count": 3,
   "metadata": {},
   "outputs": [
    {
     "name": "stdout",
     "output_type": "stream",
     "text": [
      "Changed directory to: C:\\Users\\eaber\\Documents\\11. Masters Thesis Final\\6. Analysis\n"
     ]
    }
   ],
   "source": [
    "# Check your current working directory\n",
    "cwd = os.getcwd()\n",
    "\n",
    "# Define your relative path\n",
    "relative_path = r\"6. Analysis\"  # adjust this relative to cwd\n",
    "\n",
    "# Build the full path\n",
    "full_path = os.path.join(cwd, relative_path)\n",
    "\n",
    "# Check if it exists before changing\n",
    "if os.path.exists(full_path):\n",
    "    os.chdir(full_path)\n",
    "    print(\"Changed directory to:\", full_path)\n",
    "else:\n",
    "    print(\"Folder does not exist:\", full_path)"
   ]
  },
  {
   "cell_type": "markdown",
   "metadata": {
    "id": "RopL7tUZSQkT"
   },
   "source": [
    "#### Load Dataset"
   ]
  },
  {
   "cell_type": "code",
   "execution_count": 4,
   "metadata": {},
   "outputs": [],
   "source": [
    "with open(\"saved_data/train_dataset_final_encoded.pkl\",\"rb\") as f:\n",
    "    dataset = pickle.load(f)\n",
    "#dataset = pd.read_csv('train_dataset_final_encoded.csv')"
   ]
  },
  {
   "cell_type": "code",
   "execution_count": 5,
   "metadata": {},
   "outputs": [
    {
     "data": {
      "text/html": [
       "<div>\n",
       "<style scoped>\n",
       "    .dataframe tbody tr th:only-of-type {\n",
       "        vertical-align: middle;\n",
       "    }\n",
       "\n",
       "    .dataframe tbody tr th {\n",
       "        vertical-align: top;\n",
       "    }\n",
       "\n",
       "    .dataframe thead th {\n",
       "        text-align: right;\n",
       "    }\n",
       "</style>\n",
       "<table border=\"1\" class=\"dataframe\">\n",
       "  <thead>\n",
       "    <tr style=\"text-align: right;\">\n",
       "      <th></th>\n",
       "      <th>isFraud</th>\n",
       "      <th>TransactionDT</th>\n",
       "      <th>TransactionAmt</th>\n",
       "      <th>card1</th>\n",
       "      <th>C3</th>\n",
       "      <th>C9</th>\n",
       "      <th>C12</th>\n",
       "      <th>C13</th>\n",
       "      <th>C14</th>\n",
       "      <th>TransactionID</th>\n",
       "      <th>...</th>\n",
       "      <th>card4_discover</th>\n",
       "      <th>card4_mastercard</th>\n",
       "      <th>card4_visa</th>\n",
       "      <th>card6_charge card</th>\n",
       "      <th>card6_credit</th>\n",
       "      <th>card6_debit</th>\n",
       "      <th>card6_debit or credit</th>\n",
       "      <th>M4_M0</th>\n",
       "      <th>M4_M1</th>\n",
       "      <th>M4_M2</th>\n",
       "    </tr>\n",
       "  </thead>\n",
       "  <tbody>\n",
       "    <tr>\n",
       "      <th>0</th>\n",
       "      <td>0</td>\n",
       "      <td>86400</td>\n",
       "      <td>68.5</td>\n",
       "      <td>13926</td>\n",
       "      <td>0.0</td>\n",
       "      <td>1.0</td>\n",
       "      <td>0.0</td>\n",
       "      <td>1.0</td>\n",
       "      <td>1.0</td>\n",
       "      <td>2987000</td>\n",
       "      <td>...</td>\n",
       "      <td>1.0</td>\n",
       "      <td>0.0</td>\n",
       "      <td>0.0</td>\n",
       "      <td>0.0</td>\n",
       "      <td>1.0</td>\n",
       "      <td>0.0</td>\n",
       "      <td>0.0</td>\n",
       "      <td>0.0</td>\n",
       "      <td>0.0</td>\n",
       "      <td>1.0</td>\n",
       "    </tr>\n",
       "    <tr>\n",
       "      <th>1</th>\n",
       "      <td>0</td>\n",
       "      <td>86401</td>\n",
       "      <td>29.0</td>\n",
       "      <td>2755</td>\n",
       "      <td>0.0</td>\n",
       "      <td>0.0</td>\n",
       "      <td>0.0</td>\n",
       "      <td>1.0</td>\n",
       "      <td>1.0</td>\n",
       "      <td>2987001</td>\n",
       "      <td>...</td>\n",
       "      <td>0.0</td>\n",
       "      <td>1.0</td>\n",
       "      <td>0.0</td>\n",
       "      <td>0.0</td>\n",
       "      <td>1.0</td>\n",
       "      <td>0.0</td>\n",
       "      <td>0.0</td>\n",
       "      <td>1.0</td>\n",
       "      <td>0.0</td>\n",
       "      <td>0.0</td>\n",
       "    </tr>\n",
       "    <tr>\n",
       "      <th>2</th>\n",
       "      <td>0</td>\n",
       "      <td>86469</td>\n",
       "      <td>59.0</td>\n",
       "      <td>4663</td>\n",
       "      <td>0.0</td>\n",
       "      <td>1.0</td>\n",
       "      <td>0.0</td>\n",
       "      <td>1.0</td>\n",
       "      <td>1.0</td>\n",
       "      <td>2987002</td>\n",
       "      <td>...</td>\n",
       "      <td>0.0</td>\n",
       "      <td>0.0</td>\n",
       "      <td>1.0</td>\n",
       "      <td>0.0</td>\n",
       "      <td>0.0</td>\n",
       "      <td>1.0</td>\n",
       "      <td>0.0</td>\n",
       "      <td>1.0</td>\n",
       "      <td>0.0</td>\n",
       "      <td>0.0</td>\n",
       "    </tr>\n",
       "    <tr>\n",
       "      <th>3</th>\n",
       "      <td>0</td>\n",
       "      <td>86499</td>\n",
       "      <td>50.0</td>\n",
       "      <td>18132</td>\n",
       "      <td>0.0</td>\n",
       "      <td>1.0</td>\n",
       "      <td>0.0</td>\n",
       "      <td>25.0</td>\n",
       "      <td>1.0</td>\n",
       "      <td>2987003</td>\n",
       "      <td>...</td>\n",
       "      <td>0.0</td>\n",
       "      <td>1.0</td>\n",
       "      <td>0.0</td>\n",
       "      <td>0.0</td>\n",
       "      <td>0.0</td>\n",
       "      <td>1.0</td>\n",
       "      <td>0.0</td>\n",
       "      <td>1.0</td>\n",
       "      <td>0.0</td>\n",
       "      <td>0.0</td>\n",
       "    </tr>\n",
       "    <tr>\n",
       "      <th>4</th>\n",
       "      <td>0</td>\n",
       "      <td>86506</td>\n",
       "      <td>50.0</td>\n",
       "      <td>4497</td>\n",
       "      <td>0.0</td>\n",
       "      <td>0.0</td>\n",
       "      <td>0.0</td>\n",
       "      <td>1.0</td>\n",
       "      <td>1.0</td>\n",
       "      <td>2987004</td>\n",
       "      <td>...</td>\n",
       "      <td>0.0</td>\n",
       "      <td>1.0</td>\n",
       "      <td>0.0</td>\n",
       "      <td>0.0</td>\n",
       "      <td>1.0</td>\n",
       "      <td>0.0</td>\n",
       "      <td>0.0</td>\n",
       "      <td>1.0</td>\n",
       "      <td>0.0</td>\n",
       "      <td>0.0</td>\n",
       "    </tr>\n",
       "  </tbody>\n",
       "</table>\n",
       "<p>5 rows × 201 columns</p>\n",
       "</div>"
      ],
      "text/plain": [
       "   isFraud  TransactionDT  TransactionAmt  card1   C3   C9  C12   C13  C14  \\\n",
       "0        0          86400            68.5  13926  0.0  1.0  0.0   1.0  1.0   \n",
       "1        0          86401            29.0   2755  0.0  0.0  0.0   1.0  1.0   \n",
       "2        0          86469            59.0   4663  0.0  1.0  0.0   1.0  1.0   \n",
       "3        0          86499            50.0  18132  0.0  1.0  0.0  25.0  1.0   \n",
       "4        0          86506            50.0   4497  0.0  0.0  0.0   1.0  1.0   \n",
       "\n",
       "   TransactionID  ... card4_discover card4_mastercard card4_visa  \\\n",
       "0        2987000  ...            1.0              0.0        0.0   \n",
       "1        2987001  ...            0.0              1.0        0.0   \n",
       "2        2987002  ...            0.0              0.0        1.0   \n",
       "3        2987003  ...            0.0              1.0        0.0   \n",
       "4        2987004  ...            0.0              1.0        0.0   \n",
       "\n",
       "  card6_charge card card6_credit  card6_debit  card6_debit or credit  M4_M0  \\\n",
       "0               0.0          1.0          0.0                    0.0    0.0   \n",
       "1               0.0          1.0          0.0                    0.0    1.0   \n",
       "2               0.0          0.0          1.0                    0.0    1.0   \n",
       "3               0.0          0.0          1.0                    0.0    1.0   \n",
       "4               0.0          1.0          0.0                    0.0    1.0   \n",
       "\n",
       "   M4_M1  M4_M2  \n",
       "0    0.0    1.0  \n",
       "1    0.0    0.0  \n",
       "2    0.0    0.0  \n",
       "3    0.0    0.0  \n",
       "4    0.0    0.0  \n",
       "\n",
       "[5 rows x 201 columns]"
      ]
     },
     "execution_count": 5,
     "metadata": {},
     "output_type": "execute_result"
    }
   ],
   "source": [
    "dataset.head()"
   ]
  },
  {
   "cell_type": "code",
   "execution_count": 6,
   "metadata": {},
   "outputs": [
    {
     "data": {
      "text/plain": [
       "(590540, 201)"
      ]
     },
     "execution_count": 6,
     "metadata": {},
     "output_type": "execute_result"
    }
   ],
   "source": [
    "dataset.shape"
   ]
  },
  {
   "cell_type": "code",
   "execution_count": 7,
   "metadata": {},
   "outputs": [
    {
     "name": "stdout",
     "output_type": "stream",
     "text": [
      "<class 'pandas.core.frame.DataFrame'>\n",
      "RangeIndex: 590540 entries, 0 to 590539\n",
      "Columns: 201 entries, isFraud to M4_M2\n",
      "dtypes: float64(179), int64(8), object(14)\n",
      "memory usage: 905.6+ MB\n"
     ]
    }
   ],
   "source": [
    "dataset.info()"
   ]
  },
  {
   "cell_type": "code",
   "execution_count": 8,
   "metadata": {},
   "outputs": [],
   "source": [
    "for col in dataset.columns:\n",
    "    if dataset[col].dtype == \"object\":\n",
    "        try:\n",
    "            dataset[col] = pd.to_numeric(dataset[col])\n",
    "        except:\n",
    "            pass"
   ]
  },
  {
   "cell_type": "code",
   "execution_count": 9,
   "metadata": {},
   "outputs": [
    {
     "name": "stdout",
     "output_type": "stream",
     "text": [
      "<class 'pandas.core.frame.DataFrame'>\n",
      "RangeIndex: 590540 entries, 0 to 590539\n",
      "Columns: 201 entries, isFraud to M4_M2\n",
      "dtypes: float64(193), int64(8)\n",
      "memory usage: 905.6 MB\n"
     ]
    }
   ],
   "source": [
    "dataset.info()"
   ]
  },
  {
   "cell_type": "code",
   "execution_count": null,
   "metadata": {},
   "outputs": [],
   "source": []
  },
  {
   "cell_type": "markdown",
   "metadata": {},
   "source": [
    "#### Split the data into Train-Test"
   ]
  },
  {
   "cell_type": "code",
   "execution_count": 10,
   "metadata": {},
   "outputs": [],
   "source": [
    "dataset_final = dataset.drop('TransactionID', axis=1)"
   ]
  },
  {
   "cell_type": "code",
   "execution_count": 11,
   "metadata": {},
   "outputs": [],
   "source": [
    "X = dataset_final.iloc[:, 1:].values\n",
    "y = dataset_final.iloc[:,0].values"
   ]
  },
  {
   "cell_type": "code",
   "execution_count": 12,
   "metadata": {},
   "outputs": [],
   "source": [
    "from sklearn.model_selection import train_test_split\n",
    "X_train, X_test, y_train, y_test = train_test_split(X, y, test_size = 0.2, stratify=y, random_state = 1)"
   ]
  },
  {
   "cell_type": "code",
   "execution_count": null,
   "metadata": {},
   "outputs": [],
   "source": []
  },
  {
   "cell_type": "markdown",
   "metadata": {},
   "source": [
    "#### Feature Scaling"
   ]
  },
  {
   "cell_type": "code",
   "execution_count": 13,
   "metadata": {},
   "outputs": [],
   "source": [
    "sc = StandardScaler()\n",
    "X_train_scaled = sc.fit_transform(X_train)\n",
    "X_test_scaled = sc.transform(X_test)"
   ]
  },
  {
   "cell_type": "code",
   "execution_count": null,
   "metadata": {},
   "outputs": [],
   "source": []
  },
  {
   "cell_type": "markdown",
   "metadata": {},
   "source": [
    "#### Loading the models"
   ]
  },
  {
   "cell_type": "code",
   "execution_count": 14,
   "metadata": {},
   "outputs": [],
   "source": [
    "# load Isolation Forest model\n",
    "with open(\"saved_models/iso_forest_model_nonSMOTE.pkl\", \"rb\") as f:\n",
    "    iso_forest = pickle.load(f)"
   ]
  },
  {
   "cell_type": "code",
   "execution_count": 15,
   "metadata": {},
   "outputs": [],
   "source": [
    "# load Autoencoder model\n",
    "autoencoder = load_model(\"saved_models/autoencoder_model_nonSMOTE.keras\")"
   ]
  },
  {
   "cell_type": "code",
   "execution_count": 16,
   "metadata": {},
   "outputs": [],
   "source": [
    "# load Random Forest model\n",
    "with open(\"saved_models/random_forest_model_nonSMOTE.pkl\", \"rb\") as f:\n",
    "    rf = pickle.load(f)"
   ]
  },
  {
   "cell_type": "code",
   "execution_count": 17,
   "metadata": {},
   "outputs": [],
   "source": [
    "# load XGBoost model\n",
    "xgb = xgb.XGBClassifier()\n",
    "xgb.load_model(\"saved_models/xgb_model_nonSMOTE.json\")"
   ]
  },
  {
   "cell_type": "code",
   "execution_count": 18,
   "metadata": {},
   "outputs": [],
   "source": [
    "# load ANN model\n",
    "model = load_model(\"saved_models/ann_model_nonSMOTE.keras\")"
   ]
  },
  {
   "cell_type": "code",
   "execution_count": 19,
   "metadata": {},
   "outputs": [],
   "source": [
    "# load KNN model\n",
    "with open(\"saved_models/knn_model_nonSMOTE.pkl\", \"rb\") as f:\n",
    "    knn = pickle.load(f)"
   ]
  },
  {
   "cell_type": "code",
   "execution_count": 20,
   "metadata": {},
   "outputs": [],
   "source": [
    "# load SVM model\n",
    "with open(\"saved_models/svm_pipeline_nonSMOTE.pkl\", \"rb\") as f:\n",
    "    pipeline = pickle.load(f)"
   ]
  },
  {
   "cell_type": "code",
   "execution_count": 21,
   "metadata": {},
   "outputs": [],
   "source": [
    "# load GBM model\n",
    "with open(\"saved_models/gbm_model_nonSMOTE.pkl\", \"rb\") as f:\n",
    "    gbm = pickle.load(f)"
   ]
  },
  {
   "cell_type": "code",
   "execution_count": null,
   "metadata": {},
   "outputs": [],
   "source": []
  },
  {
   "cell_type": "code",
   "execution_count": null,
   "metadata": {},
   "outputs": [],
   "source": []
  },
  {
   "cell_type": "markdown",
   "metadata": {},
   "source": [
    "### 3.6 Cross Validation Checks for the Supervised Learning Models"
   ]
  },
  {
   "cell_type": "code",
   "execution_count": 22,
   "metadata": {},
   "outputs": [],
   "source": [
    "from sklearn.model_selection import cross_validate\n",
    "from sklearn.metrics import make_scorer, f1_score"
   ]
  },
  {
   "cell_type": "code",
   "execution_count": 23,
   "metadata": {},
   "outputs": [],
   "source": [
    "# Define multiple scoring metrics\n",
    "scoring = {\n",
    "    'auc': 'roc_auc',\n",
    "    'recall': 'recall',\n",
    "    'precision': 'precision',\n",
    "    'F1': make_scorer(f1_score, average='macro')\n",
    "}"
   ]
  },
  {
   "cell_type": "code",
   "execution_count": null,
   "metadata": {},
   "outputs": [],
   "source": []
  },
  {
   "cell_type": "markdown",
   "metadata": {},
   "source": [
    "#### 3.6.1 Cross Validation for the Random Forest Model"
   ]
  },
  {
   "cell_type": "code",
   "execution_count": 24,
   "metadata": {},
   "outputs": [],
   "source": [
    "# Run cross-validation once\n",
    "cv_results_rf = cross_validate(\n",
    "    estimator=rf,\n",
    "    X=X_train,\n",
    "    y=y_train,\n",
    "    cv=10,\n",
    "    scoring=scoring\n",
    ")"
   ]
  },
  {
   "cell_type": "code",
   "execution_count": 25,
   "metadata": {},
   "outputs": [
    {
     "name": "stdout",
     "output_type": "stream",
     "text": [
      "AUC Random Forest: 88.752 %\n",
      "AUC Standard Deviation Random Forest: 0.00339\n"
     ]
    }
   ],
   "source": [
    "# Print results - RF AUC\n",
    "print(\"AUC Random Forest: {:.3f} %\".format(cv_results_rf['test_auc'].mean() * 100))\n",
    "print(\"AUC Standard Deviation Random Forest: {:.5f}\".format(cv_results_rf['test_auc'].std()))"
   ]
  },
  {
   "cell_type": "code",
   "execution_count": 26,
   "metadata": {},
   "outputs": [
    {
     "name": "stdout",
     "output_type": "stream",
     "text": [
      "Recall Random Forest: 0.7406\n",
      "Recall Standard Deviation Random Forest: 0.00608\n"
     ]
    }
   ],
   "source": [
    "# Print results - RF Recall\n",
    "print(\"Recall Random Forest: {:.4f}\".format(cv_results_rf['test_recall'].mean()))\n",
    "print(\"Recall Standard Deviation Random Forest: {:.5f}\".format(cv_results_rf['test_recall'].std()))"
   ]
  },
  {
   "cell_type": "code",
   "execution_count": 27,
   "metadata": {},
   "outputs": [
    {
     "name": "stdout",
     "output_type": "stream",
     "text": [
      "Precision Random Forest: 0.1833\n",
      "Precision Standard Deviation Random Forest: 0.00301\n"
     ]
    }
   ],
   "source": [
    "# Print results - RF precision\n",
    "print(\"Precision Random Forest: {:.4f}\".format(cv_results_rf['test_precision'].mean()))\n",
    "print(\"Precision Standard Deviation Random Forest: {:.5f}\".format(cv_results_rf['test_precision'].std()))"
   ]
  },
  {
   "cell_type": "code",
   "execution_count": 28,
   "metadata": {},
   "outputs": [
    {
     "name": "stdout",
     "output_type": "stream",
     "text": [
      "F1-score Random Forest: 0.6128\n",
      "F1-score Standard Deviation Random Forest: 0.00261\n"
     ]
    }
   ],
   "source": [
    "# Print results - Random Forest F1 Score\n",
    "print(\"F1-score Random Forest: {:.4f}\".format(cv_results_rf['test_F1'].mean()))\n",
    "print(\"F1-score Standard Deviation Random Forest: {:.5f}\".format(cv_results_rf['test_F1'].std()))"
   ]
  },
  {
   "cell_type": "code",
   "execution_count": null,
   "metadata": {},
   "outputs": [],
   "source": []
  },
  {
   "cell_type": "markdown",
   "metadata": {},
   "source": [
    "#### 3.6.2 Cross Validation for the XGBoost Model"
   ]
  },
  {
   "cell_type": "code",
   "execution_count": 29,
   "metadata": {},
   "outputs": [],
   "source": [
    "# Run cross-validation once\n",
    "cv_results_xgb = cross_validate(\n",
    "    estimator=xgb,\n",
    "    X=X_train,\n",
    "    y=y_train,\n",
    "    cv=10,\n",
    "    scoring=scoring\n",
    ")"
   ]
  },
  {
   "cell_type": "code",
   "execution_count": 30,
   "metadata": {},
   "outputs": [
    {
     "name": "stdout",
     "output_type": "stream",
     "text": [
      "AUC XGBoost: 93.726 %\n",
      "AUC Standard Deviation XGBoost: 0.00374\n"
     ]
    }
   ],
   "source": [
    "# Print results - XGB AUC\n",
    "print(\"AUC XGBoost: {:.3f} %\".format(cv_results_xgb['test_auc'].mean() * 100))\n",
    "print(\"AUC Standard Deviation XGBoost: {:.5f}\".format(cv_results_xgb['test_auc'].std()))"
   ]
  },
  {
   "cell_type": "code",
   "execution_count": 31,
   "metadata": {},
   "outputs": [
    {
     "name": "stdout",
     "output_type": "stream",
     "text": [
      "Recall XGBoost: 0.4678\n",
      "Recall Standard Deviation XGBoost: 0.00648\n"
     ]
    }
   ],
   "source": [
    "# Print results - XGB Recall\n",
    "print(\"Recall XGBoost: {:.4f}\".format(cv_results_xgb['test_recall'].mean()))\n",
    "print(\"Recall Standard Deviation XGBoost: {:.5f}\".format(cv_results_xgb['test_recall'].std()))"
   ]
  },
  {
   "cell_type": "code",
   "execution_count": 32,
   "metadata": {},
   "outputs": [
    {
     "name": "stdout",
     "output_type": "stream",
     "text": [
      "Precision XGBoost: 0.9062\n",
      "Precision Standard Deviation XGBoost: 0.00879\n"
     ]
    }
   ],
   "source": [
    "# Print results - XGB Precision\n",
    "print(\"Precision XGBoost: {:.4f}\".format(cv_results_xgb['test_precision'].mean()))\n",
    "print(\"Precision Standard Deviation XGBoost: {:.5f}\".format(cv_results_xgb['test_precision'].std()))"
   ]
  },
  {
   "cell_type": "code",
   "execution_count": 33,
   "metadata": {},
   "outputs": [
    {
     "name": "stdout",
     "output_type": "stream",
     "text": [
      "F1-score XGBoost: 0.8033\n",
      "F1-score Standard Deviation XGBoost: 0.00361\n"
     ]
    }
   ],
   "source": [
    "# Print results - XGB F1 Score\n",
    "print(\"F1-score XGBoost: {:.4f}\".format(cv_results_xgb['test_F1'].mean()))\n",
    "print(\"F1-score Standard Deviation XGBoost: {:.5f}\".format(cv_results_xgb['test_F1'].std()))"
   ]
  },
  {
   "cell_type": "code",
   "execution_count": null,
   "metadata": {},
   "outputs": [],
   "source": []
  },
  {
   "cell_type": "markdown",
   "metadata": {},
   "source": [
    "#### 3.6.3 Cross Validation for the KNN Model"
   ]
  },
  {
   "cell_type": "code",
   "execution_count": 34,
   "metadata": {},
   "outputs": [],
   "source": [
    "# Run cross-validation once\n",
    "cv_results_knn = cross_validate(\n",
    "    estimator=knn,\n",
    "    X=X_train_scaled,\n",
    "    y=y_train,\n",
    "    cv=10,\n",
    "    scoring=scoring\n",
    ")"
   ]
  },
  {
   "cell_type": "code",
   "execution_count": 35,
   "metadata": {},
   "outputs": [
    {
     "name": "stdout",
     "output_type": "stream",
     "text": [
      "AUC KNN: 84.526 %\n",
      "AUC Standard Deviation KNN: 0.00533\n"
     ]
    }
   ],
   "source": [
    "# Print results - KNN AUC\n",
    "print(\"AUC KNN: {:.3f} %\".format(cv_results_knn['test_auc'].mean() * 100))\n",
    "print(\"AUC Standard Deviation KNN: {:.5f}\".format(cv_results_knn['test_auc'].std()))"
   ]
  },
  {
   "cell_type": "code",
   "execution_count": 36,
   "metadata": {},
   "outputs": [
    {
     "name": "stdout",
     "output_type": "stream",
     "text": [
      "Recall KNN: 0.4858\n",
      "Recall Standard Deviation KNN: 0.01140\n"
     ]
    }
   ],
   "source": [
    "# Print results - KNN Recall\n",
    "print(\"Recall KNN: {:.4f}\".format(cv_results_knn['test_recall'].mean()))\n",
    "print(\"Recall Standard Deviation KNN: {:.5f}\".format(cv_results_knn['test_recall'].std()))"
   ]
  },
  {
   "cell_type": "code",
   "execution_count": 37,
   "metadata": {},
   "outputs": [
    {
     "name": "stdout",
     "output_type": "stream",
     "text": [
      "Precision KNN: 0.8658\n",
      "Precision Standard Deviation KNN: 0.00796\n"
     ]
    }
   ],
   "source": [
    "# Print results - KNN Precision\n",
    "print(\"Precision KNN: {:.4f}\".format(cv_results_knn['test_precision'].mean()))\n",
    "print(\"Precision Standard Deviation KNN: {:.5f}\".format(cv_results_knn['test_precision'].std()))"
   ]
  },
  {
   "cell_type": "code",
   "execution_count": 38,
   "metadata": {},
   "outputs": [
    {
     "name": "stdout",
     "output_type": "stream",
     "text": [
      "F1-score KNN: 0.8059\n",
      "F1-score Standard Deviation KNN: 0.00551\n"
     ]
    }
   ],
   "source": [
    "# Print results - KNN F1 Score\n",
    "print(\"F1-score KNN: {:.4f}\".format(cv_results_knn['test_F1'].mean()))\n",
    "print(\"F1-score Standard Deviation KNN: {:.5f}\".format(cv_results_knn['test_F1'].std()))"
   ]
  },
  {
   "cell_type": "code",
   "execution_count": null,
   "metadata": {},
   "outputs": [],
   "source": []
  },
  {
   "cell_type": "markdown",
   "metadata": {},
   "source": [
    "#### 3.6.4 Cross Validation for the SVM Model"
   ]
  },
  {
   "cell_type": "code",
   "execution_count": 39,
   "metadata": {},
   "outputs": [],
   "source": [
    "# Run cross-validation\n",
    "cv_results_svm = cross_validate(\n",
    "    estimator=pipeline,\n",
    "    X=X_train_scaled,\n",
    "    y=y_train,\n",
    "    cv=10,\n",
    "    scoring=scoring\n",
    ")"
   ]
  },
  {
   "cell_type": "code",
   "execution_count": 40,
   "metadata": {},
   "outputs": [
    {
     "name": "stdout",
     "output_type": "stream",
     "text": [
      "AUC SVM: 84.729 %\n",
      "AUC Standard Deviation SVM: 0.00535\n"
     ]
    }
   ],
   "source": [
    "# Print results - SVM AUC\n",
    "print(\"AUC SVM: {:.3f} %\".format(cv_results_svm['test_auc'].mean() * 100))\n",
    "print(\"AUC Standard Deviation SVM: {:.5f}\".format(cv_results_svm['test_auc'].std()))"
   ]
  },
  {
   "cell_type": "code",
   "execution_count": 41,
   "metadata": {},
   "outputs": [
    {
     "name": "stdout",
     "output_type": "stream",
     "text": [
      "Recall SVM: 0.7122\n",
      "Recall Standard Deviation SVM: 0.01103\n"
     ]
    }
   ],
   "source": [
    "# Print results - SVM Recall\n",
    "print(\"Recall SVM: {:.4f}\".format(cv_results_svm['test_recall'].mean()))\n",
    "print(\"Recall Standard Deviation SVM: {:.5f}\".format(cv_results_svm['test_recall'].std()))"
   ]
  },
  {
   "cell_type": "code",
   "execution_count": 42,
   "metadata": {},
   "outputs": [
    {
     "name": "stdout",
     "output_type": "stream",
     "text": [
      "Precision SVM: 0.1239\n",
      "Precision Standard Deviation SVM: 0.00196\n"
     ]
    }
   ],
   "source": [
    "# Print results - SVM Precision\n",
    "print(\"Precision SVM: {:.4f}\".format(cv_results_svm['test_precision'].mean()))\n",
    "print(\"Precision Standard Deviation SVM: {:.5f}\".format(cv_results_svm['test_precision'].std()))"
   ]
  },
  {
   "cell_type": "code",
   "execution_count": 43,
   "metadata": {},
   "outputs": [
    {
     "name": "stdout",
     "output_type": "stream",
     "text": [
      "F1-score SVM: 0.5528\n",
      "F1-score Standard Deviation SVM: 0.00205\n"
     ]
    }
   ],
   "source": [
    "# Print results - SVM F1 Score\n",
    "print(\"F1-score SVM: {:.4f}\".format(cv_results_svm['test_F1'].mean()))\n",
    "print(\"F1-score Standard Deviation SVM: {:.5f}\".format(cv_results_svm['test_F1'].std()))"
   ]
  },
  {
   "cell_type": "code",
   "execution_count": null,
   "metadata": {},
   "outputs": [],
   "source": []
  },
  {
   "cell_type": "markdown",
   "metadata": {},
   "source": [
    "#### 3.6.5 Cross Validation for the GBM Model"
   ]
  },
  {
   "cell_type": "code",
   "execution_count": null,
   "metadata": {},
   "outputs": [],
   "source": [
    "# Run cross-validation\n",
    "cv_results_gbm = cross_validate(\n",
    "    estimator=gbm,\n",
    "    X=X_train,\n",
    "    y=y_train,\n",
    "    cv=10,\n",
    "    scoring=scoring\n",
    ")"
   ]
  },
  {
   "cell_type": "code",
   "execution_count": null,
   "metadata": {},
   "outputs": [],
   "source": [
    "# Print results - GBM AUC\n",
    "print(\"AUC GBM: {:.3f} %\".format(cv_results_gbm['test_AUC'].mean() * 100))\n",
    "print(\"AUC Standard Deviation GBM: {:.5f}\".format(cv_results_gbm['test_AUC'].std()))"
   ]
  },
  {
   "cell_type": "code",
   "execution_count": null,
   "metadata": {},
   "outputs": [],
   "source": [
    "# Print results - GBM Recall\n",
    "print(\"Recall GBM: {:.4f}\".format(cv_results_gbm['test_Recall'].mean()))\n",
    "print(\"Recall Standard Deviation GBM: {:.5f}\".format(cv_results_gbm['test_Recall'].std()))"
   ]
  },
  {
   "cell_type": "code",
   "execution_count": null,
   "metadata": {},
   "outputs": [],
   "source": [
    "# Print results - GBM Precision\n",
    "print(\"Precision GBM: {:.4f}\".format(cv_results_gbm['test_Precision'].mean()))\n",
    "print(\"Precision Standard Deviation GBM: {:.5f}\".format(cv_results_gbm['test_Precision'].std()))"
   ]
  },
  {
   "cell_type": "code",
   "execution_count": null,
   "metadata": {},
   "outputs": [],
   "source": [
    "# Print results - GBM F1 Score\n",
    "print(\"F1-score GBM: {:.4f}\".format(cv_results_gbm['test_F1'].mean()))\n",
    "print(\"F1-score Standard Deviation GBM: {:.5f}\".format(cv_results_gbm['test_F1'].std()))"
   ]
  },
  {
   "cell_type": "code",
   "execution_count": null,
   "metadata": {},
   "outputs": [],
   "source": []
  },
  {
   "cell_type": "code",
   "execution_count": null,
   "metadata": {},
   "outputs": [],
   "source": []
  }
 ],
 "metadata": {
  "colab": {
   "authorship_tag": "ABX9TyOihYlX/ooG5h+qw0sLIjn8",
   "collapsed_sections": [],
   "provenance": []
  },
  "kernelspec": {
   "display_name": "Python 3 (ipykernel)",
   "language": "python",
   "name": "python3"
  },
  "language_info": {
   "codemirror_mode": {
    "name": "ipython",
    "version": 3
   },
   "file_extension": ".py",
   "mimetype": "text/x-python",
   "name": "python",
   "nbconvert_exporter": "python",
   "pygments_lexer": "ipython3",
   "version": "3.12.7"
  }
 },
 "nbformat": 4,
 "nbformat_minor": 4
}
