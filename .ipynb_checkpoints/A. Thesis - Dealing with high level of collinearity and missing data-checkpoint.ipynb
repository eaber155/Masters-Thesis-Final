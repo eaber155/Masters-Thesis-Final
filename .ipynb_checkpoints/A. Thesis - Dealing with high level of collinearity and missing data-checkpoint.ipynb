{
 "cells": [
  {
   "cell_type": "markdown",
   "metadata": {
    "id": "37puETfgRzzg"
   },
   "source": [
    "## MMTHE01 - Masters Thesis"
   ]
  },
  {
   "cell_type": "markdown",
   "metadata": {},
   "source": [
    "### 1. Thesis - Data Cleansing\n",
    "* Dealing with missing data"
   ]
  },
  {
   "cell_type": "markdown",
   "metadata": {
    "id": "EoRP98MpR-qj"
   },
   "source": [
    "#### Importing the libraries"
   ]
  },
  {
   "cell_type": "code",
   "execution_count": 1,
   "metadata": {
    "id": "N-qiINBQSK2g"
   },
   "outputs": [],
   "source": [
    "import numpy as np\n",
    "import matplotlib.pyplot as plt\n",
    "import pandas as pd\n",
    "import seaborn as sns\n",
    "import os\n",
    "\n",
    "from sklearn.preprocessing import LabelEncoder"
   ]
  },
  {
   "cell_type": "code",
   "execution_count": 2,
   "metadata": {},
   "outputs": [],
   "source": [
    "os.chdir(r'S:\\Semester 4\\Masters Thesis Report\\6. Analysis')"
   ]
  },
  {
   "cell_type": "markdown",
   "metadata": {
    "id": "RopL7tUZSQkT"
   },
   "source": [
    "#### Importing the dataset"
   ]
  },
  {
   "cell_type": "code",
   "execution_count": 3,
   "metadata": {},
   "outputs": [],
   "source": [
    "### Mark categorical fields to ensure they are appropriately delt with\n",
    "categorical_columns = ['card1 ', 'card2', 'card3', 'card4', 'card5', 'card6', 'addr1', 'addr2', 'P_emaildomain', 'R_emaildomain', 'M1', 'M2', 'M3', \n",
    "                       'M4', 'M5', 'M6', 'M7', 'M8', 'M9']"
   ]
  },
  {
   "cell_type": "code",
   "execution_count": 4,
   "metadata": {},
   "outputs": [],
   "source": [
    "identity_cat_columns = ['id_01', 'id_02', 'id_03', 'id_04', 'id_05', 'id_06', 'id_07', 'id_08', 'id_09', 'id_10', 'id_11', 'id_12', 'id_13', 'id_14', \n",
    "                        'id_15', 'id_16', 'id_17', 'id_18', 'id_19', 'id_20', 'id_21', 'id_22', 'id_23', 'id_24', 'id_25', 'id_26', 'id_27', 'id_28',\n",
    "                        'id_29', 'id_30', 'id_31', 'id_32', 'id_33', 'id_34', 'id_35', 'id_36', 'id_37', 'id_38', 'DeviceType', 'DeviceInfo']"
   ]
  },
  {
   "cell_type": "code",
   "execution_count": 5,
   "metadata": {
    "id": "WwEPNDWySTKm"
   },
   "outputs": [],
   "source": [
    "transactions_dataset = pd.read_csv('train_transaction.csv', dtype={col: 'category' for col in categorical_columns})\n",
    "identity_dataset = pd.read_csv('train_identity.csv',  dtype={col: 'category' for col in identity_cat_columns})\n",
    "dataset = transactions_dataset.merge(identity_dataset,on=['TransactionID'], how='left')"
   ]
  },
  {
   "cell_type": "code",
   "execution_count": 6,
   "metadata": {},
   "outputs": [],
   "source": [
    "#dataset_check = dataset[['id_01', 'id_02', 'id_03', 'id_04', 'id_05']].copy()"
   ]
  },
  {
   "cell_type": "code",
   "execution_count": 7,
   "metadata": {},
   "outputs": [],
   "source": [
    "#dataset_check[dataset_check['id_01'].notna()]"
   ]
  },
  {
   "cell_type": "code",
   "execution_count": 8,
   "metadata": {},
   "outputs": [],
   "source": [
    "#dataset.head()"
   ]
  },
  {
   "cell_type": "code",
   "execution_count": 9,
   "metadata": {},
   "outputs": [
    {
     "data": {
      "text/plain": [
       "(590540, 434)"
      ]
     },
     "execution_count": 9,
     "metadata": {},
     "output_type": "execute_result"
    }
   ],
   "source": [
    "dataset.shape"
   ]
  },
  {
   "cell_type": "code",
   "execution_count": 10,
   "metadata": {},
   "outputs": [],
   "source": [
    "#identity_dataset.head()"
   ]
  },
  {
   "cell_type": "code",
   "execution_count": null,
   "metadata": {},
   "outputs": [],
   "source": []
  },
  {
   "cell_type": "code",
   "execution_count": null,
   "metadata": {},
   "outputs": [],
   "source": []
  },
  {
   "cell_type": "code",
   "execution_count": null,
   "metadata": {},
   "outputs": [],
   "source": []
  },
  {
   "cell_type": "markdown",
   "metadata": {},
   "source": [
    "### Step 1: Collinearity analysis and dealing with missing data"
   ]
  },
  {
   "cell_type": "markdown",
   "metadata": {},
   "source": [
    "#### 1.1 Identifying prevalence of missing data per field"
   ]
  },
  {
   "cell_type": "code",
   "execution_count": 11,
   "metadata": {},
   "outputs": [],
   "source": [
    "def top_missing_cols_perc(df):\n",
    "    \"\"\"\n",
    "    returns missing columns in dataframe with missing values percent > thresh\n",
    "    if n=None. It will gave whole dataframe with missing values percent > thresh\n",
    "    \"\"\"\n",
    "    \n",
    "    dff = (df.isnull().sum()/df.shape[0])*100\n",
    "    dff = dff.reset_index()\n",
    "    dff.columns = ['col','missing_percent']\n",
    "    dff = dff.sort_values(by=['missing_percent'],ascending=True).reset_index(drop=True)\n",
    "    return dff"
   ]
  },
  {
   "cell_type": "code",
   "execution_count": 12,
   "metadata": {},
   "outputs": [],
   "source": [
    "missing_perc_matrix = top_missing_cols_perc(dataset)"
   ]
  },
  {
   "cell_type": "code",
   "execution_count": 13,
   "metadata": {},
   "outputs": [],
   "source": [
    "missing_perc_matrix.groupby('missing_percent').count().reset_index().to_csv(\"missing_perc_matrix.csv\", index=False)"
   ]
  },
  {
   "cell_type": "code",
   "execution_count": 14,
   "metadata": {},
   "outputs": [],
   "source": [
    "missing_perc_matrix.to_csv(\"missing_perc_matrix_values.csv\", index=False)"
   ]
  },
  {
   "cell_type": "code",
   "execution_count": 15,
   "metadata": {},
   "outputs": [
    {
     "data": {
      "text/plain": [
       "(array([ 9.,  0.,  4.,  3.,  0.,  3.,  0.,  0.,  1.,  4.,  1.,  3.,  1.,\n",
       "         0.,  0., 17.,  1., 12.,  5.,  6.]),\n",
       " array([ 0.        ,  4.95980797,  9.91961594, 14.87942392, 19.83923189,\n",
       "        24.79903986, 29.75884783, 34.71865581, 39.67846378, 44.63827175,\n",
       "        49.59807972, 54.5578877 , 59.51769567, 64.47750364, 69.43731161,\n",
       "        74.39711959, 79.35692756, 84.31673553, 89.2765435 , 94.23635147,\n",
       "        99.19615945]),\n",
       " <BarContainer object of 20 artists>)"
      ]
     },
     "execution_count": 15,
     "metadata": {},
     "output_type": "execute_result"
    },
    {
     "data": {
      "image/png": "[encoded data removed]",
      "text/plain": [
       "<Figure size 1000x400 with 1 Axes>"
      ]
     },
     "metadata": {},
     "output_type": "display_data"
    }
   ],
   "source": [
    "plt.figure(figsize=(10, 4))\n",
    "plt.hist(missing_perc_matrix.groupby('missing_percent').count().reset_index()['missing_percent'],bins=20,color = \"skyblue\", ec=\"#8FAADC\")"
   ]
  },
  {
   "cell_type": "code",
   "execution_count": 16,
   "metadata": {},
   "outputs": [],
   "source": [
    "missing_perc_matrix.to_csv(\"missing_perc_matrix_values.csv\", index=False)"
   ]
  },
  {
   "cell_type": "code",
   "execution_count": null,
   "metadata": {},
   "outputs": [],
   "source": []
  },
  {
   "cell_type": "markdown",
   "metadata": {},
   "source": [
    "#### 1.2 Correlation Analysis"
   ]
  },
  {
   "cell_type": "markdown",
   "metadata": {},
   "source": [
    "##### 1.2.1 Get All possible Correlations with features"
   ]
  },
  {
   "cell_type": "code",
   "execution_count": 17,
   "metadata": {},
   "outputs": [],
   "source": [
    "all_features = dataset.columns.to_list()\n",
    "#bucketF_features += ['isFraud']"
   ]
  },
  {
   "cell_type": "code",
   "execution_count": 18,
   "metadata": {},
   "outputs": [
    {
     "data": {
      "text/plain": [
       "434"
      ]
     },
     "execution_count": 18,
     "metadata": {},
     "output_type": "execute_result"
    }
   ],
   "source": [
    "len(all_features)"
   ]
  },
  {
   "cell_type": "code",
   "execution_count": 19,
   "metadata": {},
   "outputs": [
    {
     "data": {
      "text/plain": [
       "['ProductCD',\n",
       " 'card4',\n",
       " 'card6',\n",
       " 'P_emaildomain',\n",
       " 'R_emaildomain',\n",
       " 'M1',\n",
       " 'M2',\n",
       " 'M3',\n",
       " 'M4',\n",
       " 'M5',\n",
       " 'M6',\n",
       " 'M7',\n",
       " 'M8',\n",
       " 'M9',\n",
       " 'id_12',\n",
       " 'id_15',\n",
       " 'id_16',\n",
       " 'id_23',\n",
       " 'id_27',\n",
       " 'id_28',\n",
       " 'id_29',\n",
       " 'id_30',\n",
       " 'id_31',\n",
       " 'id_33',\n",
       " 'id_34',\n",
       " 'id_35',\n",
       " 'id_36',\n",
       " 'id_37',\n",
       " 'id_38',\n",
       " 'DeviceType',\n",
       " 'DeviceInfo']"
      ]
     },
     "execution_count": 19,
     "metadata": {},
     "output_type": "execute_result"
    }
   ],
   "source": [
    "# ['ProductCD', 'card4', 'card6', 'P_emaildomain', 'R_emaildomain', 'M1', 'M2', 'M3', 'M4', 'M5', 'M6', 'M7', 'M8', 'M9', 'id_12', 'id_15', 'id_16', 'id_23', 'id_27', 'id_28', 'id_29', 'id_30', 'id_31', 'id_33', 'id_34', 'id_35', 'id_36', 'id_37', 'id_38', 'DeviceType', 'DeviceInfo']\n",
    "string_columns_all = ['ProductCD', 'card4', 'card6', 'P_emaildomain', 'R_emaildomain', 'M1', 'M2', 'M3', 'M4', 'M5', 'M6', 'M7', 'M8', 'M9', 'id_12', 'id_15', 'id_16', 'id_23', 'id_27', 'id_28', 'id_29', 'id_30', 'id_31', 'id_33', 'id_34', 'id_35', 'id_36', 'id_37', 'id_38', 'DeviceType', 'DeviceInfo']\n",
    "#string_columns_all = dataset.select_dtypes(include=['object']).columns.tolist()\n",
    "string_columns_all"
   ]
  },
  {
   "cell_type": "code",
   "execution_count": 20,
   "metadata": {},
   "outputs": [],
   "source": [
    "le = LabelEncoder()\n",
    "for column in string_columns_all:\n",
    "    dataset[column] = le.fit_transform(dataset[column])"
   ]
  },
  {
   "cell_type": "code",
   "execution_count": 21,
   "metadata": {},
   "outputs": [],
   "source": [
    "corr_matrix = dataset.corr()"
   ]
  },
  {
   "cell_type": "code",
   "execution_count": 22,
   "metadata": {},
   "outputs": [],
   "source": [
    "mask = np.triu(np.ones(corr_matrix.shape), k=1).astype(bool)\n",
    "item_pairs = corr_matrix.where(mask)"
   ]
  },
  {
   "cell_type": "code",
   "execution_count": 23,
   "metadata": {},
   "outputs": [],
   "source": [
    "correlation_df = item_pairs.stack().reset_index()\n",
    "correlation_df.columns = ['Feature 1', 'Feature 2', 'Correlation']"
   ]
  },
  {
   "cell_type": "code",
   "execution_count": 24,
   "metadata": {},
   "outputs": [
    {
     "data": {
      "text/html": [
       "<div>\n",
       "<style scoped>\n",
       "    .dataframe tbody tr th:only-of-type {\n",
       "        vertical-align: middle;\n",
       "    }\n",
       "\n",
       "    .dataframe tbody tr th {\n",
       "        vertical-align: top;\n",
       "    }\n",
       "\n",
       "    .dataframe thead th {\n",
       "        text-align: right;\n",
       "    }\n",
       "</style>\n",
       "<table border=\"1\" class=\"dataframe\">\n",
       "  <thead>\n",
       "    <tr style=\"text-align: right;\">\n",
       "      <th></th>\n",
       "      <th>Feature 1</th>\n",
       "      <th>Feature 2</th>\n",
       "      <th>Correlation</th>\n",
       "    </tr>\n",
       "  </thead>\n",
       "  <tbody>\n",
       "    <tr>\n",
       "      <th>0</th>\n",
       "      <td>TransactionID</td>\n",
       "      <td>isFraud</td>\n",
       "      <td>0.014166</td>\n",
       "    </tr>\n",
       "    <tr>\n",
       "      <th>1</th>\n",
       "      <td>TransactionID</td>\n",
       "      <td>TransactionDT</td>\n",
       "      <td>0.998280</td>\n",
       "    </tr>\n",
       "    <tr>\n",
       "      <th>2</th>\n",
       "      <td>TransactionID</td>\n",
       "      <td>TransactionAmt</td>\n",
       "      <td>0.012025</td>\n",
       "    </tr>\n",
       "    <tr>\n",
       "      <th>3</th>\n",
       "      <td>TransactionID</td>\n",
       "      <td>ProductCD</td>\n",
       "      <td>0.130306</td>\n",
       "    </tr>\n",
       "    <tr>\n",
       "      <th>4</th>\n",
       "      <td>TransactionID</td>\n",
       "      <td>card1</td>\n",
       "      <td>0.010122</td>\n",
       "    </tr>\n",
       "  </tbody>\n",
       "</table>\n",
       "</div>"
      ],
      "text/plain": [
       "       Feature 1       Feature 2  Correlation\n",
       "0  TransactionID         isFraud     0.014166\n",
       "1  TransactionID   TransactionDT     0.998280\n",
       "2  TransactionID  TransactionAmt     0.012025\n",
       "3  TransactionID       ProductCD     0.130306\n",
       "4  TransactionID           card1     0.010122"
      ]
     },
     "execution_count": 24,
     "metadata": {},
     "output_type": "execute_result"
    }
   ],
   "source": [
    "correlation_df.head()"
   ]
  },
  {
   "cell_type": "code",
   "execution_count": 25,
   "metadata": {},
   "outputs": [],
   "source": [
    "#correlation_df['Correlation'] = correlation_df['Correlation'].apply(lambda x: x*100)\n",
    "correlation_df['Abs_Correlation'] = correlation_df['Correlation'].apply(lambda x: abs(x))"
   ]
  },
  {
   "cell_type": "markdown",
   "metadata": {},
   "source": [
    "##### 1.2.2 Separate Fraud related correlation"
   ]
  },
  {
   "cell_type": "code",
   "execution_count": 26,
   "metadata": {},
   "outputs": [],
   "source": [
    "def feature_(cols):\n",
    "    feature1 = cols['Feature 1']\n",
    "    feature2 = cols['Feature 2']\n",
    "    if feature1=='isFraud':\n",
    "        return feature2\n",
    "    else:\n",
    "        return feature1"
   ]
  },
  {
   "cell_type": "code",
   "execution_count": 27,
   "metadata": {},
   "outputs": [],
   "source": [
    "label_corr = correlation_df[(correlation_df['Feature 1']=='isFraud')|(correlation_df['Feature 2']=='isFraud')].copy()\n",
    "label_corr['Feature'] = label_corr.apply(feature_,axis=1)"
   ]
  },
  {
   "cell_type": "code",
   "execution_count": 28,
   "metadata": {},
   "outputs": [],
   "source": [
    "label_corr = label_corr.drop(columns=['Feature 1', 'Feature 2'])"
   ]
  },
  {
   "cell_type": "code",
   "execution_count": 29,
   "metadata": {},
   "outputs": [
    {
     "data": {
      "text/html": [
       "<div>\n",
       "<style scoped>\n",
       "    .dataframe tbody tr th:only-of-type {\n",
       "        vertical-align: middle;\n",
       "    }\n",
       "\n",
       "    .dataframe tbody tr th {\n",
       "        vertical-align: top;\n",
       "    }\n",
       "\n",
       "    .dataframe thead th {\n",
       "        text-align: right;\n",
       "    }\n",
       "</style>\n",
       "<table border=\"1\" class=\"dataframe\">\n",
       "  <thead>\n",
       "    <tr style=\"text-align: right;\">\n",
       "      <th></th>\n",
       "      <th>label_corr</th>\n",
       "      <th>label_abs_corr</th>\n",
       "      <th>Feature</th>\n",
       "    </tr>\n",
       "  </thead>\n",
       "  <tbody>\n",
       "    <tr>\n",
       "      <th>0</th>\n",
       "      <td>0.014166</td>\n",
       "      <td>0.014166</td>\n",
       "      <td>TransactionID</td>\n",
       "    </tr>\n",
       "    <tr>\n",
       "      <th>433</th>\n",
       "      <td>0.013103</td>\n",
       "      <td>0.013103</td>\n",
       "      <td>TransactionDT</td>\n",
       "    </tr>\n",
       "    <tr>\n",
       "      <th>434</th>\n",
       "      <td>0.011320</td>\n",
       "      <td>0.011320</td>\n",
       "      <td>TransactionAmt</td>\n",
       "    </tr>\n",
       "    <tr>\n",
       "      <th>435</th>\n",
       "      <td>-0.156556</td>\n",
       "      <td>0.156556</td>\n",
       "      <td>ProductCD</td>\n",
       "    </tr>\n",
       "    <tr>\n",
       "      <th>436</th>\n",
       "      <td>-0.013640</td>\n",
       "      <td>0.013640</td>\n",
       "      <td>card1</td>\n",
       "    </tr>\n",
       "    <tr>\n",
       "      <th>...</th>\n",
       "      <td>...</td>\n",
       "      <td>...</td>\n",
       "      <td>...</td>\n",
       "    </tr>\n",
       "    <tr>\n",
       "      <th>860</th>\n",
       "      <td>-0.138234</td>\n",
       "      <td>0.138234</td>\n",
       "      <td>id_36</td>\n",
       "    </tr>\n",
       "    <tr>\n",
       "      <th>861</th>\n",
       "      <td>-0.119939</td>\n",
       "      <td>0.119939</td>\n",
       "      <td>id_37</td>\n",
       "    </tr>\n",
       "    <tr>\n",
       "      <th>862</th>\n",
       "      <td>-0.145124</td>\n",
       "      <td>0.145124</td>\n",
       "      <td>id_38</td>\n",
       "    </tr>\n",
       "    <tr>\n",
       "      <th>863</th>\n",
       "      <td>-0.112698</td>\n",
       "      <td>0.112698</td>\n",
       "      <td>DeviceType</td>\n",
       "    </tr>\n",
       "    <tr>\n",
       "      <th>864</th>\n",
       "      <td>-0.079803</td>\n",
       "      <td>0.079803</td>\n",
       "      <td>DeviceInfo</td>\n",
       "    </tr>\n",
       "  </tbody>\n",
       "</table>\n",
       "<p>433 rows × 3 columns</p>\n",
       "</div>"
      ],
      "text/plain": [
       "     label_corr  label_abs_corr         Feature\n",
       "0      0.014166        0.014166   TransactionID\n",
       "433    0.013103        0.013103   TransactionDT\n",
       "434    0.011320        0.011320  TransactionAmt\n",
       "435   -0.156556        0.156556       ProductCD\n",
       "436   -0.013640        0.013640           card1\n",
       "..          ...             ...             ...\n",
       "860   -0.138234        0.138234           id_36\n",
       "861   -0.119939        0.119939           id_37\n",
       "862   -0.145124        0.145124           id_38\n",
       "863   -0.112698        0.112698      DeviceType\n",
       "864   -0.079803        0.079803      DeviceInfo\n",
       "\n",
       "[433 rows x 3 columns]"
      ]
     },
     "execution_count": 29,
     "metadata": {},
     "output_type": "execute_result"
    }
   ],
   "source": [
    "label_corr.rename(columns={'Correlation':'label_corr', 'Abs_Correlation':'label_abs_corr'},inplace=True)\n",
    "label_corr"
   ]
  },
  {
   "cell_type": "markdown",
   "metadata": {},
   "source": [
    "##### 1.2.3 Get a Feature only table and add correlation to isFraud on the feature tables"
   ]
  },
  {
   "cell_type": "code",
   "execution_count": 30,
   "metadata": {},
   "outputs": [],
   "source": [
    "features_corr = correlation_df[(correlation_df['Feature 1']!='isFraud')&(correlation_df['Feature 2']!='isFraud')]\n",
    "features_corr = features_corr.merge(label_corr[['Feature','label_abs_corr']],left_on=['Feature 1'], right_on=['Feature'], how='left')"
   ]
  },
  {
   "cell_type": "code",
   "execution_count": 31,
   "metadata": {},
   "outputs": [],
   "source": [
    "features_corr.rename(columns={'label_abs_corr':'label_abs_corr_feat1'},inplace=True)\n",
    "features_corr = features_corr.drop(columns=['Feature'])"
   ]
  },
  {
   "cell_type": "code",
   "execution_count": 32,
   "metadata": {},
   "outputs": [],
   "source": [
    "features_corr = features_corr.merge(label_corr[['Feature','label_abs_corr']],left_on=['Feature 2'], right_on=['Feature'], how='left')"
   ]
  },
  {
   "cell_type": "code",
   "execution_count": 33,
   "metadata": {},
   "outputs": [],
   "source": [
    "features_corr.rename(columns={'label_abs_corr':'label_abs_corr_feat2'},inplace=True)\n",
    "features_corr = features_corr.drop(columns=['Feature'])"
   ]
  },
  {
   "cell_type": "markdown",
   "metadata": {},
   "source": [
    "##### 1.2.4 Add Missing Prevalences to features dataset"
   ]
  },
  {
   "cell_type": "code",
   "execution_count": 34,
   "metadata": {},
   "outputs": [],
   "source": [
    "features_corr = features_corr.merge(missing_perc_matrix,left_on=['Feature 1'], right_on=['col'], how='left')\n",
    "features_corr.rename(columns={'missing_percent':'Feature 1 Missing'},inplace=True)\n",
    "features_corr = features_corr.drop(columns=['col'])"
   ]
  },
  {
   "cell_type": "code",
   "execution_count": 35,
   "metadata": {},
   "outputs": [],
   "source": [
    "features_corr = features_corr.merge(missing_perc_matrix,left_on=['Feature 2'], right_on=['col'], how='left')\n",
    "features_corr.rename(columns={'missing_percent':'Feature 2 Missing'},inplace=True)\n",
    "features_corr = features_corr.drop(columns=['col'])"
   ]
  },
  {
   "cell_type": "code",
   "execution_count": 36,
   "metadata": {},
   "outputs": [
    {
     "data": {
      "text/html": [
       "<div>\n",
       "<style scoped>\n",
       "    .dataframe tbody tr th:only-of-type {\n",
       "        vertical-align: middle;\n",
       "    }\n",
       "\n",
       "    .dataframe tbody tr th {\n",
       "        vertical-align: top;\n",
       "    }\n",
       "\n",
       "    .dataframe thead th {\n",
       "        text-align: right;\n",
       "    }\n",
       "</style>\n",
       "<table border=\"1\" class=\"dataframe\">\n",
       "  <thead>\n",
       "    <tr style=\"text-align: right;\">\n",
       "      <th></th>\n",
       "      <th>Feature 1</th>\n",
       "      <th>Feature 2</th>\n",
       "      <th>Correlation</th>\n",
       "      <th>Abs_Correlation</th>\n",
       "      <th>label_abs_corr_feat1</th>\n",
       "      <th>label_abs_corr_feat2</th>\n",
       "      <th>Feature 1 Missing</th>\n",
       "      <th>Feature 2 Missing</th>\n",
       "    </tr>\n",
       "  </thead>\n",
       "  <tbody>\n",
       "    <tr>\n",
       "      <th>0</th>\n",
       "      <td>TransactionID</td>\n",
       "      <td>TransactionDT</td>\n",
       "      <td>0.998280</td>\n",
       "      <td>0.998280</td>\n",
       "      <td>0.014166</td>\n",
       "      <td>0.013103</td>\n",
       "      <td>0.000000</td>\n",
       "      <td>0.000000</td>\n",
       "    </tr>\n",
       "    <tr>\n",
       "      <th>1</th>\n",
       "      <td>TransactionID</td>\n",
       "      <td>TransactionAmt</td>\n",
       "      <td>0.012025</td>\n",
       "      <td>0.012025</td>\n",
       "      <td>0.014166</td>\n",
       "      <td>0.011320</td>\n",
       "      <td>0.000000</td>\n",
       "      <td>0.000000</td>\n",
       "    </tr>\n",
       "    <tr>\n",
       "      <th>2</th>\n",
       "      <td>TransactionID</td>\n",
       "      <td>ProductCD</td>\n",
       "      <td>0.130306</td>\n",
       "      <td>0.130306</td>\n",
       "      <td>0.014166</td>\n",
       "      <td>0.156556</td>\n",
       "      <td>0.000000</td>\n",
       "      <td>0.000000</td>\n",
       "    </tr>\n",
       "    <tr>\n",
       "      <th>3</th>\n",
       "      <td>TransactionID</td>\n",
       "      <td>card1</td>\n",
       "      <td>0.010122</td>\n",
       "      <td>0.010122</td>\n",
       "      <td>0.014166</td>\n",
       "      <td>0.013640</td>\n",
       "      <td>0.000000</td>\n",
       "      <td>0.000000</td>\n",
       "    </tr>\n",
       "    <tr>\n",
       "      <th>4</th>\n",
       "      <td>TransactionID</td>\n",
       "      <td>card2</td>\n",
       "      <td>-0.019900</td>\n",
       "      <td>0.019900</td>\n",
       "      <td>0.014166</td>\n",
       "      <td>0.003388</td>\n",
       "      <td>0.000000</td>\n",
       "      <td>1.512683</td>\n",
       "    </tr>\n",
       "    <tr>\n",
       "      <th>...</th>\n",
       "      <td>...</td>\n",
       "      <td>...</td>\n",
       "      <td>...</td>\n",
       "      <td>...</td>\n",
       "      <td>...</td>\n",
       "      <td>...</td>\n",
       "      <td>...</td>\n",
       "      <td>...</td>\n",
       "    </tr>\n",
       "    <tr>\n",
       "      <th>84168</th>\n",
       "      <td>id_37</td>\n",
       "      <td>DeviceType</td>\n",
       "      <td>0.836701</td>\n",
       "      <td>0.836701</td>\n",
       "      <td>0.119939</td>\n",
       "      <td>0.112698</td>\n",
       "      <td>76.126088</td>\n",
       "      <td>76.155722</td>\n",
       "    </tr>\n",
       "    <tr>\n",
       "      <th>84169</th>\n",
       "      <td>id_37</td>\n",
       "      <td>DeviceInfo</td>\n",
       "      <td>0.496368</td>\n",
       "      <td>0.496368</td>\n",
       "      <td>0.119939</td>\n",
       "      <td>0.079803</td>\n",
       "      <td>76.126088</td>\n",
       "      <td>79.905510</td>\n",
       "    </tr>\n",
       "    <tr>\n",
       "      <th>84170</th>\n",
       "      <td>id_38</td>\n",
       "      <td>DeviceType</td>\n",
       "      <td>0.871210</td>\n",
       "      <td>0.871210</td>\n",
       "      <td>0.145124</td>\n",
       "      <td>0.112698</td>\n",
       "      <td>76.126088</td>\n",
       "      <td>76.155722</td>\n",
       "    </tr>\n",
       "    <tr>\n",
       "      <th>84171</th>\n",
       "      <td>id_38</td>\n",
       "      <td>DeviceInfo</td>\n",
       "      <td>0.561896</td>\n",
       "      <td>0.561896</td>\n",
       "      <td>0.145124</td>\n",
       "      <td>0.079803</td>\n",
       "      <td>76.126088</td>\n",
       "      <td>79.905510</td>\n",
       "    </tr>\n",
       "    <tr>\n",
       "      <th>84172</th>\n",
       "      <td>DeviceType</td>\n",
       "      <td>DeviceInfo</td>\n",
       "      <td>0.516147</td>\n",
       "      <td>0.516147</td>\n",
       "      <td>0.112698</td>\n",
       "      <td>0.079803</td>\n",
       "      <td>76.155722</td>\n",
       "      <td>79.905510</td>\n",
       "    </tr>\n",
       "  </tbody>\n",
       "</table>\n",
       "<p>84173 rows × 8 columns</p>\n",
       "</div>"
      ],
      "text/plain": [
       "           Feature 1       Feature 2  Correlation  Abs_Correlation  \\\n",
       "0      TransactionID   TransactionDT     0.998280         0.998280   \n",
       "1      TransactionID  TransactionAmt     0.012025         0.012025   \n",
       "2      TransactionID       ProductCD     0.130306         0.130306   \n",
       "3      TransactionID           card1     0.010122         0.010122   \n",
       "4      TransactionID           card2    -0.019900         0.019900   \n",
       "...              ...             ...          ...              ...   \n",
       "84168          id_37      DeviceType     0.836701         0.836701   \n",
       "84169          id_37      DeviceInfo     0.496368         0.496368   \n",
       "84170          id_38      DeviceType     0.871210         0.871210   \n",
       "84171          id_38      DeviceInfo     0.561896         0.561896   \n",
       "84172     DeviceType      DeviceInfo     0.516147         0.516147   \n",
       "\n",
       "       label_abs_corr_feat1  label_abs_corr_feat2  Feature 1 Missing  \\\n",
       "0                  0.014166              0.013103           0.000000   \n",
       "1                  0.014166              0.011320           0.000000   \n",
       "2                  0.014166              0.156556           0.000000   \n",
       "3                  0.014166              0.013640           0.000000   \n",
       "4                  0.014166              0.003388           0.000000   \n",
       "...                     ...                   ...                ...   \n",
       "84168              0.119939              0.112698          76.126088   \n",
       "84169              0.119939              0.079803          76.126088   \n",
       "84170              0.145124              0.112698          76.126088   \n",
       "84171              0.145124              0.079803          76.126088   \n",
       "84172              0.112698              0.079803          76.155722   \n",
       "\n",
       "       Feature 2 Missing  \n",
       "0               0.000000  \n",
       "1               0.000000  \n",
       "2               0.000000  \n",
       "3               0.000000  \n",
       "4               1.512683  \n",
       "...                  ...  \n",
       "84168          76.155722  \n",
       "84169          79.905510  \n",
       "84170          76.155722  \n",
       "84171          79.905510  \n",
       "84172          79.905510  \n",
       "\n",
       "[84173 rows x 8 columns]"
      ]
     },
     "execution_count": 36,
     "metadata": {},
     "output_type": "execute_result"
    }
   ],
   "source": [
    "features_corr"
   ]
  },
  {
   "cell_type": "code",
   "execution_count": null,
   "metadata": {},
   "outputs": [],
   "source": []
  },
  {
   "cell_type": "markdown",
   "metadata": {},
   "source": [
    "#### Result 1: Pick Combinations with correlations higher than 0.9"
   ]
  },
  {
   "cell_type": "code",
   "execution_count": 37,
   "metadata": {},
   "outputs": [],
   "source": [
    "features_corr_v90 = features_corr[features_corr['Abs_Correlation']>0.9].copy()"
   ]
  },
  {
   "cell_type": "code",
   "execution_count": 38,
   "metadata": {},
   "outputs": [],
   "source": [
    "def feature_to_go(df):\n",
    "    feat1_missing = df['Feature 1 Missing']\n",
    "    feat2_missing = df['Feature 2 Missing']\n",
    "    feat1 = df['Feature 1']\n",
    "    feat2 = df['Feature 2']      \n",
    "    if feat1_missing<feat2_missing:\n",
    "        return feat2\n",
    "    else:\n",
    "        return feat1"
   ]
  },
  {
   "cell_type": "code",
   "execution_count": 39,
   "metadata": {},
   "outputs": [],
   "source": [
    "features_corr_v90['Feature which goes'] = features_corr_v90.apply(feature_to_go, axis=1)"
   ]
  },
  {
   "cell_type": "code",
   "execution_count": 40,
   "metadata": {},
   "outputs": [],
   "source": [
    "intermediate_output_path = os.path.join(r'S:\\Semester 4\\Masters Thesis Report\\6. Analysis\\intermediate_output', 'features_corr_v90.csv')\n",
    "features_corr_v90.to_csv(intermediate_output_path, index=False)"
   ]
  },
  {
   "cell_type": "code",
   "execution_count": 41,
   "metadata": {},
   "outputs": [],
   "source": [
    "features_to_go = features_corr_v90['Feature which goes'].tolist()"
   ]
  },
  {
   "cell_type": "code",
   "execution_count": 42,
   "metadata": {},
   "outputs": [],
   "source": [
    "features_to_go = list(dict.fromkeys(features_to_go))"
   ]
  },
  {
   "cell_type": "code",
   "execution_count": 43,
   "metadata": {},
   "outputs": [
    {
     "data": {
      "text/plain": [
       "213"
      ]
     },
     "execution_count": 43,
     "metadata": {},
     "output_type": "execute_result"
    }
   ],
   "source": [
    "len(features_to_go)"
   ]
  },
  {
   "cell_type": "code",
   "execution_count": 44,
   "metadata": {},
   "outputs": [
    {
     "data": {
      "text/plain": [
       "213"
      ]
     },
     "execution_count": 44,
     "metadata": {},
     "output_type": "execute_result"
    }
   ],
   "source": [
    "len(features_to_go)"
   ]
  },
  {
   "cell_type": "code",
   "execution_count": 45,
   "metadata": {},
   "outputs": [],
   "source": [
    "pd.DataFrame(features_to_go).to_csv('features_to_go.csv',index=False)"
   ]
  },
  {
   "cell_type": "code",
   "execution_count": null,
   "metadata": {},
   "outputs": [],
   "source": []
  },
  {
   "cell_type": "markdown",
   "metadata": {},
   "source": [
    "##### Analysing the remaining features"
   ]
  },
  {
   "cell_type": "code",
   "execution_count": 46,
   "metadata": {},
   "outputs": [],
   "source": [
    "all_features = dataset.columns.tolist()"
   ]
  },
  {
   "cell_type": "code",
   "execution_count": 47,
   "metadata": {},
   "outputs": [],
   "source": [
    "features_to_stay = [x for x in all_features if x not in features_to_go]"
   ]
  },
  {
   "cell_type": "code",
   "execution_count": 48,
   "metadata": {},
   "outputs": [
    {
     "data": {
      "text/plain": [
       "221"
      ]
     },
     "execution_count": 48,
     "metadata": {},
     "output_type": "execute_result"
    }
   ],
   "source": [
    "len(features_to_stay)"
   ]
  },
  {
   "cell_type": "code",
   "execution_count": null,
   "metadata": {},
   "outputs": [],
   "source": []
  },
  {
   "cell_type": "markdown",
   "metadata": {},
   "source": [
    "#### Result 2: For the remaining features, analyse correlation coefficient with respect to the label for remaining features with >80% missing value"
   ]
  },
  {
   "cell_type": "code",
   "execution_count": 49,
   "metadata": {},
   "outputs": [],
   "source": [
    "features_to_stay_df = pd.DataFrame(features_to_stay, columns=['Features to stay'])"
   ]
  },
  {
   "cell_type": "code",
   "execution_count": 50,
   "metadata": {},
   "outputs": [
    {
     "data": {
      "text/html": [
       "<div>\n",
       "<style scoped>\n",
       "    .dataframe tbody tr th:only-of-type {\n",
       "        vertical-align: middle;\n",
       "    }\n",
       "\n",
       "    .dataframe tbody tr th {\n",
       "        vertical-align: top;\n",
       "    }\n",
       "\n",
       "    .dataframe thead th {\n",
       "        text-align: right;\n",
       "    }\n",
       "</style>\n",
       "<table border=\"1\" class=\"dataframe\">\n",
       "  <thead>\n",
       "    <tr style=\"text-align: right;\">\n",
       "      <th></th>\n",
       "      <th>Features to stay</th>\n",
       "    </tr>\n",
       "  </thead>\n",
       "  <tbody>\n",
       "    <tr>\n",
       "      <th>0</th>\n",
       "      <td>isFraud</td>\n",
       "    </tr>\n",
       "  </tbody>\n",
       "</table>\n",
       "</div>"
      ],
      "text/plain": [
       "  Features to stay\n",
       "0          isFraud"
      ]
     },
     "execution_count": 50,
     "metadata": {},
     "output_type": "execute_result"
    }
   ],
   "source": [
    "features_to_stay_df.head(1)"
   ]
  },
  {
   "cell_type": "code",
   "execution_count": 51,
   "metadata": {},
   "outputs": [],
   "source": [
    "features_to_stay_df.to_csv('features_to_stay.csv', index=False)"
   ]
  },
  {
   "cell_type": "code",
   "execution_count": 52,
   "metadata": {},
   "outputs": [],
   "source": [
    "### Get label_corr with missing values\n",
    "label_corr = label_corr.copy()\n",
    "label_corr = label_corr.merge(missing_perc_matrix,left_on=['Feature'], right_on=['col'], how='left')\n",
    "label_corr = label_corr.drop(columns=['col'])"
   ]
  },
  {
   "cell_type": "code",
   "execution_count": 53,
   "metadata": {},
   "outputs": [],
   "source": [
    "label_corr_2 = label_corr.merge(features_to_stay_df,left_on=['Feature'], right_on=['Features to stay'], how='left')"
   ]
  },
  {
   "cell_type": "code",
   "execution_count": 54,
   "metadata": {},
   "outputs": [],
   "source": [
    "### Remove features which have already been taken out in step 1\n",
    "label_corr_2 = label_corr_2[label_corr_2['Features to stay'].notna()]"
   ]
  },
  {
   "cell_type": "code",
   "execution_count": 55,
   "metadata": {},
   "outputs": [
    {
     "data": {
      "text/html": [
       "<div>\n",
       "<style scoped>\n",
       "    .dataframe tbody tr th:only-of-type {\n",
       "        vertical-align: middle;\n",
       "    }\n",
       "\n",
       "    .dataframe tbody tr th {\n",
       "        vertical-align: top;\n",
       "    }\n",
       "\n",
       "    .dataframe thead th {\n",
       "        text-align: right;\n",
       "    }\n",
       "</style>\n",
       "<table border=\"1\" class=\"dataframe\">\n",
       "  <thead>\n",
       "    <tr style=\"text-align: right;\">\n",
       "      <th></th>\n",
       "      <th>label_corr</th>\n",
       "      <th>label_abs_corr</th>\n",
       "      <th>Feature</th>\n",
       "      <th>missing_percent</th>\n",
       "      <th>Features to stay</th>\n",
       "    </tr>\n",
       "  </thead>\n",
       "  <tbody>\n",
       "    <tr>\n",
       "      <th>1</th>\n",
       "      <td>0.013103</td>\n",
       "      <td>0.013103</td>\n",
       "      <td>TransactionDT</td>\n",
       "      <td>0.000000</td>\n",
       "      <td>TransactionDT</td>\n",
       "    </tr>\n",
       "    <tr>\n",
       "      <th>2</th>\n",
       "      <td>0.011320</td>\n",
       "      <td>0.011320</td>\n",
       "      <td>TransactionAmt</td>\n",
       "      <td>0.000000</td>\n",
       "      <td>TransactionAmt</td>\n",
       "    </tr>\n",
       "    <tr>\n",
       "      <th>3</th>\n",
       "      <td>-0.156556</td>\n",
       "      <td>0.156556</td>\n",
       "      <td>ProductCD</td>\n",
       "      <td>0.000000</td>\n",
       "      <td>ProductCD</td>\n",
       "    </tr>\n",
       "    <tr>\n",
       "      <th>4</th>\n",
       "      <td>-0.013640</td>\n",
       "      <td>0.013640</td>\n",
       "      <td>card1</td>\n",
       "      <td>0.000000</td>\n",
       "      <td>card1</td>\n",
       "    </tr>\n",
       "    <tr>\n",
       "      <th>5</th>\n",
       "      <td>0.003388</td>\n",
       "      <td>0.003388</td>\n",
       "      <td>card2</td>\n",
       "      <td>1.512683</td>\n",
       "      <td>card2</td>\n",
       "    </tr>\n",
       "    <tr>\n",
       "      <th>...</th>\n",
       "      <td>...</td>\n",
       "      <td>...</td>\n",
       "      <td>...</td>\n",
       "      <td>...</td>\n",
       "      <td>...</td>\n",
       "    </tr>\n",
       "    <tr>\n",
       "      <th>419</th>\n",
       "      <td>-0.024301</td>\n",
       "      <td>0.024301</td>\n",
       "      <td>id_27</td>\n",
       "      <td>99.124699</td>\n",
       "      <td>id_27</td>\n",
       "    </tr>\n",
       "    <tr>\n",
       "      <th>422</th>\n",
       "      <td>-0.016034</td>\n",
       "      <td>0.016034</td>\n",
       "      <td>id_30</td>\n",
       "      <td>86.865411</td>\n",
       "      <td>id_30</td>\n",
       "    </tr>\n",
       "    <tr>\n",
       "      <th>425</th>\n",
       "      <td>-0.023000</td>\n",
       "      <td>0.023000</td>\n",
       "      <td>id_33</td>\n",
       "      <td>87.589494</td>\n",
       "      <td>id_33</td>\n",
       "    </tr>\n",
       "    <tr>\n",
       "      <th>426</th>\n",
       "      <td>-0.026284</td>\n",
       "      <td>0.026284</td>\n",
       "      <td>id_34</td>\n",
       "      <td>86.824771</td>\n",
       "      <td>id_34</td>\n",
       "    </tr>\n",
       "    <tr>\n",
       "      <th>432</th>\n",
       "      <td>-0.079803</td>\n",
       "      <td>0.079803</td>\n",
       "      <td>DeviceInfo</td>\n",
       "      <td>79.905510</td>\n",
       "      <td>DeviceInfo</td>\n",
       "    </tr>\n",
       "  </tbody>\n",
       "</table>\n",
       "<p>220 rows × 5 columns</p>\n",
       "</div>"
      ],
      "text/plain": [
       "     label_corr  label_abs_corr         Feature  missing_percent  \\\n",
       "1      0.013103        0.013103   TransactionDT         0.000000   \n",
       "2      0.011320        0.011320  TransactionAmt         0.000000   \n",
       "3     -0.156556        0.156556       ProductCD         0.000000   \n",
       "4     -0.013640        0.013640           card1         0.000000   \n",
       "5      0.003388        0.003388           card2         1.512683   \n",
       "..          ...             ...             ...              ...   \n",
       "419   -0.024301        0.024301           id_27        99.124699   \n",
       "422   -0.016034        0.016034           id_30        86.865411   \n",
       "425   -0.023000        0.023000           id_33        87.589494   \n",
       "426   -0.026284        0.026284           id_34        86.824771   \n",
       "432   -0.079803        0.079803      DeviceInfo        79.905510   \n",
       "\n",
       "    Features to stay  \n",
       "1      TransactionDT  \n",
       "2     TransactionAmt  \n",
       "3          ProductCD  \n",
       "4              card1  \n",
       "5              card2  \n",
       "..               ...  \n",
       "419            id_27  \n",
       "422            id_30  \n",
       "425            id_33  \n",
       "426            id_34  \n",
       "432       DeviceInfo  \n",
       "\n",
       "[220 rows x 5 columns]"
      ]
     },
     "execution_count": 55,
     "metadata": {},
     "output_type": "execute_result"
    }
   ],
   "source": [
    "label_corr_2"
   ]
  },
  {
   "cell_type": "code",
   "execution_count": 56,
   "metadata": {},
   "outputs": [],
   "source": [
    "label_corr_2.to_csv('label_corr.csv', index=False)"
   ]
  },
  {
   "cell_type": "code",
   "execution_count": null,
   "metadata": {},
   "outputs": [],
   "source": []
  },
  {
   "cell_type": "markdown",
   "metadata": {},
   "source": [
    "##### Analyse the features sets - refer to the thesis report for methodology"
   ]
  },
  {
   "cell_type": "code",
   "execution_count": 57,
   "metadata": {},
   "outputs": [],
   "source": [
    "def get_feature_sets(df):\n",
    "    initial_features = df['Feature'].tolist()\n",
    "    features_to_go = []\n",
    "    features_to_stay = []\n",
    "\n",
    "    feature_subset = pd.DataFrame() \n",
    "    while feature_subset.shape[0] != 1:\n",
    "        df.sort_values(by='label_abs_corr', ascending=True, inplace=True)\n",
    "        df['Cumulative ABS Corr'] = df['label_abs_corr'].cumsum()\n",
    "        feature_subset = df[df['Cumulative ABS Corr']<=0.3]\n",
    "        if feature_subset.shape[0]!=1:\n",
    "            for feature in feature_subset['Feature'].tolist():\n",
    "                features_to_go.append(feature)\n",
    "        df  = df[df['Cumulative ABS Corr']>0.3].copy()\n",
    "\n",
    "    features_to_stay = [x for x in initial_features if x not in features_to_go]\n",
    "    return features_to_go, features_to_stay"
   ]
  },
  {
   "cell_type": "code",
   "execution_count": 58,
   "metadata": {},
   "outputs": [],
   "source": [
    "label_corr_U80 = label_corr_2[label_corr_2['missing_percent']>80].copy()"
   ]
  },
  {
   "cell_type": "code",
   "execution_count": 59,
   "metadata": {},
   "outputs": [],
   "source": [
    "features_to_go2, features_to_stay2 = get_feature_sets(label_corr_U80)"
   ]
  },
  {
   "cell_type": "code",
   "execution_count": 60,
   "metadata": {},
   "outputs": [
    {
     "data": {
      "text/plain": [
       "['id_24',\n",
       " 'D14',\n",
       " 'id_10',\n",
       " 'V339',\n",
       " 'id_30',\n",
       " 'dist2',\n",
       " 'id_33',\n",
       " 'id_27',\n",
       " 'id_34',\n",
       " 'id_23',\n",
       " 'id_09',\n",
       " 'V166',\n",
       " 'id_25',\n",
       " 'id_03',\n",
       " 'V138',\n",
       " 'D9',\n",
       " 'V163',\n",
       " 'id_18',\n",
       " 'V165',\n",
       " 'id_14',\n",
       " 'id_08',\n",
       " 'V152',\n",
       " 'D13',\n",
       " 'id_04',\n",
       " 'V160',\n",
       " 'V159',\n",
       " 'id_21',\n",
       " 'V142',\n",
       " 'id_07',\n",
       " 'V141',\n",
       " 'id_26',\n",
       " 'id_22',\n",
       " 'D8']"
      ]
     },
     "execution_count": 60,
     "metadata": {},
     "output_type": "execute_result"
    }
   ],
   "source": [
    "features_to_go2"
   ]
  },
  {
   "cell_type": "code",
   "execution_count": 61,
   "metadata": {},
   "outputs": [
    {
     "data": {
      "text/plain": [
       "['V140', 'V147', 'V158']"
      ]
     },
     "execution_count": 61,
     "metadata": {},
     "output_type": "execute_result"
    }
   ],
   "source": [
    "features_to_stay2"
   ]
  },
  {
   "cell_type": "code",
   "execution_count": null,
   "metadata": {},
   "outputs": [],
   "source": []
  },
  {
   "cell_type": "markdown",
   "metadata": {},
   "source": [
    "#### Dataset with the remaining set of features after step 1"
   ]
  },
  {
   "cell_type": "code",
   "execution_count": 62,
   "metadata": {},
   "outputs": [],
   "source": [
    "final_features_to_stay = [x for x in features_to_stay if x not in features_to_go2]\n",
    "final_features_to_stay += ['TransactionID']"
   ]
  },
  {
   "cell_type": "code",
   "execution_count": 63,
   "metadata": {},
   "outputs": [
    {
     "data": {
      "text/plain": [
       "189"
      ]
     },
     "execution_count": 63,
     "metadata": {},
     "output_type": "execute_result"
    }
   ],
   "source": [
    "len(final_features_to_stay)"
   ]
  },
  {
   "cell_type": "code",
   "execution_count": 64,
   "metadata": {},
   "outputs": [],
   "source": [
    "intermediate_output_path = os.path.join(r'S:\\Semester 4\\Masters Thesis Report\\6. Analysis\\intermediate_output', 'final_features_to_stay.csv')\n",
    "pd.DataFrame(final_features_to_stay, columns=[\"features_to_stay\"]).to_csv(intermediate_output_path, index=False)"
   ]
  },
  {
   "cell_type": "code",
   "execution_count": null,
   "metadata": {},
   "outputs": [],
   "source": []
  },
  {
   "cell_type": "code",
   "execution_count": null,
   "metadata": {},
   "outputs": [],
   "source": []
  },
  {
   "cell_type": "code",
   "execution_count": null,
   "metadata": {},
   "outputs": [],
   "source": []
  }
 ],
 "metadata": {
  "colab": {
   "authorship_tag": "ABX9TyOihYlX/ooG5h+qw0sLIjn8",
   "collapsed_sections": [],
   "provenance": []
  },
  "kernelspec": {
   "display_name": "Python 3 (ipykernel)",
   "language": "python",
   "name": "python3"
  },
  "language_info": {
   "codemirror_mode": {
    "name": "ipython",
    "version": 3
   },
   "file_extension": ".py",
   "mimetype": "text/x-python",
   "name": "python",
   "nbconvert_exporter": "python",
   "pygments_lexer": "ipython3",
   "version": "3.12.7"
  }
 },
 "nbformat": 4,
 "nbformat_minor": 4
}
