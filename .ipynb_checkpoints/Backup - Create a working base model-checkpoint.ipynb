{
 "cells": [
  {
   "cell_type": "markdown",
   "metadata": {
    "id": "37puETfgRzzg"
   },
   "source": [
    "## MMTHE01 - Masters Thesis"
   ]
  },
  {
   "cell_type": "markdown",
   "metadata": {},
   "source": [
    "### 1. Thesis - Create a working model\n",
    "* Feature engineering and feature selection procedures will be done\n",
    "* A base model will be created\n",
    "* Several models will be tried and a good model selected\n",
    "* All assumptions made in this step will be documented"
   ]
  },
  {
   "cell_type": "markdown",
   "metadata": {
    "id": "EoRP98MpR-qj"
   },
   "source": [
    "#### Importing the libraries"
   ]
  },
  {
   "cell_type": "code",
   "execution_count": 1,
   "metadata": {
    "id": "N-qiINBQSK2g"
   },
   "outputs": [],
   "source": [
    "import numpy as np\n",
    "import matplotlib.pyplot as plt\n",
    "import pandas as pd"
   ]
  },
  {
   "cell_type": "markdown",
   "metadata": {
    "id": "RopL7tUZSQkT"
   },
   "source": [
    "#### Importing the dataset"
   ]
  },
  {
   "cell_type": "code",
   "execution_count": 2,
   "metadata": {
    "id": "WwEPNDWySTKm"
   },
   "outputs": [],
   "source": [
    "train_dataset = pd.read_csv('fraudTrain.csv')\n",
    "test_dataset = pd.read_csv('fraudTest.csv')\n",
    "dataset = pd.concat([train_dataset, test_dataset])"
   ]
  },
  {
   "cell_type": "code",
   "execution_count": 3,
   "metadata": {},
   "outputs": [
    {
     "data": {
      "text/html": [
       "<div>\n",
       "<style scoped>\n",
       "    .dataframe tbody tr th:only-of-type {\n",
       "        vertical-align: middle;\n",
       "    }\n",
       "\n",
       "    .dataframe tbody tr th {\n",
       "        vertical-align: top;\n",
       "    }\n",
       "\n",
       "    .dataframe thead th {\n",
       "        text-align: right;\n",
       "    }\n",
       "</style>\n",
       "<table border=\"1\" class=\"dataframe\">\n",
       "  <thead>\n",
       "    <tr style=\"text-align: right;\">\n",
       "      <th></th>\n",
       "      <th>Unnamed: 0</th>\n",
       "      <th>trans_date_trans_time</th>\n",
       "      <th>cc_num</th>\n",
       "      <th>merchant</th>\n",
       "      <th>category</th>\n",
       "      <th>amt</th>\n",
       "      <th>first</th>\n",
       "      <th>last</th>\n",
       "      <th>gender</th>\n",
       "      <th>street</th>\n",
       "      <th>...</th>\n",
       "      <th>lat</th>\n",
       "      <th>long</th>\n",
       "      <th>city_pop</th>\n",
       "      <th>job</th>\n",
       "      <th>dob</th>\n",
       "      <th>trans_num</th>\n",
       "      <th>unix_time</th>\n",
       "      <th>merch_lat</th>\n",
       "      <th>merch_long</th>\n",
       "      <th>is_fraud</th>\n",
       "    </tr>\n",
       "  </thead>\n",
       "  <tbody>\n",
       "    <tr>\n",
       "      <th>0</th>\n",
       "      <td>0</td>\n",
       "      <td>2019-01-01 00:00:18</td>\n",
       "      <td>2703186189652095</td>\n",
       "      <td>fraud_Rippin, Kub and Mann</td>\n",
       "      <td>misc_net</td>\n",
       "      <td>4.97</td>\n",
       "      <td>Jennifer</td>\n",
       "      <td>Banks</td>\n",
       "      <td>F</td>\n",
       "      <td>561 Perry Cove</td>\n",
       "      <td>...</td>\n",
       "      <td>36.0788</td>\n",
       "      <td>-81.1781</td>\n",
       "      <td>3495</td>\n",
       "      <td>Psychologist, counselling</td>\n",
       "      <td>1988-03-09</td>\n",
       "      <td>0b242abb623afc578575680df30655b9</td>\n",
       "      <td>1325376018</td>\n",
       "      <td>36.011293</td>\n",
       "      <td>-82.048315</td>\n",
       "      <td>0</td>\n",
       "    </tr>\n",
       "  </tbody>\n",
       "</table>\n",
       "<p>1 rows × 23 columns</p>\n",
       "</div>"
      ],
      "text/plain": [
       "   Unnamed: 0 trans_date_trans_time            cc_num  \\\n",
       "0           0   2019-01-01 00:00:18  2703186189652095   \n",
       "\n",
       "                     merchant  category   amt     first   last gender  \\\n",
       "0  fraud_Rippin, Kub and Mann  misc_net  4.97  Jennifer  Banks      F   \n",
       "\n",
       "           street  ...      lat     long  city_pop                        job  \\\n",
       "0  561 Perry Cove  ...  36.0788 -81.1781      3495  Psychologist, counselling   \n",
       "\n",
       "          dob                         trans_num   unix_time  merch_lat  \\\n",
       "0  1988-03-09  0b242abb623afc578575680df30655b9  1325376018  36.011293   \n",
       "\n",
       "  merch_long  is_fraud  \n",
       "0 -82.048315         0  \n",
       "\n",
       "[1 rows x 23 columns]"
      ]
     },
     "execution_count": 3,
     "metadata": {},
     "output_type": "execute_result"
    }
   ],
   "source": [
    "dataset.head(1)"
   ]
  },
  {
   "cell_type": "code",
   "execution_count": 4,
   "metadata": {},
   "outputs": [],
   "source": [
    "dataset = dataset.drop('Unnamed: 0', axis=1)"
   ]
  },
  {
   "cell_type": "code",
   "execution_count": 5,
   "metadata": {},
   "outputs": [],
   "source": [
    "X = train_dataset.iloc[:, :-1].values\n",
    "y = train_dataset.iloc[:, -1].values"
   ]
  },
  {
   "cell_type": "code",
   "execution_count": 6,
   "metadata": {},
   "outputs": [
    {
     "name": "stdout",
     "output_type": "stream",
     "text": [
      "[[0 '2019-01-01 00:00:18' 2703186189652095 ... 1325376018 36.011293\n",
      "  -82.048315]\n",
      " [1 '2019-01-01 00:00:44' 630423337322 ... 1325376044 49.159047\n",
      "  -118.186462]\n",
      " [2 '2019-01-01 00:00:51' 38859492057661 ... 1325376051 43.150704\n",
      "  -112.154481]\n",
      " ...\n",
      " [1296672 '2020-06-21 12:12:32' 3514865930894695 ... 1371816752 33.619513\n",
      "  -105.130529]\n",
      " [1296673 '2020-06-21 12:13:36' 2720012583106919 ... 1371816816 42.78894\n",
      "  -103.24116]\n",
      " [1296674 '2020-06-21 12:13:37' 4292902571056973207 ... 1371816817\n",
      "  46.565983 -114.18611]]\n"
     ]
    }
   ],
   "source": [
    "print(X)"
   ]
  },
  {
   "cell_type": "code",
   "execution_count": 7,
   "metadata": {},
   "outputs": [
    {
     "name": "stdout",
     "output_type": "stream",
     "text": [
      "[0 0 0 ... 0 0 0]\n"
     ]
    }
   ],
   "source": [
    "print(y)"
   ]
  },
  {
   "cell_type": "code",
   "execution_count": 8,
   "metadata": {},
   "outputs": [
    {
     "name": "stdout",
     "output_type": "stream",
     "text": [
      "<class 'pandas.core.frame.DataFrame'>\n",
      "Index: 1852394 entries, 0 to 555718\n",
      "Data columns (total 22 columns):\n",
      " #   Column                 Dtype  \n",
      "---  ------                 -----  \n",
      " 0   trans_date_trans_time  object \n",
      " 1   cc_num                 int64  \n",
      " 2   merchant               object \n",
      " 3   category               object \n",
      " 4   amt                    float64\n",
      " 5   first                  object \n",
      " 6   last                   object \n",
      " 7   gender                 object \n",
      " 8   street                 object \n",
      " 9   city                   object \n",
      " 10  state                  object \n",
      " 11  zip                    int64  \n",
      " 12  lat                    float64\n",
      " 13  long                   float64\n",
      " 14  city_pop               int64  \n",
      " 15  job                    object \n",
      " 16  dob                    object \n",
      " 17  trans_num              object \n",
      " 18  unix_time              int64  \n",
      " 19  merch_lat              float64\n",
      " 20  merch_long             float64\n",
      " 21  is_fraud               int64  \n",
      "dtypes: float64(5), int64(5), object(12)\n",
      "memory usage: 325.1+ MB\n"
     ]
    }
   ],
   "source": [
    "dataset.info()"
   ]
  },
  {
   "cell_type": "code",
   "execution_count": null,
   "metadata": {},
   "outputs": [],
   "source": []
  },
  {
   "cell_type": "markdown",
   "metadata": {
    "id": "nhfKXNxlSabC"
   },
   "source": [
    "#### Taking care of missing data"
   ]
  },
  {
   "cell_type": "code",
   "execution_count": 9,
   "metadata": {},
   "outputs": [
    {
     "name": "stdout",
     "output_type": "stream",
     "text": [
      "trans_date_trans_time    0\n",
      "cc_num                   0\n",
      "merchant                 0\n",
      "category                 0\n",
      "amt                      0\n",
      "first                    0\n",
      "last                     0\n",
      "gender                   0\n",
      "street                   0\n",
      "city                     0\n",
      "state                    0\n",
      "zip                      0\n",
      "lat                      0\n",
      "long                     0\n",
      "city_pop                 0\n",
      "job                      0\n",
      "dob                      0\n",
      "trans_num                0\n",
      "unix_time                0\n",
      "merch_lat                0\n",
      "merch_long               0\n",
      "is_fraud                 0\n",
      "dtype: int64\n"
     ]
    }
   ],
   "source": [
    "# Print the number of missing entries in each column\n",
    "print(dataset.isna().sum())"
   ]
  },
  {
   "cell_type": "code",
   "execution_count": 10,
   "metadata": {},
   "outputs": [],
   "source": [
    "#dataset.head().to_excel('data_check.xlsx')"
   ]
  },
  {
   "cell_type": "code",
   "execution_count": null,
   "metadata": {},
   "outputs": [],
   "source": []
  },
  {
   "cell_type": "markdown",
   "metadata": {},
   "source": [
    "#### Preliminary data analysis"
   ]
  },
  {
   "cell_type": "code",
   "execution_count": 11,
   "metadata": {},
   "outputs": [
    {
     "data": {
      "text/html": [
       "<div>\n",
       "<style scoped>\n",
       "    .dataframe tbody tr th:only-of-type {\n",
       "        vertical-align: middle;\n",
       "    }\n",
       "\n",
       "    .dataframe tbody tr th {\n",
       "        vertical-align: top;\n",
       "    }\n",
       "\n",
       "    .dataframe thead th {\n",
       "        text-align: right;\n",
       "    }\n",
       "</style>\n",
       "<table border=\"1\" class=\"dataframe\">\n",
       "  <thead>\n",
       "    <tr style=\"text-align: right;\">\n",
       "      <th></th>\n",
       "      <th>trans_date_trans_time</th>\n",
       "      <th>cc_num</th>\n",
       "      <th>category</th>\n",
       "      <th>amt</th>\n",
       "      <th>first</th>\n",
       "      <th>last</th>\n",
       "      <th>gender</th>\n",
       "      <th>street</th>\n",
       "      <th>city</th>\n",
       "      <th>state</th>\n",
       "      <th>...</th>\n",
       "      <th>lat</th>\n",
       "      <th>long</th>\n",
       "      <th>city_pop</th>\n",
       "      <th>job</th>\n",
       "      <th>dob</th>\n",
       "      <th>trans_num</th>\n",
       "      <th>unix_time</th>\n",
       "      <th>merch_lat</th>\n",
       "      <th>merch_long</th>\n",
       "      <th>is_fraud</th>\n",
       "    </tr>\n",
       "    <tr>\n",
       "      <th>merchant</th>\n",
       "      <th></th>\n",
       "      <th></th>\n",
       "      <th></th>\n",
       "      <th></th>\n",
       "      <th></th>\n",
       "      <th></th>\n",
       "      <th></th>\n",
       "      <th></th>\n",
       "      <th></th>\n",
       "      <th></th>\n",
       "      <th></th>\n",
       "      <th></th>\n",
       "      <th></th>\n",
       "      <th></th>\n",
       "      <th></th>\n",
       "      <th></th>\n",
       "      <th></th>\n",
       "      <th></th>\n",
       "      <th></th>\n",
       "      <th></th>\n",
       "      <th></th>\n",
       "    </tr>\n",
       "  </thead>\n",
       "  <tbody>\n",
       "    <tr>\n",
       "      <th>fraud_Abbott-Rogahn</th>\n",
       "      <td>2647</td>\n",
       "      <td>2647</td>\n",
       "      <td>2647</td>\n",
       "      <td>2647</td>\n",
       "      <td>2647</td>\n",
       "      <td>2647</td>\n",
       "      <td>2647</td>\n",
       "      <td>2647</td>\n",
       "      <td>2647</td>\n",
       "      <td>2647</td>\n",
       "      <td>...</td>\n",
       "      <td>2647</td>\n",
       "      <td>2647</td>\n",
       "      <td>2647</td>\n",
       "      <td>2647</td>\n",
       "      <td>2647</td>\n",
       "      <td>2647</td>\n",
       "      <td>2647</td>\n",
       "      <td>2647</td>\n",
       "      <td>2647</td>\n",
       "      <td>2647</td>\n",
       "    </tr>\n",
       "    <tr>\n",
       "      <th>fraud_Abbott-Steuber</th>\n",
       "      <td>2529</td>\n",
       "      <td>2529</td>\n",
       "      <td>2529</td>\n",
       "      <td>2529</td>\n",
       "      <td>2529</td>\n",
       "      <td>2529</td>\n",
       "      <td>2529</td>\n",
       "      <td>2529</td>\n",
       "      <td>2529</td>\n",
       "      <td>2529</td>\n",
       "      <td>...</td>\n",
       "      <td>2529</td>\n",
       "      <td>2529</td>\n",
       "      <td>2529</td>\n",
       "      <td>2529</td>\n",
       "      <td>2529</td>\n",
       "      <td>2529</td>\n",
       "      <td>2529</td>\n",
       "      <td>2529</td>\n",
       "      <td>2529</td>\n",
       "      <td>2529</td>\n",
       "    </tr>\n",
       "    <tr>\n",
       "      <th>fraud_Abernathy and Sons</th>\n",
       "      <td>2513</td>\n",
       "      <td>2513</td>\n",
       "      <td>2513</td>\n",
       "      <td>2513</td>\n",
       "      <td>2513</td>\n",
       "      <td>2513</td>\n",
       "      <td>2513</td>\n",
       "      <td>2513</td>\n",
       "      <td>2513</td>\n",
       "      <td>2513</td>\n",
       "      <td>...</td>\n",
       "      <td>2513</td>\n",
       "      <td>2513</td>\n",
       "      <td>2513</td>\n",
       "      <td>2513</td>\n",
       "      <td>2513</td>\n",
       "      <td>2513</td>\n",
       "      <td>2513</td>\n",
       "      <td>2513</td>\n",
       "      <td>2513</td>\n",
       "      <td>2513</td>\n",
       "    </tr>\n",
       "    <tr>\n",
       "      <th>fraud_Abshire PLC</th>\n",
       "      <td>2733</td>\n",
       "      <td>2733</td>\n",
       "      <td>2733</td>\n",
       "      <td>2733</td>\n",
       "      <td>2733</td>\n",
       "      <td>2733</td>\n",
       "      <td>2733</td>\n",
       "      <td>2733</td>\n",
       "      <td>2733</td>\n",
       "      <td>2733</td>\n",
       "      <td>...</td>\n",
       "      <td>2733</td>\n",
       "      <td>2733</td>\n",
       "      <td>2733</td>\n",
       "      <td>2733</td>\n",
       "      <td>2733</td>\n",
       "      <td>2733</td>\n",
       "      <td>2733</td>\n",
       "      <td>2733</td>\n",
       "      <td>2733</td>\n",
       "      <td>2733</td>\n",
       "    </tr>\n",
       "    <tr>\n",
       "      <th>fraud_Adams, Kovacek and Kuhlman</th>\n",
       "      <td>1354</td>\n",
       "      <td>1354</td>\n",
       "      <td>1354</td>\n",
       "      <td>1354</td>\n",
       "      <td>1354</td>\n",
       "      <td>1354</td>\n",
       "      <td>1354</td>\n",
       "      <td>1354</td>\n",
       "      <td>1354</td>\n",
       "      <td>1354</td>\n",
       "      <td>...</td>\n",
       "      <td>1354</td>\n",
       "      <td>1354</td>\n",
       "      <td>1354</td>\n",
       "      <td>1354</td>\n",
       "      <td>1354</td>\n",
       "      <td>1354</td>\n",
       "      <td>1354</td>\n",
       "      <td>1354</td>\n",
       "      <td>1354</td>\n",
       "      <td>1354</td>\n",
       "    </tr>\n",
       "    <tr>\n",
       "      <th>...</th>\n",
       "      <td>...</td>\n",
       "      <td>...</td>\n",
       "      <td>...</td>\n",
       "      <td>...</td>\n",
       "      <td>...</td>\n",
       "      <td>...</td>\n",
       "      <td>...</td>\n",
       "      <td>...</td>\n",
       "      <td>...</td>\n",
       "      <td>...</td>\n",
       "      <td>...</td>\n",
       "      <td>...</td>\n",
       "      <td>...</td>\n",
       "      <td>...</td>\n",
       "      <td>...</td>\n",
       "      <td>...</td>\n",
       "      <td>...</td>\n",
       "      <td>...</td>\n",
       "      <td>...</td>\n",
       "      <td>...</td>\n",
       "      <td>...</td>\n",
       "    </tr>\n",
       "    <tr>\n",
       "      <th>fraud_Zemlak Group</th>\n",
       "      <td>1888</td>\n",
       "      <td>1888</td>\n",
       "      <td>1888</td>\n",
       "      <td>1888</td>\n",
       "      <td>1888</td>\n",
       "      <td>1888</td>\n",
       "      <td>1888</td>\n",
       "      <td>1888</td>\n",
       "      <td>1888</td>\n",
       "      <td>1888</td>\n",
       "      <td>...</td>\n",
       "      <td>1888</td>\n",
       "      <td>1888</td>\n",
       "      <td>1888</td>\n",
       "      <td>1888</td>\n",
       "      <td>1888</td>\n",
       "      <td>1888</td>\n",
       "      <td>1888</td>\n",
       "      <td>1888</td>\n",
       "      <td>1888</td>\n",
       "      <td>1888</td>\n",
       "    </tr>\n",
       "    <tr>\n",
       "      <th>fraud_Zemlak, Tillman and Cremin</th>\n",
       "      <td>2538</td>\n",
       "      <td>2538</td>\n",
       "      <td>2538</td>\n",
       "      <td>2538</td>\n",
       "      <td>2538</td>\n",
       "      <td>2538</td>\n",
       "      <td>2538</td>\n",
       "      <td>2538</td>\n",
       "      <td>2538</td>\n",
       "      <td>2538</td>\n",
       "      <td>...</td>\n",
       "      <td>2538</td>\n",
       "      <td>2538</td>\n",
       "      <td>2538</td>\n",
       "      <td>2538</td>\n",
       "      <td>2538</td>\n",
       "      <td>2538</td>\n",
       "      <td>2538</td>\n",
       "      <td>2538</td>\n",
       "      <td>2538</td>\n",
       "      <td>2538</td>\n",
       "    </tr>\n",
       "    <tr>\n",
       "      <th>fraud_Ziemann-Waters</th>\n",
       "      <td>2438</td>\n",
       "      <td>2438</td>\n",
       "      <td>2438</td>\n",
       "      <td>2438</td>\n",
       "      <td>2438</td>\n",
       "      <td>2438</td>\n",
       "      <td>2438</td>\n",
       "      <td>2438</td>\n",
       "      <td>2438</td>\n",
       "      <td>2438</td>\n",
       "      <td>...</td>\n",
       "      <td>2438</td>\n",
       "      <td>2438</td>\n",
       "      <td>2438</td>\n",
       "      <td>2438</td>\n",
       "      <td>2438</td>\n",
       "      <td>2438</td>\n",
       "      <td>2438</td>\n",
       "      <td>2438</td>\n",
       "      <td>2438</td>\n",
       "      <td>2438</td>\n",
       "    </tr>\n",
       "    <tr>\n",
       "      <th>fraud_Zieme, Bode and Dooley</th>\n",
       "      <td>3720</td>\n",
       "      <td>3720</td>\n",
       "      <td>3720</td>\n",
       "      <td>3720</td>\n",
       "      <td>3720</td>\n",
       "      <td>3720</td>\n",
       "      <td>3720</td>\n",
       "      <td>3720</td>\n",
       "      <td>3720</td>\n",
       "      <td>3720</td>\n",
       "      <td>...</td>\n",
       "      <td>3720</td>\n",
       "      <td>3720</td>\n",
       "      <td>3720</td>\n",
       "      <td>3720</td>\n",
       "      <td>3720</td>\n",
       "      <td>3720</td>\n",
       "      <td>3720</td>\n",
       "      <td>3720</td>\n",
       "      <td>3720</td>\n",
       "      <td>3720</td>\n",
       "    </tr>\n",
       "    <tr>\n",
       "      <th>fraud_Zulauf LLC</th>\n",
       "      <td>2605</td>\n",
       "      <td>2605</td>\n",
       "      <td>2605</td>\n",
       "      <td>2605</td>\n",
       "      <td>2605</td>\n",
       "      <td>2605</td>\n",
       "      <td>2605</td>\n",
       "      <td>2605</td>\n",
       "      <td>2605</td>\n",
       "      <td>2605</td>\n",
       "      <td>...</td>\n",
       "      <td>2605</td>\n",
       "      <td>2605</td>\n",
       "      <td>2605</td>\n",
       "      <td>2605</td>\n",
       "      <td>2605</td>\n",
       "      <td>2605</td>\n",
       "      <td>2605</td>\n",
       "      <td>2605</td>\n",
       "      <td>2605</td>\n",
       "      <td>2605</td>\n",
       "    </tr>\n",
       "  </tbody>\n",
       "</table>\n",
       "<p>693 rows × 21 columns</p>\n",
       "</div>"
      ],
      "text/plain": [
       "                                  trans_date_trans_time  cc_num  category  \\\n",
       "merchant                                                                    \n",
       "fraud_Abbott-Rogahn                                2647    2647      2647   \n",
       "fraud_Abbott-Steuber                               2529    2529      2529   \n",
       "fraud_Abernathy and Sons                           2513    2513      2513   \n",
       "fraud_Abshire PLC                                  2733    2733      2733   \n",
       "fraud_Adams, Kovacek and Kuhlman                   1354    1354      1354   \n",
       "...                                                 ...     ...       ...   \n",
       "fraud_Zemlak Group                                 1888    1888      1888   \n",
       "fraud_Zemlak, Tillman and Cremin                   2538    2538      2538   \n",
       "fraud_Ziemann-Waters                               2438    2438      2438   \n",
       "fraud_Zieme, Bode and Dooley                       3720    3720      3720   \n",
       "fraud_Zulauf LLC                                   2605    2605      2605   \n",
       "\n",
       "                                   amt  first  last  gender  street  city  \\\n",
       "merchant                                                                    \n",
       "fraud_Abbott-Rogahn               2647   2647  2647    2647    2647  2647   \n",
       "fraud_Abbott-Steuber              2529   2529  2529    2529    2529  2529   \n",
       "fraud_Abernathy and Sons          2513   2513  2513    2513    2513  2513   \n",
       "fraud_Abshire PLC                 2733   2733  2733    2733    2733  2733   \n",
       "fraud_Adams, Kovacek and Kuhlman  1354   1354  1354    1354    1354  1354   \n",
       "...                                ...    ...   ...     ...     ...   ...   \n",
       "fraud_Zemlak Group                1888   1888  1888    1888    1888  1888   \n",
       "fraud_Zemlak, Tillman and Cremin  2538   2538  2538    2538    2538  2538   \n",
       "fraud_Ziemann-Waters              2438   2438  2438    2438    2438  2438   \n",
       "fraud_Zieme, Bode and Dooley      3720   3720  3720    3720    3720  3720   \n",
       "fraud_Zulauf LLC                  2605   2605  2605    2605    2605  2605   \n",
       "\n",
       "                                  state  ...   lat  long  city_pop   job  \\\n",
       "merchant                                 ...                               \n",
       "fraud_Abbott-Rogahn                2647  ...  2647  2647      2647  2647   \n",
       "fraud_Abbott-Steuber               2529  ...  2529  2529      2529  2529   \n",
       "fraud_Abernathy and Sons           2513  ...  2513  2513      2513  2513   \n",
       "fraud_Abshire PLC                  2733  ...  2733  2733      2733  2733   \n",
       "fraud_Adams, Kovacek and Kuhlman   1354  ...  1354  1354      1354  1354   \n",
       "...                                 ...  ...   ...   ...       ...   ...   \n",
       "fraud_Zemlak Group                 1888  ...  1888  1888      1888  1888   \n",
       "fraud_Zemlak, Tillman and Cremin   2538  ...  2538  2538      2538  2538   \n",
       "fraud_Ziemann-Waters               2438  ...  2438  2438      2438  2438   \n",
       "fraud_Zieme, Bode and Dooley       3720  ...  3720  3720      3720  3720   \n",
       "fraud_Zulauf LLC                   2605  ...  2605  2605      2605  2605   \n",
       "\n",
       "                                   dob  trans_num  unix_time  merch_lat  \\\n",
       "merchant                                                                  \n",
       "fraud_Abbott-Rogahn               2647       2647       2647       2647   \n",
       "fraud_Abbott-Steuber              2529       2529       2529       2529   \n",
       "fraud_Abernathy and Sons          2513       2513       2513       2513   \n",
       "fraud_Abshire PLC                 2733       2733       2733       2733   \n",
       "fraud_Adams, Kovacek and Kuhlman  1354       1354       1354       1354   \n",
       "...                                ...        ...        ...        ...   \n",
       "fraud_Zemlak Group                1888       1888       1888       1888   \n",
       "fraud_Zemlak, Tillman and Cremin  2538       2538       2538       2538   \n",
       "fraud_Ziemann-Waters              2438       2438       2438       2438   \n",
       "fraud_Zieme, Bode and Dooley      3720       3720       3720       3720   \n",
       "fraud_Zulauf LLC                  2605       2605       2605       2605   \n",
       "\n",
       "                                  merch_long  is_fraud  \n",
       "merchant                                                \n",
       "fraud_Abbott-Rogahn                     2647      2647  \n",
       "fraud_Abbott-Steuber                    2529      2529  \n",
       "fraud_Abernathy and Sons                2513      2513  \n",
       "fraud_Abshire PLC                       2733      2733  \n",
       "fraud_Adams, Kovacek and Kuhlman        1354      1354  \n",
       "...                                      ...       ...  \n",
       "fraud_Zemlak Group                      1888      1888  \n",
       "fraud_Zemlak, Tillman and Cremin        2538      2538  \n",
       "fraud_Ziemann-Waters                    2438      2438  \n",
       "fraud_Zieme, Bode and Dooley            3720      3720  \n",
       "fraud_Zulauf LLC                        2605      2605  \n",
       "\n",
       "[693 rows x 21 columns]"
      ]
     },
     "execution_count": 11,
     "metadata": {},
     "output_type": "execute_result"
    }
   ],
   "source": [
    "dataset.groupby('merchant').count()"
   ]
  },
  {
   "cell_type": "code",
   "execution_count": 12,
   "metadata": {},
   "outputs": [
    {
     "data": {
      "text/html": [
       "<div>\n",
       "<style scoped>\n",
       "    .dataframe tbody tr th:only-of-type {\n",
       "        vertical-align: middle;\n",
       "    }\n",
       "\n",
       "    .dataframe tbody tr th {\n",
       "        vertical-align: top;\n",
       "    }\n",
       "\n",
       "    .dataframe thead th {\n",
       "        text-align: right;\n",
       "    }\n",
       "</style>\n",
       "<table border=\"1\" class=\"dataframe\">\n",
       "  <thead>\n",
       "    <tr style=\"text-align: right;\">\n",
       "      <th></th>\n",
       "      <th>trans_date_trans_time</th>\n",
       "      <th>cc_num</th>\n",
       "      <th>merchant</th>\n",
       "      <th>amt</th>\n",
       "      <th>first</th>\n",
       "      <th>last</th>\n",
       "      <th>gender</th>\n",
       "      <th>street</th>\n",
       "      <th>city</th>\n",
       "      <th>state</th>\n",
       "      <th>...</th>\n",
       "      <th>lat</th>\n",
       "      <th>long</th>\n",
       "      <th>city_pop</th>\n",
       "      <th>job</th>\n",
       "      <th>dob</th>\n",
       "      <th>trans_num</th>\n",
       "      <th>unix_time</th>\n",
       "      <th>merch_lat</th>\n",
       "      <th>merch_long</th>\n",
       "      <th>is_fraud</th>\n",
       "    </tr>\n",
       "    <tr>\n",
       "      <th>category</th>\n",
       "      <th></th>\n",
       "      <th></th>\n",
       "      <th></th>\n",
       "      <th></th>\n",
       "      <th></th>\n",
       "      <th></th>\n",
       "      <th></th>\n",
       "      <th></th>\n",
       "      <th></th>\n",
       "      <th></th>\n",
       "      <th></th>\n",
       "      <th></th>\n",
       "      <th></th>\n",
       "      <th></th>\n",
       "      <th></th>\n",
       "      <th></th>\n",
       "      <th></th>\n",
       "      <th></th>\n",
       "      <th></th>\n",
       "      <th></th>\n",
       "      <th></th>\n",
       "    </tr>\n",
       "  </thead>\n",
       "  <tbody>\n",
       "    <tr>\n",
       "      <th>entertainment</th>\n",
       "      <td>134118</td>\n",
       "      <td>134118</td>\n",
       "      <td>134118</td>\n",
       "      <td>134118</td>\n",
       "      <td>134118</td>\n",
       "      <td>134118</td>\n",
       "      <td>134118</td>\n",
       "      <td>134118</td>\n",
       "      <td>134118</td>\n",
       "      <td>134118</td>\n",
       "      <td>...</td>\n",
       "      <td>134118</td>\n",
       "      <td>134118</td>\n",
       "      <td>134118</td>\n",
       "      <td>134118</td>\n",
       "      <td>134118</td>\n",
       "      <td>134118</td>\n",
       "      <td>134118</td>\n",
       "      <td>134118</td>\n",
       "      <td>134118</td>\n",
       "      <td>134118</td>\n",
       "    </tr>\n",
       "    <tr>\n",
       "      <th>food_dining</th>\n",
       "      <td>130729</td>\n",
       "      <td>130729</td>\n",
       "      <td>130729</td>\n",
       "      <td>130729</td>\n",
       "      <td>130729</td>\n",
       "      <td>130729</td>\n",
       "      <td>130729</td>\n",
       "      <td>130729</td>\n",
       "      <td>130729</td>\n",
       "      <td>130729</td>\n",
       "      <td>...</td>\n",
       "      <td>130729</td>\n",
       "      <td>130729</td>\n",
       "      <td>130729</td>\n",
       "      <td>130729</td>\n",
       "      <td>130729</td>\n",
       "      <td>130729</td>\n",
       "      <td>130729</td>\n",
       "      <td>130729</td>\n",
       "      <td>130729</td>\n",
       "      <td>130729</td>\n",
       "    </tr>\n",
       "    <tr>\n",
       "      <th>gas_transport</th>\n",
       "      <td>188029</td>\n",
       "      <td>188029</td>\n",
       "      <td>188029</td>\n",
       "      <td>188029</td>\n",
       "      <td>188029</td>\n",
       "      <td>188029</td>\n",
       "      <td>188029</td>\n",
       "      <td>188029</td>\n",
       "      <td>188029</td>\n",
       "      <td>188029</td>\n",
       "      <td>...</td>\n",
       "      <td>188029</td>\n",
       "      <td>188029</td>\n",
       "      <td>188029</td>\n",
       "      <td>188029</td>\n",
       "      <td>188029</td>\n",
       "      <td>188029</td>\n",
       "      <td>188029</td>\n",
       "      <td>188029</td>\n",
       "      <td>188029</td>\n",
       "      <td>188029</td>\n",
       "    </tr>\n",
       "    <tr>\n",
       "      <th>grocery_net</th>\n",
       "      <td>64878</td>\n",
       "      <td>64878</td>\n",
       "      <td>64878</td>\n",
       "      <td>64878</td>\n",
       "      <td>64878</td>\n",
       "      <td>64878</td>\n",
       "      <td>64878</td>\n",
       "      <td>64878</td>\n",
       "      <td>64878</td>\n",
       "      <td>64878</td>\n",
       "      <td>...</td>\n",
       "      <td>64878</td>\n",
       "      <td>64878</td>\n",
       "      <td>64878</td>\n",
       "      <td>64878</td>\n",
       "      <td>64878</td>\n",
       "      <td>64878</td>\n",
       "      <td>64878</td>\n",
       "      <td>64878</td>\n",
       "      <td>64878</td>\n",
       "      <td>64878</td>\n",
       "    </tr>\n",
       "    <tr>\n",
       "      <th>grocery_pos</th>\n",
       "      <td>176191</td>\n",
       "      <td>176191</td>\n",
       "      <td>176191</td>\n",
       "      <td>176191</td>\n",
       "      <td>176191</td>\n",
       "      <td>176191</td>\n",
       "      <td>176191</td>\n",
       "      <td>176191</td>\n",
       "      <td>176191</td>\n",
       "      <td>176191</td>\n",
       "      <td>...</td>\n",
       "      <td>176191</td>\n",
       "      <td>176191</td>\n",
       "      <td>176191</td>\n",
       "      <td>176191</td>\n",
       "      <td>176191</td>\n",
       "      <td>176191</td>\n",
       "      <td>176191</td>\n",
       "      <td>176191</td>\n",
       "      <td>176191</td>\n",
       "      <td>176191</td>\n",
       "    </tr>\n",
       "    <tr>\n",
       "      <th>health_fitness</th>\n",
       "      <td>122553</td>\n",
       "      <td>122553</td>\n",
       "      <td>122553</td>\n",
       "      <td>122553</td>\n",
       "      <td>122553</td>\n",
       "      <td>122553</td>\n",
       "      <td>122553</td>\n",
       "      <td>122553</td>\n",
       "      <td>122553</td>\n",
       "      <td>122553</td>\n",
       "      <td>...</td>\n",
       "      <td>122553</td>\n",
       "      <td>122553</td>\n",
       "      <td>122553</td>\n",
       "      <td>122553</td>\n",
       "      <td>122553</td>\n",
       "      <td>122553</td>\n",
       "      <td>122553</td>\n",
       "      <td>122553</td>\n",
       "      <td>122553</td>\n",
       "      <td>122553</td>\n",
       "    </tr>\n",
       "    <tr>\n",
       "      <th>home</th>\n",
       "      <td>175460</td>\n",
       "      <td>175460</td>\n",
       "      <td>175460</td>\n",
       "      <td>175460</td>\n",
       "      <td>175460</td>\n",
       "      <td>175460</td>\n",
       "      <td>175460</td>\n",
       "      <td>175460</td>\n",
       "      <td>175460</td>\n",
       "      <td>175460</td>\n",
       "      <td>...</td>\n",
       "      <td>175460</td>\n",
       "      <td>175460</td>\n",
       "      <td>175460</td>\n",
       "      <td>175460</td>\n",
       "      <td>175460</td>\n",
       "      <td>175460</td>\n",
       "      <td>175460</td>\n",
       "      <td>175460</td>\n",
       "      <td>175460</td>\n",
       "      <td>175460</td>\n",
       "    </tr>\n",
       "    <tr>\n",
       "      <th>kids_pets</th>\n",
       "      <td>161727</td>\n",
       "      <td>161727</td>\n",
       "      <td>161727</td>\n",
       "      <td>161727</td>\n",
       "      <td>161727</td>\n",
       "      <td>161727</td>\n",
       "      <td>161727</td>\n",
       "      <td>161727</td>\n",
       "      <td>161727</td>\n",
       "      <td>161727</td>\n",
       "      <td>...</td>\n",
       "      <td>161727</td>\n",
       "      <td>161727</td>\n",
       "      <td>161727</td>\n",
       "      <td>161727</td>\n",
       "      <td>161727</td>\n",
       "      <td>161727</td>\n",
       "      <td>161727</td>\n",
       "      <td>161727</td>\n",
       "      <td>161727</td>\n",
       "      <td>161727</td>\n",
       "    </tr>\n",
       "    <tr>\n",
       "      <th>misc_net</th>\n",
       "      <td>90654</td>\n",
       "      <td>90654</td>\n",
       "      <td>90654</td>\n",
       "      <td>90654</td>\n",
       "      <td>90654</td>\n",
       "      <td>90654</td>\n",
       "      <td>90654</td>\n",
       "      <td>90654</td>\n",
       "      <td>90654</td>\n",
       "      <td>90654</td>\n",
       "      <td>...</td>\n",
       "      <td>90654</td>\n",
       "      <td>90654</td>\n",
       "      <td>90654</td>\n",
       "      <td>90654</td>\n",
       "      <td>90654</td>\n",
       "      <td>90654</td>\n",
       "      <td>90654</td>\n",
       "      <td>90654</td>\n",
       "      <td>90654</td>\n",
       "      <td>90654</td>\n",
       "    </tr>\n",
       "    <tr>\n",
       "      <th>misc_pos</th>\n",
       "      <td>114229</td>\n",
       "      <td>114229</td>\n",
       "      <td>114229</td>\n",
       "      <td>114229</td>\n",
       "      <td>114229</td>\n",
       "      <td>114229</td>\n",
       "      <td>114229</td>\n",
       "      <td>114229</td>\n",
       "      <td>114229</td>\n",
       "      <td>114229</td>\n",
       "      <td>...</td>\n",
       "      <td>114229</td>\n",
       "      <td>114229</td>\n",
       "      <td>114229</td>\n",
       "      <td>114229</td>\n",
       "      <td>114229</td>\n",
       "      <td>114229</td>\n",
       "      <td>114229</td>\n",
       "      <td>114229</td>\n",
       "      <td>114229</td>\n",
       "      <td>114229</td>\n",
       "    </tr>\n",
       "    <tr>\n",
       "      <th>personal_care</th>\n",
       "      <td>130085</td>\n",
       "      <td>130085</td>\n",
       "      <td>130085</td>\n",
       "      <td>130085</td>\n",
       "      <td>130085</td>\n",
       "      <td>130085</td>\n",
       "      <td>130085</td>\n",
       "      <td>130085</td>\n",
       "      <td>130085</td>\n",
       "      <td>130085</td>\n",
       "      <td>...</td>\n",
       "      <td>130085</td>\n",
       "      <td>130085</td>\n",
       "      <td>130085</td>\n",
       "      <td>130085</td>\n",
       "      <td>130085</td>\n",
       "      <td>130085</td>\n",
       "      <td>130085</td>\n",
       "      <td>130085</td>\n",
       "      <td>130085</td>\n",
       "      <td>130085</td>\n",
       "    </tr>\n",
       "    <tr>\n",
       "      <th>shopping_net</th>\n",
       "      <td>139322</td>\n",
       "      <td>139322</td>\n",
       "      <td>139322</td>\n",
       "      <td>139322</td>\n",
       "      <td>139322</td>\n",
       "      <td>139322</td>\n",
       "      <td>139322</td>\n",
       "      <td>139322</td>\n",
       "      <td>139322</td>\n",
       "      <td>139322</td>\n",
       "      <td>...</td>\n",
       "      <td>139322</td>\n",
       "      <td>139322</td>\n",
       "      <td>139322</td>\n",
       "      <td>139322</td>\n",
       "      <td>139322</td>\n",
       "      <td>139322</td>\n",
       "      <td>139322</td>\n",
       "      <td>139322</td>\n",
       "      <td>139322</td>\n",
       "      <td>139322</td>\n",
       "    </tr>\n",
       "    <tr>\n",
       "      <th>shopping_pos</th>\n",
       "      <td>166463</td>\n",
       "      <td>166463</td>\n",
       "      <td>166463</td>\n",
       "      <td>166463</td>\n",
       "      <td>166463</td>\n",
       "      <td>166463</td>\n",
       "      <td>166463</td>\n",
       "      <td>166463</td>\n",
       "      <td>166463</td>\n",
       "      <td>166463</td>\n",
       "      <td>...</td>\n",
       "      <td>166463</td>\n",
       "      <td>166463</td>\n",
       "      <td>166463</td>\n",
       "      <td>166463</td>\n",
       "      <td>166463</td>\n",
       "      <td>166463</td>\n",
       "      <td>166463</td>\n",
       "      <td>166463</td>\n",
       "      <td>166463</td>\n",
       "      <td>166463</td>\n",
       "    </tr>\n",
       "    <tr>\n",
       "      <th>travel</th>\n",
       "      <td>57956</td>\n",
       "      <td>57956</td>\n",
       "      <td>57956</td>\n",
       "      <td>57956</td>\n",
       "      <td>57956</td>\n",
       "      <td>57956</td>\n",
       "      <td>57956</td>\n",
       "      <td>57956</td>\n",
       "      <td>57956</td>\n",
       "      <td>57956</td>\n",
       "      <td>...</td>\n",
       "      <td>57956</td>\n",
       "      <td>57956</td>\n",
       "      <td>57956</td>\n",
       "      <td>57956</td>\n",
       "      <td>57956</td>\n",
       "      <td>57956</td>\n",
       "      <td>57956</td>\n",
       "      <td>57956</td>\n",
       "      <td>57956</td>\n",
       "      <td>57956</td>\n",
       "    </tr>\n",
       "  </tbody>\n",
       "</table>\n",
       "<p>14 rows × 21 columns</p>\n",
       "</div>"
      ],
      "text/plain": [
       "                trans_date_trans_time  cc_num  merchant     amt   first  \\\n",
       "category                                                                  \n",
       "entertainment                  134118  134118    134118  134118  134118   \n",
       "food_dining                    130729  130729    130729  130729  130729   \n",
       "gas_transport                  188029  188029    188029  188029  188029   \n",
       "grocery_net                     64878   64878     64878   64878   64878   \n",
       "grocery_pos                    176191  176191    176191  176191  176191   \n",
       "health_fitness                 122553  122553    122553  122553  122553   \n",
       "home                           175460  175460    175460  175460  175460   \n",
       "kids_pets                      161727  161727    161727  161727  161727   \n",
       "misc_net                        90654   90654     90654   90654   90654   \n",
       "misc_pos                       114229  114229    114229  114229  114229   \n",
       "personal_care                  130085  130085    130085  130085  130085   \n",
       "shopping_net                   139322  139322    139322  139322  139322   \n",
       "shopping_pos                   166463  166463    166463  166463  166463   \n",
       "travel                          57956   57956     57956   57956   57956   \n",
       "\n",
       "                  last  gender  street    city   state  ...     lat    long  \\\n",
       "category                                                ...                   \n",
       "entertainment   134118  134118  134118  134118  134118  ...  134118  134118   \n",
       "food_dining     130729  130729  130729  130729  130729  ...  130729  130729   \n",
       "gas_transport   188029  188029  188029  188029  188029  ...  188029  188029   \n",
       "grocery_net      64878   64878   64878   64878   64878  ...   64878   64878   \n",
       "grocery_pos     176191  176191  176191  176191  176191  ...  176191  176191   \n",
       "health_fitness  122553  122553  122553  122553  122553  ...  122553  122553   \n",
       "home            175460  175460  175460  175460  175460  ...  175460  175460   \n",
       "kids_pets       161727  161727  161727  161727  161727  ...  161727  161727   \n",
       "misc_net         90654   90654   90654   90654   90654  ...   90654   90654   \n",
       "misc_pos        114229  114229  114229  114229  114229  ...  114229  114229   \n",
       "personal_care   130085  130085  130085  130085  130085  ...  130085  130085   \n",
       "shopping_net    139322  139322  139322  139322  139322  ...  139322  139322   \n",
       "shopping_pos    166463  166463  166463  166463  166463  ...  166463  166463   \n",
       "travel           57956   57956   57956   57956   57956  ...   57956   57956   \n",
       "\n",
       "                city_pop     job     dob  trans_num  unix_time  merch_lat  \\\n",
       "category                                                                    \n",
       "entertainment     134118  134118  134118     134118     134118     134118   \n",
       "food_dining       130729  130729  130729     130729     130729     130729   \n",
       "gas_transport     188029  188029  188029     188029     188029     188029   \n",
       "grocery_net        64878   64878   64878      64878      64878      64878   \n",
       "grocery_pos       176191  176191  176191     176191     176191     176191   \n",
       "health_fitness    122553  122553  122553     122553     122553     122553   \n",
       "home              175460  175460  175460     175460     175460     175460   \n",
       "kids_pets         161727  161727  161727     161727     161727     161727   \n",
       "misc_net           90654   90654   90654      90654      90654      90654   \n",
       "misc_pos          114229  114229  114229     114229     114229     114229   \n",
       "personal_care     130085  130085  130085     130085     130085     130085   \n",
       "shopping_net      139322  139322  139322     139322     139322     139322   \n",
       "shopping_pos      166463  166463  166463     166463     166463     166463   \n",
       "travel             57956   57956   57956      57956      57956      57956   \n",
       "\n",
       "                merch_long  is_fraud  \n",
       "category                              \n",
       "entertainment       134118    134118  \n",
       "food_dining         130729    130729  \n",
       "gas_transport       188029    188029  \n",
       "grocery_net          64878     64878  \n",
       "grocery_pos         176191    176191  \n",
       "health_fitness      122553    122553  \n",
       "home                175460    175460  \n",
       "kids_pets           161727    161727  \n",
       "misc_net             90654     90654  \n",
       "misc_pos            114229    114229  \n",
       "personal_care       130085    130085  \n",
       "shopping_net        139322    139322  \n",
       "shopping_pos        166463    166463  \n",
       "travel               57956     57956  \n",
       "\n",
       "[14 rows x 21 columns]"
      ]
     },
     "execution_count": 12,
     "metadata": {},
     "output_type": "execute_result"
    }
   ],
   "source": [
    "dataset.groupby('category').count()"
   ]
  },
  {
   "cell_type": "code",
   "execution_count": null,
   "metadata": {},
   "outputs": [],
   "source": []
  },
  {
   "cell_type": "markdown",
   "metadata": {},
   "source": [
    "#### Creating engineered feature"
   ]
  },
  {
   "cell_type": "markdown",
   "metadata": {},
   "source": [
    "##### Time based engineered features"
   ]
  },
  {
   "cell_type": "code",
   "execution_count": 13,
   "metadata": {},
   "outputs": [],
   "source": [
    "dataset['trans_date_trans_time'] = dataset['trans_date_trans_time'].astype('datetime64[ns]')"
   ]
  },
  {
   "cell_type": "code",
   "execution_count": 14,
   "metadata": {},
   "outputs": [],
   "source": [
    "## Create year of the day feature\n",
    "dataset['year'] = dataset['trans_date_trans_time'].dt.year\n",
    "## Create hour of the day feature\n",
    "dataset['month'] = dataset['trans_date_trans_time'].dt.month_name()\n",
    "## Create hour of the day feature\n",
    "dataset['day_of_month'] = dataset['trans_date_trans_time'].dt.day\n",
    "## Create days of the week feature\n",
    "dataset['day_of_week'] = dataset['trans_date_trans_time'].dt.day_name()\n",
    "## Create hour of the day feature\n",
    "dataset['hour'] = dataset['trans_date_trans_time'].dt.hour"
   ]
  },
  {
   "cell_type": "code",
   "execution_count": 15,
   "metadata": {
    "scrolled": true
   },
   "outputs": [
    {
     "data": {
      "text/html": [
       "<div>\n",
       "<style scoped>\n",
       "    .dataframe tbody tr th:only-of-type {\n",
       "        vertical-align: middle;\n",
       "    }\n",
       "\n",
       "    .dataframe tbody tr th {\n",
       "        vertical-align: top;\n",
       "    }\n",
       "\n",
       "    .dataframe thead th {\n",
       "        text-align: right;\n",
       "    }\n",
       "</style>\n",
       "<table border=\"1\" class=\"dataframe\">\n",
       "  <thead>\n",
       "    <tr style=\"text-align: right;\">\n",
       "      <th></th>\n",
       "      <th>trans_date_trans_time</th>\n",
       "      <th>cc_num</th>\n",
       "      <th>merchant</th>\n",
       "      <th>category</th>\n",
       "      <th>amt</th>\n",
       "      <th>first</th>\n",
       "      <th>last</th>\n",
       "      <th>gender</th>\n",
       "      <th>street</th>\n",
       "      <th>city</th>\n",
       "      <th>...</th>\n",
       "      <th>trans_num</th>\n",
       "      <th>unix_time</th>\n",
       "      <th>merch_lat</th>\n",
       "      <th>merch_long</th>\n",
       "      <th>is_fraud</th>\n",
       "      <th>year</th>\n",
       "      <th>month</th>\n",
       "      <th>day_of_month</th>\n",
       "      <th>day_of_week</th>\n",
       "      <th>hour</th>\n",
       "    </tr>\n",
       "  </thead>\n",
       "  <tbody>\n",
       "    <tr>\n",
       "      <th>0</th>\n",
       "      <td>2019-01-01 00:00:18</td>\n",
       "      <td>2703186189652095</td>\n",
       "      <td>fraud_Rippin, Kub and Mann</td>\n",
       "      <td>misc_net</td>\n",
       "      <td>4.97</td>\n",
       "      <td>Jennifer</td>\n",
       "      <td>Banks</td>\n",
       "      <td>F</td>\n",
       "      <td>561 Perry Cove</td>\n",
       "      <td>Moravian Falls</td>\n",
       "      <td>...</td>\n",
       "      <td>0b242abb623afc578575680df30655b9</td>\n",
       "      <td>1325376018</td>\n",
       "      <td>36.011293</td>\n",
       "      <td>-82.048315</td>\n",
       "      <td>0</td>\n",
       "      <td>2019</td>\n",
       "      <td>January</td>\n",
       "      <td>1</td>\n",
       "      <td>Tuesday</td>\n",
       "      <td>0</td>\n",
       "    </tr>\n",
       "  </tbody>\n",
       "</table>\n",
       "<p>1 rows × 27 columns</p>\n",
       "</div>"
      ],
      "text/plain": [
       "  trans_date_trans_time            cc_num                    merchant  \\\n",
       "0   2019-01-01 00:00:18  2703186189652095  fraud_Rippin, Kub and Mann   \n",
       "\n",
       "   category   amt     first   last gender          street            city  \\\n",
       "0  misc_net  4.97  Jennifer  Banks      F  561 Perry Cove  Moravian Falls   \n",
       "\n",
       "   ...                         trans_num   unix_time  merch_lat  merch_long  \\\n",
       "0  ...  0b242abb623afc578575680df30655b9  1325376018  36.011293  -82.048315   \n",
       "\n",
       "   is_fraud  year    month day_of_month  day_of_week  hour  \n",
       "0         0  2019  January            1      Tuesday     0  \n",
       "\n",
       "[1 rows x 27 columns]"
      ]
     },
     "execution_count": 15,
     "metadata": {},
     "output_type": "execute_result"
    }
   ],
   "source": [
    "dataset.head(1)"
   ]
  },
  {
   "cell_type": "markdown",
   "metadata": {},
   "source": [
    "##### Re-engineer the merchant (remove fraud)"
   ]
  },
  {
   "cell_type": "code",
   "execution_count": 16,
   "metadata": {},
   "outputs": [],
   "source": [
    "def reengineer_merchant(merchant):\n",
    "    return merchant.replace('fraud_','').strip()"
   ]
  },
  {
   "cell_type": "code",
   "execution_count": 17,
   "metadata": {},
   "outputs": [],
   "source": [
    "dataset['merchant_r'] = dataset['merchant'].apply(reengineer_merchant)"
   ]
  },
  {
   "cell_type": "markdown",
   "metadata": {},
   "source": [
    "##### Create an age feature"
   ]
  },
  {
   "cell_type": "code",
   "execution_count": 18,
   "metadata": {},
   "outputs": [],
   "source": [
    "dataset['dob'] = dataset['dob'].astype('datetime64[ns]')"
   ]
  },
  {
   "cell_type": "code",
   "execution_count": 19,
   "metadata": {},
   "outputs": [],
   "source": [
    "dataset['age'] = dataset['trans_date_trans_time'].dt.year - dataset['dob'].dt.year"
   ]
  },
  {
   "cell_type": "markdown",
   "metadata": {},
   "source": [
    "##### Create full name"
   ]
  },
  {
   "cell_type": "code",
   "execution_count": 20,
   "metadata": {},
   "outputs": [],
   "source": [
    "dataset['full_name'] = dataset['first'] + '' + dataset['last']"
   ]
  },
  {
   "cell_type": "markdown",
   "metadata": {},
   "source": [
    "##### Create GPS"
   ]
  },
  {
   "cell_type": "code",
   "execution_count": 21,
   "metadata": {},
   "outputs": [],
   "source": [
    "dataset['GPS'] =dataset['lat'].astype('string') + ',' + dataset['long'].astype('string')\n",
    "dataset['merch_GPS'] =dataset['merch_lat'].astype('string') + ',' + dataset['merch_long'].astype('string')"
   ]
  },
  {
   "cell_type": "markdown",
   "metadata": {},
   "source": [
    "##### Convert lat and long to radians"
   ]
  },
  {
   "cell_type": "code",
   "execution_count": 22,
   "metadata": {},
   "outputs": [],
   "source": [
    "dataset[\"lat\"] = np.radians(dataset[\"lat\"])\n",
    "dataset[\"long\"] = np.radians(dataset[\"long\"])\n",
    "dataset[\"merch_lat\"] = np.radians(dataset[\"merch_lat\"])\n",
    "dataset[\"merch_long\"] = np.radians(dataset[\"merch_long\"])"
   ]
  },
  {
   "cell_type": "code",
   "execution_count": null,
   "metadata": {},
   "outputs": [],
   "source": []
  },
  {
   "cell_type": "markdown",
   "metadata": {
    "id": "CriG6VzVSjcK"
   },
   "source": [
    "#### Encoding categorical data"
   ]
  },
  {
   "cell_type": "markdown",
   "metadata": {},
   "source": [
    "##### 1. Encode day of the week"
   ]
  },
  {
   "cell_type": "code",
   "execution_count": 23,
   "metadata": {},
   "outputs": [],
   "source": [
    "# Encoding day of the week\n",
    "def encode_dayofweek(day_of_week):\n",
    "    if day_of_week==\"Monday\":\n",
    "        return 1\n",
    "    if day_of_week==\"Tuesday\":\n",
    "        return 2\n",
    "    if day_of_week==\"Wednesday\":\n",
    "        return 3\n",
    "    if day_of_week==\"Thursday\":\n",
    "        return 4\n",
    "    if day_of_week==\"Friday\":\n",
    "        return 5\n",
    "    if day_of_week==\"Saturday\":\n",
    "        return 6\n",
    "    if day_of_week==\"Sunday\":\n",
    "        return 7"
   ]
  },
  {
   "cell_type": "code",
   "execution_count": 24,
   "metadata": {},
   "outputs": [],
   "source": [
    "dataset['day_of_week_num'] = dataset['day_of_week'].apply(encode_dayofweek)"
   ]
  },
  {
   "cell_type": "markdown",
   "metadata": {},
   "source": [
    "##### 2. Encode month"
   ]
  },
  {
   "cell_type": "code",
   "execution_count": 25,
   "metadata": {},
   "outputs": [],
   "source": [
    "# Encoding day of the we\n",
    "def encode_month(month):\n",
    "    if month==\"January\":\n",
    "        return 1\n",
    "    if month==\"February\":\n",
    "        return 2\n",
    "    if month==\"March\":\n",
    "        return 3\n",
    "    if month==\"April\":\n",
    "        return 4\n",
    "    if month==\"May\":\n",
    "        return 5\n",
    "    if month==\"June\":\n",
    "        return 6\n",
    "    if month==\"July\":\n",
    "        return 7\n",
    "    if month==\"August\":\n",
    "        return 8\n",
    "    if month==\"September\":\n",
    "        return 9\n",
    "    if month==\"October\":\n",
    "        return 10\n",
    "    if month==\"November\":\n",
    "        return 11\n",
    "    if month==\"December\":\n",
    "        return 12"
   ]
  },
  {
   "cell_type": "code",
   "execution_count": 26,
   "metadata": {},
   "outputs": [],
   "source": [
    "dataset['month_num'] = dataset['month'].apply(encode_month)"
   ]
  },
  {
   "cell_type": "markdown",
   "metadata": {},
   "source": [
    "##### Encode gender"
   ]
  },
  {
   "cell_type": "code",
   "execution_count": 27,
   "metadata": {},
   "outputs": [],
   "source": [
    "from sklearn.preprocessing import LabelEncoder\n",
    "le = LabelEncoder()\n",
    "dataset['gender_num'] = le.fit_transform(dataset['gender'])"
   ]
  },
  {
   "cell_type": "code",
   "execution_count": null,
   "metadata": {},
   "outputs": [],
   "source": []
  },
  {
   "cell_type": "markdown",
   "metadata": {},
   "source": [
    "#### Drop unused features"
   ]
  },
  {
   "cell_type": "code",
   "execution_count": 28,
   "metadata": {},
   "outputs": [],
   "source": [
    "dataset_new = dataset.drop(['trans_date_trans_time','merchant', 'first', 'last', 'dob', 'trans_num', 'gender', \n",
    "                            'month', 'day_of_week', 'GPS', 'merch_GPS'], axis=1)"
   ]
  },
  {
   "cell_type": "code",
   "execution_count": 29,
   "metadata": {},
   "outputs": [
    {
     "data": {
      "text/html": [
       "<div>\n",
       "<style scoped>\n",
       "    .dataframe tbody tr th:only-of-type {\n",
       "        vertical-align: middle;\n",
       "    }\n",
       "\n",
       "    .dataframe tbody tr th {\n",
       "        vertical-align: top;\n",
       "    }\n",
       "\n",
       "    .dataframe thead th {\n",
       "        text-align: right;\n",
       "    }\n",
       "</style>\n",
       "<table border=\"1\" class=\"dataframe\">\n",
       "  <thead>\n",
       "    <tr style=\"text-align: right;\">\n",
       "      <th></th>\n",
       "      <th>cc_num</th>\n",
       "      <th>category</th>\n",
       "      <th>amt</th>\n",
       "      <th>street</th>\n",
       "      <th>city</th>\n",
       "      <th>state</th>\n",
       "      <th>zip</th>\n",
       "      <th>lat</th>\n",
       "      <th>long</th>\n",
       "      <th>city_pop</th>\n",
       "      <th>...</th>\n",
       "      <th>is_fraud</th>\n",
       "      <th>year</th>\n",
       "      <th>day_of_month</th>\n",
       "      <th>hour</th>\n",
       "      <th>merchant_r</th>\n",
       "      <th>age</th>\n",
       "      <th>full_name</th>\n",
       "      <th>day_of_week_num</th>\n",
       "      <th>month_num</th>\n",
       "      <th>gender_num</th>\n",
       "    </tr>\n",
       "  </thead>\n",
       "  <tbody>\n",
       "    <tr>\n",
       "      <th>0</th>\n",
       "      <td>2703186189652095</td>\n",
       "      <td>misc_net</td>\n",
       "      <td>4.97</td>\n",
       "      <td>561 Perry Cove</td>\n",
       "      <td>Moravian Falls</td>\n",
       "      <td>NC</td>\n",
       "      <td>28654</td>\n",
       "      <td>0.629694</td>\n",
       "      <td>-1.416825</td>\n",
       "      <td>3495</td>\n",
       "      <td>...</td>\n",
       "      <td>0</td>\n",
       "      <td>2019</td>\n",
       "      <td>1</td>\n",
       "      <td>0</td>\n",
       "      <td>Rippin, Kub and Mann</td>\n",
       "      <td>31</td>\n",
       "      <td>JenniferBanks</td>\n",
       "      <td>2</td>\n",
       "      <td>1</td>\n",
       "      <td>0</td>\n",
       "    </tr>\n",
       "  </tbody>\n",
       "</table>\n",
       "<p>1 rows × 24 columns</p>\n",
       "</div>"
      ],
      "text/plain": [
       "             cc_num  category   amt          street            city state  \\\n",
       "0  2703186189652095  misc_net  4.97  561 Perry Cove  Moravian Falls    NC   \n",
       "\n",
       "     zip       lat      long  city_pop  ... is_fraud  year  day_of_month  \\\n",
       "0  28654  0.629694 -1.416825      3495  ...        0  2019             1   \n",
       "\n",
       "   hour            merchant_r  age      full_name  day_of_week_num month_num  \\\n",
       "0     0  Rippin, Kub and Mann   31  JenniferBanks                2         1   \n",
       "\n",
       "   gender_num  \n",
       "0           0  \n",
       "\n",
       "[1 rows x 24 columns]"
      ]
     },
     "execution_count": 29,
     "metadata": {},
     "output_type": "execute_result"
    }
   ],
   "source": [
    "dataset_new.head(1)"
   ]
  },
  {
   "cell_type": "code",
   "execution_count": 30,
   "metadata": {},
   "outputs": [
    {
     "name": "stdout",
     "output_type": "stream",
     "text": [
      "<class 'pandas.core.frame.DataFrame'>\n",
      "Index: 1852394 entries, 0 to 555718\n",
      "Data columns (total 24 columns):\n",
      " #   Column           Dtype  \n",
      "---  ------           -----  \n",
      " 0   cc_num           int64  \n",
      " 1   category         object \n",
      " 2   amt              float64\n",
      " 3   street           object \n",
      " 4   city             object \n",
      " 5   state            object \n",
      " 6   zip              int64  \n",
      " 7   lat              float64\n",
      " 8   long             float64\n",
      " 9   city_pop         int64  \n",
      " 10  job              object \n",
      " 11  unix_time        int64  \n",
      " 12  merch_lat        float64\n",
      " 13  merch_long       float64\n",
      " 14  is_fraud         int64  \n",
      " 15  year             int32  \n",
      " 16  day_of_month     int32  \n",
      " 17  hour             int32  \n",
      " 18  merchant_r       object \n",
      " 19  age              int32  \n",
      " 20  full_name        object \n",
      " 21  day_of_week_num  int64  \n",
      " 22  month_num        int64  \n",
      " 23  gender_num       int32  \n",
      "dtypes: float64(5), int32(5), int64(7), object(7)\n",
      "memory usage: 318.0+ MB\n"
     ]
    }
   ],
   "source": [
    "dataset_new.info()"
   ]
  },
  {
   "cell_type": "code",
   "execution_count": null,
   "metadata": {},
   "outputs": [],
   "source": []
  },
  {
   "cell_type": "markdown",
   "metadata": {
    "id": "AhSpdQWeSsFh"
   },
   "source": [
    "#### Encoding the Independent Variable"
   ]
  },
  {
   "cell_type": "code",
   "execution_count": 31,
   "metadata": {},
   "outputs": [],
   "source": [
    "### make cc_num and zip categorical\n",
    "dataset_new['cc_num'] = dataset_new['cc_num'].astype('category')\n",
    "dataset_new['zip'] = dataset_new['zip'].astype('category')"
   ]
  },
  {
   "cell_type": "code",
   "execution_count": 32,
   "metadata": {},
   "outputs": [],
   "source": [
    "dataset_new2 = dataset_new.drop('is_fraud',axis=1)\n",
    "cat_features = [dataset_new2.columns.get_loc('cc_num'), dataset_new2.columns.get_loc('category'),  dataset_new2.columns.get_loc('street'), \n",
    "                dataset_new2.columns.get_loc('city'), dataset_new2.columns.get_loc('state'), dataset_new2.columns.get_loc('job'), \n",
    "                dataset_new2.columns.get_loc('merchant_r'), dataset_new2.columns.get_loc('full_name')]"
   ]
  },
  {
   "cell_type": "code",
   "execution_count": 33,
   "metadata": {},
   "outputs": [
    {
     "data": {
      "text/plain": [
       "[0, 1, 3, 4, 5, 10, 17, 19]"
      ]
     },
     "execution_count": 33,
     "metadata": {},
     "output_type": "execute_result"
    }
   ],
   "source": [
    "cat_features"
   ]
  },
  {
   "cell_type": "code",
   "execution_count": 34,
   "metadata": {},
   "outputs": [],
   "source": [
    "X = dataset_new.drop('is_fraud',axis=1).values\n",
    "y = dataset_new['is_fraud'].values"
   ]
  },
  {
   "cell_type": "code",
   "execution_count": 35,
   "metadata": {},
   "outputs": [
    {
     "data": {
      "text/plain": [
       "array([2703186189652095, 'misc_net', 4.97, '561 Perry Cove',\n",
       "       'Moravian Falls', 'NC', 28654, 0.6296938501685302,\n",
       "       -1.416825125513209, 3495, 'Psychologist, counselling', 1325376018,\n",
       "       0.6285156307503864, -1.4320132424634513, 2019, 1, 0,\n",
       "       'Rippin, Kub and Mann', 31, 'JenniferBanks', 2, 1, 0], dtype=object)"
      ]
     },
     "execution_count": 35,
     "metadata": {},
     "output_type": "execute_result"
    }
   ],
   "source": [
    "X[0]"
   ]
  },
  {
   "cell_type": "code",
   "execution_count": 36,
   "metadata": {
    "id": "5hwuVddlSwVi"
   },
   "outputs": [],
   "source": [
    "from sklearn.compose import ColumnTransformer\n",
    "from sklearn.preprocessing import OneHotEncoder\n",
    "ct = ColumnTransformer(transformers=[('encoder', OneHotEncoder(),cat_features)], remainder='passthrough')\n",
    "X = ct.fit_transform(X)"
   ]
  },
  {
   "cell_type": "code",
   "execution_count": 37,
   "metadata": {
    "id": "f7QspewyeBfx"
   },
   "outputs": [
    {
     "name": "stdout",
     "output_type": "stream",
     "text": [
      "  (0, 454)\t1.0\n",
      "  (0, 1007)\t1.0\n",
      "  (0, 1589)\t1.0\n",
      "  (0, 2544)\t1.0\n",
      "  (0, 2945)\t1.0\n",
      "  (0, 3341)\t1.0\n",
      "  (0, 3980)\t1.0\n",
      "  (0, 4582)\t1.0\n",
      "  (0, 5148)\t4.97\n",
      "  (0, 5149)\t28654.0\n",
      "  (0, 5150)\t0.6296938501685302\n",
      "  (0, 5151)\t-1.416825125513209\n",
      "  (0, 5152)\t3495.0\n",
      "  (0, 5153)\t1325376018.0\n",
      "  (0, 5154)\t0.6285156307503864\n",
      "  (0, 5155)\t-1.4320132424634513\n",
      "  (0, 5156)\t2019.0\n",
      "  (0, 5157)\t1.0\n",
      "  (0, 5159)\t31.0\n",
      "  (0, 5160)\t2.0\n",
      "  (0, 5161)\t1.0\n"
     ]
    }
   ],
   "source": [
    "print(X[0])"
   ]
  },
  {
   "cell_type": "markdown",
   "metadata": {
    "id": "DXh8oVSITIc6"
   },
   "source": [
    "### Encoding the Dependent Variable"
   ]
  },
  {
   "cell_type": "code",
   "execution_count": 38,
   "metadata": {
    "id": "XgHCShVyTOYY"
   },
   "outputs": [],
   "source": [
    "from sklearn.preprocessing import LabelEncoder\n",
    "le = LabelEncoder()\n",
    "y = le.fit_transform(y)"
   ]
  },
  {
   "cell_type": "code",
   "execution_count": 39,
   "metadata": {
    "id": "FyhY8-gPpFCa"
   },
   "outputs": [
    {
     "name": "stdout",
     "output_type": "stream",
     "text": [
      "0\n"
     ]
    }
   ],
   "source": [
    "print(y[0])"
   ]
  },
  {
   "cell_type": "code",
   "execution_count": null,
   "metadata": {},
   "outputs": [],
   "source": []
  },
  {
   "cell_type": "markdown",
   "metadata": {
    "id": "qb_vcgm3qZKW"
   },
   "source": [
    "## Splitting the dataset into the Training set and Test set"
   ]
  },
  {
   "cell_type": "code",
   "execution_count": 40,
   "metadata": {
    "id": "pXgA6CzlqbCl"
   },
   "outputs": [],
   "source": [
    "from sklearn.model_selection import train_test_split\n",
    "X_train, X_test, y_train, y_test = train_test_split(X, y, test_size = 0.2, random_state = 30, stratify=y)"
   ]
  },
  {
   "cell_type": "code",
   "execution_count": 41,
   "metadata": {
    "id": "GuwQhFdKrYTM"
   },
   "outputs": [],
   "source": [
    "#print(X_train)"
   ]
  },
  {
   "cell_type": "code",
   "execution_count": 42,
   "metadata": {
    "id": "TUrX_Tvcrbi4"
   },
   "outputs": [],
   "source": [
    "#print(X_test)"
   ]
  },
  {
   "cell_type": "code",
   "execution_count": 43,
   "metadata": {
    "id": "pSMHiIsWreQY"
   },
   "outputs": [
    {
     "name": "stdout",
     "output_type": "stream",
     "text": [
      "[0 0 0 ... 0 0 0]\n"
     ]
    }
   ],
   "source": [
    "print(y_train)"
   ]
  },
  {
   "cell_type": "code",
   "execution_count": 44,
   "metadata": {
    "id": "I_tW7H56rgtW"
   },
   "outputs": [
    {
     "name": "stdout",
     "output_type": "stream",
     "text": [
      "[0 0 0 ... 0 0 0]\n"
     ]
    }
   ],
   "source": [
    "print(y_test)"
   ]
  },
  {
   "cell_type": "markdown",
   "metadata": {
    "id": "TpGqbS4TqkIR"
   },
   "source": [
    "#### Feature Scaling"
   ]
  },
  {
   "cell_type": "code",
   "execution_count": 45,
   "metadata": {
    "id": "AxjSUXFQqo-3"
   },
   "outputs": [],
   "source": [
    "from sklearn.preprocessing import StandardScaler\n",
    "sc = StandardScaler(with_mean=False)\n",
    "X_train = sc.fit_transform(X_train)\n",
    "X_test = sc.transform(X_test)"
   ]
  },
  {
   "cell_type": "code",
   "execution_count": 46,
   "metadata": {
    "id": "DWPET8ZdlMnu"
   },
   "outputs": [],
   "source": [
    "#print(X_train)"
   ]
  },
  {
   "cell_type": "code",
   "execution_count": 47,
   "metadata": {
    "id": "sTXykB_QlRjE"
   },
   "outputs": [],
   "source": [
    "#print(X_test)"
   ]
  },
  {
   "cell_type": "code",
   "execution_count": null,
   "metadata": {},
   "outputs": [],
   "source": []
  },
  {
   "cell_type": "markdown",
   "metadata": {},
   "source": [
    "#### Modelling - Train and Test"
   ]
  },
  {
   "cell_type": "code",
   "execution_count": 48,
   "metadata": {},
   "outputs": [],
   "source": [
    "#from datetime import datetime\n",
    "import time"
   ]
  },
  {
   "cell_type": "code",
   "execution_count": 49,
   "metadata": {},
   "outputs": [
    {
     "name": "stdout",
     "output_type": "stream",
     "text": [
      "Training time: 11.360464096069336 seconds\n"
     ]
    }
   ],
   "source": [
    "# Train XGBoost model\n",
    "from xgboost import XGBClassifier\n",
    "startTime = time.time()\n",
    "classifier = XGBClassifier(random_state=30)\n",
    "classifier.fit(X_train, y_train)\n",
    "print(\"Training time: {} seconds\".format(time.time() - startTime))"
   ]
  },
  {
   "cell_type": "code",
   "execution_count": 50,
   "metadata": {},
   "outputs": [],
   "source": [
    "# Predict y given X_test\n",
    "y_pred = classifier.predict(X_test)\n",
    "y_pred_proba = classifier.predict_proba(X_test)"
   ]
  },
  {
   "cell_type": "code",
   "execution_count": 51,
   "metadata": {},
   "outputs": [
    {
     "data": {
      "text/plain": [
       "array([[9.9595696e-01, 4.0430571e-03],\n",
       "       [9.9991173e-01, 8.8264947e-05],\n",
       "       [9.9937582e-01, 6.2420132e-04],\n",
       "       ...,\n",
       "       [9.9994171e-01, 5.8311562e-05],\n",
       "       [9.9998605e-01, 1.3919165e-05],\n",
       "       [9.9999613e-01, 3.8559142e-06]], dtype=float32)"
      ]
     },
     "execution_count": 51,
     "metadata": {},
     "output_type": "execute_result"
    }
   ],
   "source": [
    "y_pred_proba"
   ]
  },
  {
   "cell_type": "markdown",
   "metadata": {},
   "source": [
    "#### Model Evaluation"
   ]
  },
  {
   "cell_type": "code",
   "execution_count": 52,
   "metadata": {},
   "outputs": [
    {
     "name": "stdout",
     "output_type": "stream",
     "text": [
      "XGBoost model AUC (in %): 99.83739593712956\n"
     ]
    }
   ],
   "source": [
    "from sklearn import metrics\n",
    "fpr, tpr, thresholds = metrics.roc_curve(y_test, y_pred_proba[:,1],pos_label=1)\n",
    "auc = metrics.auc(fpr, tpr)\n",
    "print(\"XGBoost model AUC (in %):\", auc*100)"
   ]
  },
  {
   "cell_type": "code",
   "execution_count": 53,
   "metadata": {},
   "outputs": [
    {
     "data": {
      "image/png": "[encoded data removed]",
      "text/plain": [
       "<Figure size 300x200 with 1 Axes>"
      ]
     },
     "metadata": {},
     "output_type": "display_data"
    }
   ],
   "source": [
    "# ROC-AUC Curve\n",
    "# plot roc curves\n",
    "plt.figure(figsize=(3, 2))\n",
    "random_probs = [0 for i in range(len(y_test))]\n",
    "p_fpr, p_tpr, thresholds = metrics.roc_curve(y_test, random_probs, pos_label=1)\n",
    "plt.plot(fpr, tpr, linestyle='--', color='orange')\n",
    "plt.plot(p_fpr, p_tpr, linestyle='--', color='blue')\n",
    "# title\n",
    "plt.title('ROC curve')\n",
    "# x label\n",
    "plt.xlabel('False Positive Rate')\n",
    "# y label\n",
    "plt.ylabel('True Positive rate')\n",
    "plt.show()"
   ]
  },
  {
   "cell_type": "code",
   "execution_count": null,
   "metadata": {},
   "outputs": [],
   "source": []
  },
  {
   "cell_type": "code",
   "execution_count": null,
   "metadata": {},
   "outputs": [],
   "source": []
  },
  {
   "cell_type": "code",
   "execution_count": 54,
   "metadata": {},
   "outputs": [],
   "source": [
    "xxx = pd.DataFrame(y_test)"
   ]
  },
  {
   "cell_type": "code",
   "execution_count": 55,
   "metadata": {},
   "outputs": [],
   "source": [
    "xxx.reset_index(inplace=True)"
   ]
  },
  {
   "cell_type": "code",
   "execution_count": 56,
   "metadata": {},
   "outputs": [
    {
     "data": {
      "text/html": [
       "<div>\n",
       "<style scoped>\n",
       "    .dataframe tbody tr th:only-of-type {\n",
       "        vertical-align: middle;\n",
       "    }\n",
       "\n",
       "    .dataframe tbody tr th {\n",
       "        vertical-align: top;\n",
       "    }\n",
       "\n",
       "    .dataframe thead th {\n",
       "        text-align: right;\n",
       "    }\n",
       "</style>\n",
       "<table border=\"1\" class=\"dataframe\">\n",
       "  <thead>\n",
       "    <tr style=\"text-align: right;\">\n",
       "      <th></th>\n",
       "      <th>index</th>\n",
       "      <th>0</th>\n",
       "    </tr>\n",
       "  </thead>\n",
       "  <tbody>\n",
       "    <tr>\n",
       "      <th>0</th>\n",
       "      <td>0</td>\n",
       "      <td>0</td>\n",
       "    </tr>\n",
       "    <tr>\n",
       "      <th>1</th>\n",
       "      <td>1</td>\n",
       "      <td>0</td>\n",
       "    </tr>\n",
       "    <tr>\n",
       "      <th>2</th>\n",
       "      <td>2</td>\n",
       "      <td>0</td>\n",
       "    </tr>\n",
       "    <tr>\n",
       "      <th>3</th>\n",
       "      <td>3</td>\n",
       "      <td>0</td>\n",
       "    </tr>\n",
       "    <tr>\n",
       "      <th>4</th>\n",
       "      <td>4</td>\n",
       "      <td>0</td>\n",
       "    </tr>\n",
       "  </tbody>\n",
       "</table>\n",
       "</div>"
      ],
      "text/plain": [
       "   index  0\n",
       "0      0  0\n",
       "1      1  0\n",
       "2      2  0\n",
       "3      3  0\n",
       "4      4  0"
      ]
     },
     "execution_count": 56,
     "metadata": {},
     "output_type": "execute_result"
    }
   ],
   "source": [
    "xxx.head()"
   ]
  },
  {
   "cell_type": "code",
   "execution_count": 57,
   "metadata": {},
   "outputs": [
    {
     "data": {
      "text/html": [
       "<div>\n",
       "<style scoped>\n",
       "    .dataframe tbody tr th:only-of-type {\n",
       "        vertical-align: middle;\n",
       "    }\n",
       "\n",
       "    .dataframe tbody tr th {\n",
       "        vertical-align: top;\n",
       "    }\n",
       "\n",
       "    .dataframe thead th {\n",
       "        text-align: right;\n",
       "    }\n",
       "</style>\n",
       "<table border=\"1\" class=\"dataframe\">\n",
       "  <thead>\n",
       "    <tr style=\"text-align: right;\">\n",
       "      <th></th>\n",
       "      <th>index</th>\n",
       "    </tr>\n",
       "    <tr>\n",
       "      <th>0</th>\n",
       "      <th></th>\n",
       "    </tr>\n",
       "  </thead>\n",
       "  <tbody>\n",
       "    <tr>\n",
       "      <th>0</th>\n",
       "      <td>368549</td>\n",
       "    </tr>\n",
       "    <tr>\n",
       "      <th>1</th>\n",
       "      <td>1930</td>\n",
       "    </tr>\n",
       "  </tbody>\n",
       "</table>\n",
       "</div>"
      ],
      "text/plain": [
       "    index\n",
       "0        \n",
       "0  368549\n",
       "1    1930"
      ]
     },
     "execution_count": 57,
     "metadata": {},
     "output_type": "execute_result"
    }
   ],
   "source": [
    "xxx.groupby(0).count()"
   ]
  },
  {
   "cell_type": "code",
   "execution_count": 58,
   "metadata": {},
   "outputs": [
    {
     "name": "stdout",
     "output_type": "stream",
     "text": [
      "0.9947500398133228\n"
     ]
    }
   ],
   "source": [
    "print(368534/(368534+1945))"
   ]
  },
  {
   "cell_type": "code",
   "execution_count": null,
   "metadata": {},
   "outputs": [],
   "source": []
  }
 ],
 "metadata": {
  "colab": {
   "authorship_tag": "ABX9TyOihYlX/ooG5h+qw0sLIjn8",
   "collapsed_sections": [],
   "provenance": []
  },
  "kernelspec": {
   "display_name": "Python 3 (ipykernel)",
   "language": "python",
   "name": "python3"
  },
  "language_info": {
   "codemirror_mode": {
    "name": "ipython",
    "version": 3
   },
   "file_extension": ".py",
   "mimetype": "text/x-python",
   "name": "python",
   "nbconvert_exporter": "python",
   "pygments_lexer": "ipython3",
   "version": "3.12.3"
  }
 },
 "nbformat": 4,
 "nbformat_minor": 4
}
